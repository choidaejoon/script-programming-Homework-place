{
 "cells": [
  {
   "cell_type": "markdown",
   "metadata": {},
   "source": [
    "# 스크립트 프로그래밍 두번째 과제\n",
    "## 2016136133 최대준"
   ]
  },
  {
   "cell_type": "markdown",
   "metadata": {},
   "source": [
    "### 1번문제\n",
    "* 다음 6 개의 Expression에 대해 Evaluation 결과 값을 출력하고, 해당 결과가 나온 이유에 대해 설명하시오.\n",
    " * 1 and 2 and 3 and 4\n",
    " * 1 or 2 or 3 or 4\n",
    " * 1 and 2 or 3 and 4\n",
    " * (1 and 2) or (3 and 4)\n",
    " * 1 or 2 and 3 or 4\n",
    " * (1 or 2) and (3 or 4)"
   ]
  },
  {
   "cell_type": "code",
   "execution_count": 3,
   "metadata": {},
   "outputs": [
    {
     "name": "stdout",
     "output_type": "stream",
     "text": [
      "4\n"
     ]
    }
   ],
   "source": [
    "print(1 and 2 and 3 and 4)"
   ]
  },
  {
   "cell_type": "markdown",
   "metadata": {},
   "source": [
    "설명 : and연산자는 앞에서 부터 연산을 시작하는데 앞에가 0이 아닌값 즉 true이면 뒤에 값을 본다. 따라서 1 and 2는 2가 되고 2 and 3은 3이 되고 3 and 4 4가 된다."
   ]
  },
  {
   "cell_type": "code",
   "execution_count": 16,
   "metadata": {},
   "outputs": [
    {
     "name": "stdout",
     "output_type": "stream",
     "text": [
      "1\n"
     ]
    }
   ],
   "source": [
    "print(1 or 2 or 3 or 4)"
   ]
  },
  {
   "cell_type": "markdown",
   "metadata": {},
   "source": [
    "설명 : or연산자 또한 앞에서 부터 연산을 시작하는데 앞에가 0이 아닌값 즉 true면 뒤에값들을 굳이 볼필요가 없으므로 1을 출력한다."
   ]
  },
  {
   "cell_type": "code",
   "execution_count": 17,
   "metadata": {},
   "outputs": [
    {
     "name": "stdout",
     "output_type": "stream",
     "text": [
      "2\n"
     ]
    }
   ],
   "source": [
    "print(1 and 2 or 3 and 4)"
   ]
  },
  {
   "cell_type": "markdown",
   "metadata": {},
   "source": [
    "설명 : 앞에서부터 연산을 시작하는데 알아야 할것이 있다. and가 or보다 우선순위가 높으므로 먼저 연산을 한다는 점이다. 논리연산자에서 우선순위는 not and or순이다.\n",
    "1 and 2가 연산되어 2가 나온후 3 and 4를 연산한다. 4이다. 2 or 4 를 해서 2가 나오게 된다."
   ]
  },
  {
   "cell_type": "code",
   "execution_count": 18,
   "metadata": {},
   "outputs": [
    {
     "name": "stdout",
     "output_type": "stream",
     "text": [
      "2\n"
     ]
    }
   ],
   "source": [
    "print((1 and 2) or (3 and 4))"
   ]
  },
  {
   "cell_type": "markdown",
   "metadata": {},
   "source": [
    "설명 : 전에 위에서 했던 문제와 똑같은 문제다. ()가 들어갔을뿐 연산순서가 같으므로 출력값도 같다. \n",
    "괄호가 쳐져있는 1 and 2 와 3 and 4를 먼저 연산후 or를 한다. 출력값은 위의 문제와 같이 2가 출력된다."
   ]
  },
  {
   "cell_type": "code",
   "execution_count": 19,
   "metadata": {},
   "outputs": [
    {
     "name": "stdout",
     "output_type": "stream",
     "text": [
      "1\n"
     ]
    }
   ],
   "source": [
    "print(1 or 2 and 3 or 4)"
   ]
  },
  {
   "cell_type": "markdown",
   "metadata": {},
   "source": [
    "설명 : 우선순위가 높은 and부터 연산되어 2 and 3이 연산된다. 3이다. 후에 1 or 3을 연산한다. 1이다. 1 or 4를 연산한다. 1이다. 따라서 1이 출력된다."
   ]
  },
  {
   "cell_type": "code",
   "execution_count": 20,
   "metadata": {},
   "outputs": [
    {
     "name": "stdout",
     "output_type": "stream",
     "text": [
      "3\n"
     ]
    }
   ],
   "source": [
    "print((1 or 2) and (3 or 4))"
   ]
  },
  {
   "cell_type": "markdown",
   "metadata": {},
   "source": [
    "설명 : 우선순서는 ()가 쳐져있는 1 or 2 와 3 or 4부터 연산된다. 연산된 값은 각각 1과 3이다. 후에 1 and 3을 한다. 3이다. 따라서 3이 출력된다.."
   ]
  },
  {
   "cell_type": "markdown",
   "metadata": {},
   "source": [
    "### 2번 문제\n",
    "* 경로에 해당하는 문자열 1개를 입력 받아 그 안에 디렉토리 경로명과 파일명을 분리하여 리스트로 반환하는 함수 div_path(s)를 작성하시오.\n",
    " * 인자로 전달하는 문자열은 경로만 들어간다고 가정한다.\n",
    " * 각 디렉토리와 파일을 구분하는 문자는 '/'로 가정한다.\n",
    " * 반환하는 리스트의 첫번째 원소는 디렉토리이고 두번째 원소는 파일명이다.\n",
    " * 다음과 같은 실행 및 출력 결과가 도출되어야 한다."
   ]
  },
  {
   "cell_type": "code",
   "execution_count": 40,
   "metadata": {},
   "outputs": [
    {
     "data": {
      "text/plain": [
       "['/dajune/c/files/', 'script.ipnb']"
      ]
     },
     "execution_count": 40,
     "metadata": {},
     "output_type": "execute_result"
    }
   ],
   "source": [
    "def div_path(s):\n",
    "    a = []\n",
    "    j = len(s)\n",
    "    while True:\n",
    "        i = s[j-1]\n",
    "        if i == '/':\n",
    "            break  \n",
    "        if j < 0:\n",
    "            break\n",
    "        j = j - 1\n",
    "    a.append(s[:j])\n",
    "    a.append(s[j:])\n",
    "    return a\n",
    "s = \"/dajune/c/files/script.ipnb\"\n",
    "div_path(s)"
   ]
  },
  {
   "cell_type": "markdown",
   "metadata": {},
   "source": [
    "설명 : div_path라는 함수를 정의한 후, 분리한것들을 넣을 리스트를 초기화 한다. 그리고 나서,\n",
    "인덱스를 기준으로 while문을 돌리기 위해 len함수로 문자열의 길이를 연산하고, while문을 돌린다. 이때 디렉토리와 파일을 분리할때는 뒤에서 하나씩 접근하는게 효율적이므로 j가 감소하게 하였고, 감소하면서 문자열에 하나하나 접근하다가 처음 /를 만났을때 break를 한다. while문을 돌면서 얻은 j값을 이용해서 문자열을 슬라이싱하여 빈 리스트인 a에 append를 이용하여 넣는다. 그리고 a를 반환하면 된다."
   ]
  },
  {
   "cell_type": "markdown",
   "metadata": {},
   "source": [
    "### 3번 문제 : 두 개의 리스트를 인자로 받아서 그 두 개의 리스트에 대한 '합집합'을 반환하는 함수 list_union(lista, listb)를 작성하시오.\n",
    "* 인자로 전달하는 리스트 2 개에는 정수값만 들어간다고 가정하자.\n",
    "* 함수 내에서 새로운 리스트를 만들어 그 리스트 내에 인자로 받은 두 리스트의 모든 원소를 넣어 반환한다.\n",
    "* 반환하는 리스트에는 절대로 중복된 원소가 들어 있으면 안된다 (집합의 조건).\n",
    "* 반환하는 리스트는 정렬이 되어 있어야 한다.\n",
    "* 다음과 같은 실행 및 출력 결과가 도출되어야 한다."
   ]
  },
  {
   "cell_type": "code",
   "execution_count": 62,
   "metadata": {},
   "outputs": [
    {
     "name": "stdout",
     "output_type": "stream",
     "text": [
      "[1, 2, 3, 4]\n"
     ]
    }
   ],
   "source": [
    "def list_union(lista, listb):\n",
    "    for i in listb:\n",
    "        if lista.count(i) >= 1:\n",
    "            continue\n",
    "        lista.append(i)\n",
    "    lista.sort()    \n",
    "    return lista\n",
    "print(list_union([1,2,3], [2,3,4]))\n"
   ]
  },
  {
   "cell_type": "markdown",
   "metadata": {},
   "source": [
    "설명 : 함수에서 for문으로 i에 listb의 원소들을 대입하면서 반복한다. 이때 lista에 listb의 원소들이 중복되는것이 있으면 if lista.count(i) >= 1 의 조건문으로 countinue 해서 거르게 된다. \n",
    "이렇게 쭉 합친 리스트를 sort() 함수로 정렬하면 된다!"
   ]
  },
  {
   "cell_type": "markdown",
   "metadata": {},
   "source": [
    "### 4번 문제 : ACM-ICPC 문제 1110번 - 더하기 사이클"
   ]
  },
  {
   "cell_type": "code",
   "execution_count": 72,
   "metadata": {},
   "outputs": [
    {
     "name": "stdout",
     "output_type": "stream",
     "text": [
      "26\n",
      "4\n"
     ]
    }
   ],
   "source": [
    "firNum = int(input())\n",
    "Num = firNum\n",
    "count = 0\n",
    "while True:\n",
    "    count = count + 1\n",
    "    prev = int(Num / 10)\n",
    "    con = Num % 10\n",
    "    total = prev + con\n",
    "    Num = (con * 10) + (total % 10) \n",
    "    if Num == firNum:\n",
    "        break\n",
    "print(count)"
   ]
  },
  {
   "cell_type": "markdown",
   "metadata": {},
   "source": [
    "설명 : 사용자로부터 firNum를 입력받는다. 이건 사이클이 다 돌았을때 같은지 비교해야하므로 while문에 직접 들어가지 않는다. while문에 들어가는건 firNum의 값을 받은 Num이다.\n",
    "while문에서 일단 이문제는 몇번 연산이 되느냐가 중요하므로 count로 반복문이 돌때마다 +1을 해준다.\n",
    "그다음에 prev와 con을 둔다. prev는 Num의 십의 자리수이고, con은 일의자리수이다.\n",
    "prev와 con의 합을 total이라는 변수에 넣은다음, 다시 Num 숫자의 십의자리는 con이 되고, 일의자리는 total을 10으로 나눈 나머지가 된다. 이연산을 식으로 쓰면Num = (con * 10) + (total % 10)이다. 이때 Num이 처음 firNum이랑 같다면 while문을 나가게 된다.\n",
    "이렇게 while문의 반복이 된다.\n",
    "후에 count를 출력하면 끝이다."
   ]
  },
  {
   "cell_type": "markdown",
   "metadata": {},
   "source": [
    "![사이트의 채점 결과](https://github.com/choidaejoon/script-programming-Homework-place/blob/master/backjoon_1110result.PNG?raw=true)"
   ]
  },
  {
   "cell_type": "markdown",
   "metadata": {},
   "source": [
    "### 5번 문제 \n",
    "* [Incremental Project] 웹 URL로 지정된 웹페이지를 문자열로 가져와 1) 모든 HTML 태그를 제외한 순수 텍스트 문자열만을 걸러내고, 2) 그 순수 텍스트 문자열 안에 존재하는 단어가 총 몇개인지 출력하는 프로그램을 작성하시오."
   ]
  },
  {
   "cell_type": "code",
   "execution_count": 53,
   "metadata": {},
   "outputs": [
    {
     "name": "stdout",
     "output_type": "stream",
     "text": [
      "단어의 갯수 : 478\n",
      "단어 리스트 : ['컴퓨터공학부', '//', 'Schoolfun', '-', 'Study', 'and', 'Fun', '-->', '로그인', '로그인', '아이디', '비밀번호', '로그인', '유지', '브라우저를', '닫더라도', '로그인이', '계속', '유지될', '수', '있습니다.', '로그인', '유지', '기능을', '사용할', '경우', '다음', '접속부터는', '로그인할', '필요가', '없습니다.', '단,', '게임방,', '학교', '등', '공공장소에서', '이용', '시', '개인정보가', '유출될', '수', '있으니', '꼭', '로그아웃을', '해주세요.', '회원가입', 'ID/PW', '찾기', 'IT', '교육의', '글로벌', '메카!', '한국기술교육대학교', '컴퓨터공학부', 'Close', '소개', '구성원소개', '학사안내', '입학', '학부', '대학원', '학부광장', '자료실', '대학원', '공학교육인증', '학부서비스', 'Registration', '컴퓨터공학부', 'School', 'of', 'Computer', 'Science', 'and', 'Engineering', 'IT', '융합소프트웨어', '인력양성사업', 'CK', '(Creative', 'Korea)-I', '교육역량강화사업', '온라인', '컨텐츠', 'Online', 'Contents', 'for', 'Education', 'Capability', 'Empowerment', 'IT', '교육의', '글로벌', '메카', '한국기술교육대학교', '컴퓨터공학부', '홈페이지에', '오신', '것을', '환영합니다!', 'IT', '융합소프트웨어', '인력양성사업', '글로벌', '수준의', 'IT전문인력', '양성', 'IT융합분야에', '대한', '국제적인', '경쟁력', '고취', '바로가기', '교육역량강화사업', '컨텐츠', '교육역량강화사업', '온라인', '컨텐츠를', '소개합니다.', '바로가기', '공지사항', '2017년', '졸업작품', '영어발표', '경진대회', '및', '공학설계', '아이...', '2017-10-11', '09:24', '09:24', '[특성화]', '2017', 'IT융합', '프로그래밍', '경시대회', '모집', '공고', '2017-10-10', '15:49', '15:49', '[특성화]', 'ICTS', '2017', '중국', '전시회', '선발학생', '공고', '2017-09-28', '10:18', '10:18', '[특성화]', 'KES', '2017', '전시회', '선발학생', '공고', '2017-09-27', '15:20', '15:20', '[졸업작품', '전시회', '참가자', '필독]', '2017년', '졸업작품', '전시...', '2017-09-27', '13:24', '13:24', '자유게시판', '제6회', '레몬', '정보보호', '세미나', '개최', '2017-10-06', '23:40', '23:40', '예비역', '훈련', '및', '뒤풀이', '공지!', '2017-09-19', '21:16', '21:16', '모의토익비를', '지원해드립니다.^^', '2017-09-17', '20:08', '20:08', '4공학관', 'B동', '입구', '담배피우는', '문제로', '글을', '올립니다.', '2017-09-11', '22:13', '22:13', '학술소모임', '씨앗(Seed)에서', '신입', '회원', '모집', '및', '개강총...', '2017-09-05', '15:46', '15:46', '취업게시판', '[천안]', '(주)ABB코리아', '채용', '공고문', '-', '로봇사업부', '채용(...', '2017-09-29', '11:29', '11:29', '영풍전자(주)', '-', '[안산]_직무별[제조기술/품질/개발/마...', '2017-09-25', '10:04', '10:04', '[용인-수원(내년', '통합예정)]', '㈜라온옵틱스', '신입,', '경력...', '2017-09-25', '09:21', '09:21', '엑시콘', '산학공동연구소', '연구원', '모집(~9/18)', '2017-09-08', '13:46', '13:46', '[서울]', '에이치투오시스템테크놀로지(주)', 'IT개발', '및', '마...', '2017-09-04', '17:35', '17:35', 'Platum', '[인터뷰]', '사업도', '하고', '재능도', '팔아요.', '2017-10-13', '07:59', '07:59', '[르포]', '“아이디어를', '현실로”', '하드웨어', '액셀러레이터', '‘...', '2017-10-13', '07:56', '07:56', '위키위키,', '중고-리퍼', '악기', '거래', '플랫폼', '‘뮤지션마켓’', '론칭', '2017-10-13', '07:06', '07:06', '로플랫,', '리워드앱', '‘캐시플레이스’', '출시', '2017-10-13', '06:57', '06:57', '알리바바', '그룹,', 'R&D에', '17조', '투자', '…', '글로벌', '기술력,', '인...', '2017-10-13', '06:48', '06:48', '전자신문', '페이스북', '등', '국내·외기업', '역차별', '개선책', '속도낼', '듯', '2017-10-15', '14:11', '14:11', 'KT', '체임버홀,', '아름다운', '음악', '나눔', '200회', '맞아', '2017-10-15', '14:04', '14:04', 'LG유플러스,', 'LTE', '라우터', \"'U+와이파이쏙'\", '출시', '2017-10-15', '13:51', '13:51', \"'LG\", \"V30'\", '라벤더', '바이올렛', '국내', '출시', '2017-10-15', '13:50', '13:50', '[사이언스', '인', '미디어]SNS가', '부른', '화(禍)', \"'더\", \"서클'\", '2017-10-15', '13:49', '13:49', 'TechCrunch', 'Amazon', 'drops', 'David', 'O.', 'Russell', 'show', 'as', 'Weinstei...', '2017-10-15', '07:37', '07:37', 'The', 'keys', 'to', 'your', 'house', 'belong', 'to', 'startups', '2017-10-15', '03:00', '03:00', 'Here’s', 'how', 'to', 'kick', 'nazis', 'off', 'your', 'Twitter', 'righ...', '2017-10-15', '02:38', '02:38', 'My', 'new', 'favorite', 'Twitter', 'habit', 'is', 'saving', 'me', 'so', '...', '2017-10-15', '02:02', '02:02', 'Smart', 'cities', 'are', 'boring.', 'Give', 'us', 'responsive', 'ci...', '2017-10-14', '22:30', '22:30', 'Back', 'to', 'Top', 'Leading', 'Together', 'for', 'Brighter', 'Future', '-->', 'Quick', 'Navigation', '한국기술교육대학교', '홈페이지', '한국기술교육대학교', 'WEBMAIL', '한국기술교육대학교', '온라인', '평생교육원', 'IT', '융합소프트웨어', '인력양성사업', '컴퓨터공학부', '교직원', '업무', '자료실', '컴퓨터공학부', '포트폴리오', '-->', 'Campus', 'Location', 'Contact', 'CSE', '충청남도', '천안시', '동남구', '병천면', '충절로', '1600', '한국기술교육대학교', '컴퓨터공학부', '학과사무실', 'TEL', '(041)', '560', '1460', '~', '1461', 'FAX', '(041)', '560', '1462', 'Facebook', 'Twitter', 'Google', 'Plus', 'Linkedin', '-->', '(31253)', '충청남도', '천안시', '동남구', '병천면', '충절로', '1600', '(가전리,', '한국기술교육대학교)', '컴퓨터공학부', 'Copyright', '©', '2015.', 'All', 'rights', 'reserved']\n"
     ]
    }
   ],
   "source": [
    "from urllib import request \n",
    " \n",
    "url = 'http://cse.koreatech.ac.kr'\n",
    "f = request.urlopen(url)\n",
    "source_bytes = f.read()\n",
    "source = source_bytes.decode('utf-8')\n",
    "count = 0\n",
    "switch = 0\n",
    "# 추후 숙제 답안 제출 때엔 아래 코드는 주석처리할 것                 \n",
    "# print(type(source_bytes))\n",
    "# print(type(source))\n",
    "for i in source:\n",
    "    if i == '<':\n",
    "        switch = 1\n",
    "    if switch == 1:\n",
    "        source = source[:count] + ' ' + source[count+1:]\n",
    "    if i == '>':\n",
    "        switch = 0\n",
    "    count = count + 1\n",
    "wordList = source.split()\n",
    "wordNum = len(wordList)\n",
    "print(\"단어의 갯수 :\", wordNum)\n",
    "print(\"단어 리스트 :\", wordList)"
   ]
  },
  {
   "cell_type": "markdown",
   "metadata": {},
   "source": [
    "설명 : for문을 통해 변수 i로 source문자열에 하나씩 접근한다. 접근할때 i가 '<'에 만나면 switch를 1로 바꾸고, switch가 1일때 그 자리의 문자를 슬라이싱을 이용해서 \" \"로 바꿨다. 이렇게 반복을 진행하다가 '>'를 만나면 switch를 0으로 만들어 공백문자로 만드는것을 막았다. 이렇게 <>를 모두 \" \"로 바꾼다음, split()함수를 이용해서 공백문자를 없애고, 리스트로 만들었다. 또한 len()함수를 이용하여 리스트안의 단어들의 수를 세었다."
   ]
  },
  {
   "cell_type": "markdown",
   "metadata": {},
   "source": [
    "#### 소감 : 여러가지 문자열 메소드, 연산자들을 사용하니까 색다르고, 파이썬을 좀더 잘 사용하고 이해하게 되었다. "
   ]
  },
  {
   "cell_type": "code",
   "execution_count": null,
   "metadata": {
    "collapsed": true
   },
   "outputs": [],
   "source": []
  }
 ],
 "metadata": {
  "kernelspec": {
   "display_name": "Python 3",
   "language": "python",
   "name": "python3"
  },
  "language_info": {
   "codemirror_mode": {
    "name": "ipython",
    "version": 3
   },
   "file_extension": ".py",
   "mimetype": "text/x-python",
   "name": "python",
   "nbconvert_exporter": "python",
   "pygments_lexer": "ipython3",
   "version": "3.6.1"
  }
 },
 "nbformat": 4,
 "nbformat_minor": 2
}
