{
 "cells": [
  {
   "cell_type": "code",
   "execution_count": 1,
   "metadata": {},
   "outputs": [
    {
     "name": "stdout",
     "output_type": "stream",
     "text": [
      "9\n",
      "-1\n",
      "\n",
      "1\n"
     ]
    }
   ],
   "source": [
    "def add(a,b):\n",
    "    return a + b\n",
    "def sub(a, b):\n",
    "    return  a - b\n",
    "action = { 0: add, 1: sub}\n",
    "print(action[0](4, 5))\n",
    "print(action[1](4, 5))\n",
    "print()\n",
    "action2= { add: 1, sub: 2}\n",
    "print(action2[add])"
   ]
  },
  {
   "cell_type": "code",
   "execution_count": 2,
   "metadata": {},
   "outputs": [
    {
     "name": "stdout",
     "output_type": "stream",
     "text": [
      "{'one': 1, 'two': 2}\n",
      "{'one': 1, 'two': 2}\n",
      "{'one': 1, 'two': 2}\n"
     ]
    }
   ],
   "source": [
    "print(dict(one=1, two=2))\n",
    "print(dict([('one', 1), ('two', 2)]))\n",
    "print(dict({'one':1, 'two':2}))"
   ]
  },
  {
   "cell_type": "code",
   "execution_count": 5,
   "metadata": {},
   "outputs": [
    {
     "name": "stdout",
     "output_type": "stream",
     "text": [
      "<zip object at 0x0000000004DEC088>\n",
      "{'one': 1, 'two': 2, 'three': 3}\n"
     ]
    }
   ],
   "source": [
    "keys = ('one', 'two', 'three')\n",
    "values = (1, 2, 3)\n",
    "print(zip(keys, values)) # zip(): 두 개의 자료를 순서대로 쌍으로 묶은 튜플들의 리스트 반환\n",
    "print(dict(zip(keys, values)))\n"
   ]
  },
  {
   "cell_type": "code",
   "execution_count": 6,
   "metadata": {},
   "outputs": [
    {
     "name": "stdout",
     "output_type": "stream",
     "text": [
      "{'jack': 9465215, 'jin': 1111, 'Joseph': 6584321, 'kim': 12312, 'lee': 9090}\n",
      "{'kim': 12312, 'lee': 9090}\n"
     ]
    }
   ],
   "source": [
    "phone = {'jack':9465215, 'jin':1111, 'Joseph':6584321}\n",
    "ph = {'kim':12312, 'lee': 9090}\n",
    "phone.update(ph) # 사전 phone의 내용을 ph으로 추가 갱신\n",
    "print(phone)\n",
    "print(ph)\n"
   ]
  },
  {
   "cell_type": "code",
   "execution_count": 1,
   "metadata": {
    "collapsed": true
   },
   "outputs": [],
   "source": [
    "import turtle\n",
    "\n",
    "t = turtle.Turtle()\n",
    "t.shape(\"turtle\")\n",
    "t.color(\"blue\")\n",
    "\n",
    "t.pensize(3)             # 펜 사이즈를 3으로 설정한다.\n",
    "t.penup()                # 펜을 종이로 부터 들어올린다.\n",
    "t.goto(-200, -50)        # 해당 좌표로 이동한다.\n",
    "t.pendown()              # 펜을 종이에 놓는다.\n",
    "t.circle(40, steps=3)    # 반지름이 40인 원을 3 step으로만 그린다. ==> 삼각형이 그려짐\n",
    "\n",
    "t.penup()\n",
    "t.goto(-100, -50)\n",
    "t.pendown()\n",
    "t.circle(40, steps=4)\n",
    "\n",
    "t.penup()\n",
    "t.goto(0, -50)\n",
    "t.pendown()\n",
    "t.circle(40, steps=5)\n",
    "\n",
    "t.penup()\n",
    "t.goto(100, -50)\n",
    "t.pendown()\n",
    "t.circle(40, steps=6)\n",
    "\n",
    "t.penup()\n",
    "t.goto(200, -50)\n",
    "t.pendown()\n",
    "t.circle(40, steps=2000)"
   ]
  },
  {
   "cell_type": "code",
   "execution_count": 3,
   "metadata": {},
   "outputs": [
    {
     "name": "stdout",
     "output_type": "stream",
     "text": [
      "[2]\n"
     ]
    }
   ],
   "source": [
    "list = [1,2,3]\n",
    "list = list[1:-1]\n",
    "print(list)"
   ]
  },
  {
   "cell_type": "code",
   "execution_count": 4,
   "metadata": {},
   "outputs": [
    {
     "name": "stdout",
     "output_type": "stream",
     "text": [
      "220\n"
     ]
    }
   ],
   "source": [
    "aaa = \"100 + 12 * 10\"\n",
    "a = eval(aaa)#문자열 숫자 식을 진짜숫자식으로 바꿔서 계산해줌. 신기한 메소드..int와 차이.\n",
    "print(a)"
   ]
  },
  {
   "cell_type": "code",
   "execution_count": null,
   "metadata": {
    "collapsed": true
   },
   "outputs": [],
   "source": []
  }
 ],
 "metadata": {
  "kernelspec": {
   "display_name": "Python 3",
   "language": "python",
   "name": "python3"
  },
  "language_info": {
   "codemirror_mode": {
    "name": "ipython",
    "version": 3
   },
   "file_extension": ".py",
   "mimetype": "text/x-python",
   "name": "python",
   "nbconvert_exporter": "python",
   "pygments_lexer": "ipython3",
   "version": "3.6.1"
  }
 },
 "nbformat": 4,
 "nbformat_minor": 2
}
