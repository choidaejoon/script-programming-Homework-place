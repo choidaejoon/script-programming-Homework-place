{
 "cells": [
  {
   "cell_type": "markdown",
   "metadata": {},
   "source": [
    "## 스크립트 프로그래밍 5번째 과제\n",
    "## 2016136133 최대준\n",
    "\n"
   ]
  },
  {
   "cell_type": "markdown",
   "metadata": {},
   "source": [
    "### 1번 문제 : 클래스와 모듈의 공통점과 차이점에 대해 설명하시오."
   ]
  },
  {
   "cell_type": "markdown",
   "metadata": {},
   "source": [
    "### 클래스와 모듈의 공통점으로는 데이터와 함수등을 정의하고 있는 단위로 서로 연관된 작업을 하는 코드들을 묶어서 재사용 가능하게 만드는 점이 같다.   또한 독립적인 이름공간을 사용한다는점이 같다. 차이점으로는 모듈은 파일단위로 이름공간을 구성하여 서로 연관된 작업을 하는 코드, 데이터를 묶어서 사용하지만, 클래스는 클래스 영역내에 이름공간을 구성하여 객체를 만드는점이 다르다."
   ]
  },
  {
   "cell_type": "markdown",
   "metadata": {},
   "source": [
    "### 2번 문제 : 다형성을 설명하고, 다형성을 보여주는 자신만의 파이썬 코드 예제를 제시하시오."
   ]
  },
  {
   "cell_type": "markdown",
   "metadata": {},
   "source": [
    "### 다형성이란  뜻 풀이를 하자면, 다양한 형태로 변화하는 성질이다. 똑같은 행동을 취해도 다른 결과 형태를 갖는것을 말한다. 예를 들면 개, 고양이, 돼지에게 동일한 행동인 짖는 행동을 취하게 해보았을때, 개는 멍멍하고 짖지만 고양이와 돼지는 각각 냐옹, 꿀꿀하고 짖는다. 이처럼 동일한 행동을 취했지만 다른 결과를 가져오는것을 다형성이라고 할수 있다."
   ]
  },
  {
   "cell_type": "code",
   "execution_count": 7,
   "metadata": {},
   "outputs": [
    {
     "name": "stdout",
     "output_type": "stream",
     "text": [
      "Samsung Horizen\n",
      "위윙\n",
      "apple 위윙\n"
     ]
    }
   ],
   "source": [
    "class Phone:\n",
    "    def ring(self):\n",
    "        print(\"위윙\")\n",
    "class Galaxy(Phone):\n",
    "    def ring(self):\n",
    "        print(\"Samsung Horizen\")\n",
    "class Iphone(Phone):\n",
    "    def ring(self):\n",
    "        print(\"apple 위윙\")\n",
    "phone1 = Galaxy()\n",
    "phone2 = Phone()\n",
    "phone3 = Iphone()\n",
    "phone1.ring()\n",
    "phone2.ring()\n",
    "phone3.ring()"
   ]
  },
  {
   "cell_type": "markdown",
   "metadata": {},
   "source": [
    "### 3번 문제 : 다음 각 요구사항 모두를 만족시키는 Counter 클래스를 코딩하시오 (정답을 각 요구사항별로 입력할 필요 없이 3번 문제에 대해 1개의 클래스 정의 코드를 제시하면 된다.)\n"
   ]
  },
  {
   "cell_type": "code",
   "execution_count": 44,
   "metadata": {
    "collapsed": true
   },
   "outputs": [],
   "source": [
    "class Counter:\n",
    "    def __init__(self, count, step = 1):\n",
    "        self.count = count\n",
    "        self.step = step\n",
    "    def __str__(self):\n",
    "        return \"[Count (step:\" + str(self.step) +\")] \" + str(self.count)\n",
    "    def incr(self):\n",
    "        self.count = self.count + self.step\n",
    "    def __call__(self):\n",
    "        self.incr()\n",
    "    def __add__(self, count):\n",
    "        self.count = self.count + count\n",
    "        return self\n",
    "    def __sub__(self, count):\n",
    "        self.count = self.count - count\n",
    "        return self\n",
    "    def __gt__(self, count):\n",
    "        return self.count > count\n",
    "    def __lt__(self, count):\n",
    "        return self.count < count       \n",
    "    def __eq__(self, count):\n",
    "        return self.count == count\n",
    "    def __ne__(self, count):\n",
    "        return self.count != count"
   ]
  },
  {
   "cell_type": "code",
   "execution_count": 45,
   "metadata": {},
   "outputs": [
    {
     "name": "stdout",
     "output_type": "stream",
     "text": [
      "[Count (step:3)] 13\n",
      "[Count (step:3)] 16\n",
      "[Count (step:3)] 21\n",
      "[Count (step:3)] 14\n",
      "True\n",
      "False\n",
      "True\n",
      "False\n"
     ]
    }
   ],
   "source": [
    "a = Counter(10,3)\n",
    "a.incr()\n",
    "print(a)\n",
    "a()\n",
    "print(a)\n",
    "a = a + 5\n",
    "print(a)\n",
    "a = a - 7\n",
    "print(a)\n",
    "print(a > 10)\n",
    "print(a < 10)\n",
    "print(a == 14)\n",
    "print(a != 14)"
   ]
  },
  {
   "cell_type": "markdown",
   "metadata": {},
   "source": [
    "#### 설명 : 카운터 클래스를 정의한다. 생성자로 인스턴스 멤버 변수인 count와 step을 받아들인다. 이때 step은 default값으로 1을 받는다. 또한 __str__함수를 정의한다 . java의 toString()과 같은함수이다. 그리고 incr()라는 멤버함수를 만든다. 이때 incr()함수는 인스턴스 객체를 직접 호출했을때에 내부적으로 incr()메소드를 호출하기 위한 __call__함수를 만들었다. 인스턴스 객체를 호출했을때에 클래스객체의 count에 step만큼 더하게 한다. (incr()이용) 그리고 연산자 오버로딩인데 특이하게 파이썬에서는 def __add__이런식으로 구현한다. 그리고 연산자 오버로딩으로 +뿐만아니라 -, >, <, ==, !=를 오버로딩하면 된다..  "
   ]
  },
  {
   "cell_type": "markdown",
   "metadata": {},
   "source": [
    "### 4번 문제 : 다음은 내장 자료형 list를 서브클래싱하여 만든 MySet 클래스 정의 내용이다. 다음 클래스 정의에서 __init__(), __str()__(), elimicate_duplicate()의 세 개의 메소드 코드 내용을 자신이 다른 사람에게 가르친다고 생각하며 설명해보시오."
   ]
  },
  {
   "cell_type": "code",
   "execution_count": 47,
   "metadata": {
    "scrolled": true
   },
   "outputs": [
    {
     "name": "stdout",
     "output_type": "stream",
     "text": [
      "MySet: {1 ,2 ,3}\n",
      "MySet: {2 ,3 ,4 ,5 ,6 ,7 ,8 ,9}\n"
     ]
    }
   ],
   "source": [
    "class MySet(list):\n",
    "    def __init__(self, l):\n",
    "        for e in l:\n",
    "            self.append(e)\n",
    "        MySet.eliminate_duplicate(self)\n",
    "    \n",
    "    def __str__(self):\n",
    "        result = \"MySet: {\"\n",
    "        for e in self:\n",
    "            result = result + str(e) + \" ,\"\n",
    "        result = result[0:len(result)-2] + \"}\"\n",
    "        return result\n",
    "\n",
    "    @staticmethod    \n",
    "    def eliminate_duplicate(l):\n",
    "        s = []\n",
    "        for e in l:\n",
    "            if e not in s:\n",
    "                s.append(e)\n",
    "        l[:] = []\n",
    "        for e in s:\n",
    "            l.append(e)\n",
    "\n",
    "    \n",
    "if __name__ == \"__main__\":\n",
    "    s = MySet([1, 2, 2, 3])\n",
    "    print(s)\n",
    "    t = MySet([2, 3, 4, 5, 6, 7, 8, 8, 8, 8, 8, 9])\n",
    "    print(t)"
   ]
  },
  {
   "cell_type": "markdown",
   "metadata": {},
   "source": [
    "#### 설명 :  자 우선 MySet클래스는 집합형 자료형을 처리하려고 만든 클래스 입니다. 이 클래스는 리스트를 상속받아서 확장하여 집합형 자료형을 처리하겠습니다. 우선 순서가 없으며, 중복되는 숫자가 없습니다. 따라서 중복되는 숫자를 처리할 함수인 eliminate_duplicate를 정의합니다.  이때 @staticmethod로 정의하는데 이는 다른 MySet클래스의 객체들이 이 메소드를 공유하여도 코드상 문제가 전혀 없기 때문이고, 쓰는이유는 메모리를 아끼려고 쓰는것입니다. 이제 eliminate_duplicate함수 코드를 보겠습니다.  l이라는 변수를 인수로 받고, s라는 리스트를 하나 생성합니다. 그리고 포문으로 l의 원소에 하나하나 접근합니다. 이때 l이 리스트라는걸 확신할수 있는것이 init에서 self를 인자로 eliminate_duplicate에게 주는것을 확인할수 있습니다. 이때 MySet클래스는 내장자료형인 list를 상속하였기 때문에 self가 리스트 인것이죠! 리스트에 하나하나 접근하면서 not in연산자로 e가 s에 포함되어 있지 않다면 s에 append함수를 이용해 추가합니다. 다 추가한다음, 이제 l을 지우고, 다시 s에 있던 리스트를 l로 옮깁니다. l은 객체의 리스트 (self로 들어왔기 때문에)입니다, 다음으로는 __str__함수를 보겠습니다. __str__함수는 클래스 객체가 갖고 있는 정보를 문자열로 반환해 주는 함수입니다. 우리의 클래스 객체가 갖고 있는 정보는 집합이므로 result변수에 \"MySet: {\"라는 것을 먼저 넣고, 객체 자신이 갖고 있는 리스트를 하나하나 result에 넣어주면 끝입니다. 그리고 마지막에 if__name__ == \"__main__\":~~이 있는데 이것은 내가 만든 클래스가 잘 작동하나 확인하는 코드로써 다른 코드에서 이 클래스를 불러와서 확인하게 되면 __name__ =  \"__MySet__\"으로 작동이 안하게 됩니다.  "
   ]
  },
  {
   "cell_type": "markdown",
   "metadata": {},
   "source": [
    "### 5번 문제 : 4번 문제에 정의된 MySet 클래스에 메소드를 추가하여 다음 각 요구사항 모두를 만족시키는 코딩을 제시하시오"
   ]
  },
  {
   "cell_type": "code",
   "execution_count": 52,
   "metadata": {},
   "outputs": [
    {
     "name": "stdout",
     "output_type": "stream",
     "text": [
      "MySet: {1 ,2 ,3}\n",
      "MySet: {2 ,3 ,4 ,5 ,6 ,7 ,8 ,9}\n",
      "MySet: {2 ,3}\n",
      "MySet: {2 ,3 ,4 ,5 ,6 ,7 ,8 ,9}\n",
      "MySet: {1 ,2}\n"
     ]
    }
   ],
   "source": [
    "class MySet(list):\n",
    "    def __init__(self, l):\n",
    "        for e in l:\n",
    "            self.append(e)\n",
    "        MySet.eliminate_duplicate(self)\n",
    "    \n",
    "    def __str__(self):\n",
    "        result = \"MySet: {\"\n",
    "        for e in self:\n",
    "            result = result + str(e) + \" ,\"\n",
    "        result = result[0:len(result)-2] + \"}\"\n",
    "        return result\n",
    "\n",
    "    @staticmethod    \n",
    "    def eliminate_duplicate(l):\n",
    "        s = []\n",
    "        for e in l:\n",
    "            if e not in s:\n",
    "                s.append(e)\n",
    "        l[:] = []\n",
    "        for e in s:\n",
    "            l.append(e)\n",
    "    def __and__(self, other):\n",
    "        result = []\n",
    "        for e in other:\n",
    "            if e in self:\n",
    "                result.append(e)\n",
    "        return MySet(result)\n",
    "    def __or__(self, other):\n",
    "        result = []\n",
    "        for e in other:\n",
    "            result.append(e)\n",
    "        return MySet(result)\n",
    "    def __sub__(self, other):\n",
    "        result = []\n",
    "        for e in self:\n",
    "            if e not in other:\n",
    "                result.append(e)\n",
    "        return MySet(result)\n",
    "if __name__ == \"__main__\":\n",
    "    s = MySet([1, 2, 2, 3])\n",
    "    print(s)\n",
    "    t = MySet([2, 3, 4, 5, 6, 7, 8, 8, 8, 8, 8, 9])\n",
    "    print(t)\n",
    "    u = s & t\n",
    "    print(u)\n",
    "    u = s | t\n",
    "    print(u)\n",
    "    s = MySet([1, 2, 3]) \n",
    "    t = MySet([3, 4, 5]) \n",
    "    u = s - t \n",
    "    print(u) \n",
    "\n"
   ]
  },
  {
   "cell_type": "markdown",
   "metadata": {},
   "source": [
    "#### 설명 : 연산자 오버로딩을 이용해서 &에 이용할 __and__와 |인 __or__과 -인 __sub__가 필요하다. 처음에 집합의 연산자라 이것들을 이용하면 안될것 같았다. 하지만 연산자 기호가동일했기 때문에 똑같이 쓰지만 쓰임은 다른 그런것이었다. 더하기가 아니라 합집합, 빼기가 아니라 차집합으로 쓰일 용도로 코딩을 하라 라는 뜻이셨던것 같다. 코드는 간단했다. 다른 집합을 인수로 받으면 리스트 하나를 만들어서 그곳에 그걸 for문으로 접근해서 하나하나 검사해서 내것과 같으면 추가하거나 다른 경우는 같지 않으면 추가하게 하여 이런식으로 해서 return MySet(result)로 집합으로 만들어서 보내면 된다!"
   ]
  },
  {
   "cell_type": "markdown",
   "metadata": {},
   "source": [
    "#### 6번 문제 : 5번 문제에서 정의한 MySet 클래스에 대해 다음 예제를 수행하면 오류없이 올바르게 동작하는 것을 확인할 수 있다. 다음 예제 내에 있는 len(), bool() 내장함수와 in 키워드 사용 예제가 별다른 메소드 정의를 하지 않았는 데도 올바르게 수행되는 이유를 설명하시오."
   ]
  },
  {
   "cell_type": "markdown",
   "metadata": {},
   "source": [
    "#### 설명 : MySet은 내장 자료형인 list를 상속받았기 때문에 MySet은 list의 멤버함수, 변수를 포함하게 된다. 따라서 list를 인수로 가지는 함수들의 인수로 들어갈수 있다. 자바에서의 하향형변환을 해서 연산을 하던것과 비슷하다"
   ]
  },
  {
   "cell_type": "markdown",
   "metadata": {},
   "source": [
    "### 7번 문제 : 이전 Assignment 3 (Assignment 4가 아님)의 마지막 문제는 웹 URL로 지정된 웹페이지를 문자열로 가져와 모든 HTML 태그 및 CSS와 Javascript를 제외한 순수 텍스트를 얻어내고 그 안에 존재하는 단어를 추출하여 각 단어들에 대해 출현빈도를 사전형태({'world': 2, 'hello': 1, 'python': 1})로 저장하여 출력하는 것이었다. 이번에는 Assignment 3을 다시 확장/변형하여 다음과 같은 조건을 만족하도록 구현하시오."
   ]
  },
  {
   "cell_type": "code",
   "execution_count": 2,
   "metadata": {},
   "outputs": [],
   "source": [
    "from urllib import request \n",
    "import string\n",
    "class WebWordsFrequency:\n",
    "    url = []\n",
    "    wordFrequency = []\n",
    "    def __init__(self, *urls):\n",
    "        self.url = []\n",
    "        self.wordFrequency = []\n",
    "        if(len(urls) == 0):\n",
    "            pass\n",
    "        for i in urls:\n",
    "            self.url.append(i)\n",
    "            self.wordFrequency.append(self.main_system(i))\n",
    "    #html에서 자바스크립트코드와, 스타일 코드를 삭제하는 함수이다.\n",
    "    def html_java_script_and_style_del(self, html_source):\n",
    "        s1 = \"\"\n",
    "        switch = False\n",
    "        switch2 = 0\n",
    "        start = 0\n",
    "        end = 0\n",
    "        for i in range(len(html_source)):\n",
    "            if switch2 == False:\n",
    "                html_source = html_source[:start] + (end - start)*\" \" + html_source[end:]\n",
    "                switch2 = True\n",
    "            if html_source[i] == '<':\n",
    "                switch = True\n",
    "                s1 = \"\"\n",
    "            if switch == True:\n",
    "                s1 = s1 + html_source[i]    \n",
    "            if s1 == '<script' or s1 == '<style' :\n",
    "                switch2 = True\n",
    "                if s1 == '<script':\n",
    "                    start = i-6\n",
    "                else :\n",
    "                    start = i-5\n",
    "            if s1 == '</script' or s1 == '</style':\n",
    "                switch2 =False\n",
    "                if s1 == '</script':\n",
    "                    end = i-7\n",
    "                else :\n",
    "                    end = i-6\n",
    "            if html_source[i] == '>':\n",
    "                switch = False\n",
    "        return html_source\n",
    "    #html소스코드에서 html태그를 삭제하는 함수이다. 저번에 짠 코드를 함수화 시켰다.\n",
    "    def html_code_del(self, html_source):\n",
    "        count = 0\n",
    "        switch = 0\n",
    "        for i in html_source:\n",
    "            if i == '<':\n",
    "                switch = True\n",
    "            if switch == True:\n",
    "                html_source = html_source[:count] + ' ' + html_source[count+1:]\n",
    "            if i == '>':\n",
    "                switch = False\n",
    "            count = count + 1\n",
    "        wordList = html_source.split()\n",
    "        return wordList\n",
    "    #단어 리스트에서 구두문자를 제거한 리스트를 반환하는 함수이다.\n",
    "    import string\n",
    "    def punctuation_del(self, List):\n",
    "        punctuationList = [string.punctuation[i] for i in range(len(string.punctuation))]\n",
    "        for i in range(len(List)):\n",
    "            for j in range(len(List[i])):\n",
    "                for k in range(len(punctuationList)):\n",
    "                    if List[i][j] == punctuationList[k]:\n",
    "                        List[i] = List[i][:j] + \" \" + List[i][j+1:]\n",
    "        List = \" \".join(List)\n",
    "        List = List.split()\n",
    "        return List\n",
    "\n",
    "    #리스트에서 똑같은 단어를 찾는 함수이다. (단어, 중복단어의수)의 리스트로 반환한다.\n",
    "    def same_string_num(self, List):\n",
    "        listValue = []\n",
    "        for i in range(len(List)):\n",
    "            count = 0\n",
    "            for j in range(len(List)):\n",
    "                if List[i] == List[j]:\n",
    "                    count = count + 1\n",
    "            listValue.append(count)\n",
    "        totalList = zip(List, listValue)\n",
    "        return totalList\n",
    "    #영어 불용어를 제거하는 함수이다.\n",
    "    def dict_del_stopWords(self, wordListForDict): #사전을 받는다.\n",
    "        #map함수를 이용하기 위해 만든 함수.\n",
    "        def Capitalize(s): #map의 함수인수로 주기 위해서 만들었다 문자열을 맨앞 한문자만 대문자로 바꾸기 위해서 스트링 내장함수인 capitalize를 이용하였따.\n",
    "            return s.capitalize()\n",
    "        with open('stopWords.txt', 'r') as f: #with as문으로 내가 저장했던 영어불용어 텍스트파일을 열어 read()한다.\n",
    "            stopWordList = f.read()\n",
    "        stopLowWordList = stopWordList.split() #split함수로 단어만 리스트로 저장한다.\n",
    "        stopUpperWordList = list(map(Capitalize, stopLowWordList)) #여기서 맨앞한글자가 대문자인 불용어가 있을수 있으므로 map함수를 이용해 앞글자만 대문자로 만든다.\n",
    "        for i in stopLowWordList:   #for문을 이용해서 불용어에 하나씩 접근하여 if문으로 in연산자를 이용해 불용어가 있는지 확인후 제거한다.\n",
    "            if i in wordListForDict:\n",
    "                del wordListForDict[i]\n",
    "        for j in stopUpperWordList: # 대문자인 불용어도 제거한다.\n",
    "            if j in wordListForDict:\n",
    "                del wordListForDict[j]\n",
    "        return wordListForDict\n",
    "    #addUrl() 함수.. 1개의 url을 추가한다\n",
    "    def addUrl(self, url):\n",
    "        if url not in self.url:\n",
    "            self.url.append(url)\n",
    "            self.wordFrequency.append(self.main_system(url))\n",
    "    #removeUrl()함수, 1개의 url를 삭제한다.\n",
    "    def removeUrl(self, url):\n",
    "        count = 0\n",
    "        for i in self.url:\n",
    "            if url == i:\n",
    "                self.url.remove(url)\n",
    "                del self.wordFrequency[count]\n",
    "            count = count + 1\n",
    "    #listUrls()함수, 모든 URL출력하는 함수\n",
    "    def listUrls(self):\n",
    "        for i in self.url:\n",
    "            print(i)\n",
    "    #각각의 url를 종합적으로 분석하여 단어 출현 빈도 사전을 반환하는 함수이다.\n",
    "    def getWordsFrequency(self):\n",
    "        if self.url == [] :\n",
    "            return None\n",
    "        List = []\n",
    "        #사전의 값을 정렬하여 가장 값이 큰 3개의 단어를 보여주는 함수이다.\n",
    "        def two_words_list(s): #사전을 받아서 키값과 밸류값을 튜플로 받아서 sorted함수를 이용하여 밸류값을 기준으로 역순정렬한다 \n",
    "            s = s.items()\n",
    "            s = sorted(s, key = self.element_2, reverse = True)\n",
    "            List = [s[x] for x in range(2)] #가장 큰 밸류값이 큰 3개만 리스트에 저장해서 반환한다.\n",
    "            return List\n",
    "        for i in range(len(self.wordFrequency)):\n",
    "            List.extend(two_words_list(self.wordFrequency[i]))\n",
    "            List= sorted(List, key = self.element_2 , reverse = True)\n",
    "        return dict(List)\n",
    "    #sorted함수의 정렬기준을 바꿀 함수이다.\n",
    "    @staticmethod\n",
    "    def element_2(a):\n",
    "        return a[1]\n",
    "    #getWordsFrequency의 리스트에서 가장 큰값을 리스트로 반환한다.\n",
    "    def getMaxFrequency(self):\n",
    "        max = 0\n",
    "        List = []\n",
    "        wordDict= self.getWordsFrequency()\n",
    "        if wordDict == None:\n",
    "            return None\n",
    "        wordDict = wordDict.items()\n",
    "        wordDict = sorted(wordDict, key = self.element_2, reverse = True)\n",
    "        max = wordDict[0][1]\n",
    "        for i,j in wordDict:\n",
    "            if j == max:\n",
    "                List.append(i)\n",
    "            else :\n",
    "                break\n",
    "        return List\n",
    "    def searchUrlByWord(self, searchWord):\n",
    "        count = 0 #이걸로 비슷한 단어들의 출현빈도를 다 세어서 사전에 저장할것이다.\n",
    "        index = 0 #이걸로는 siteUrl의 인덱스로써 사용해서 similarity사전에 siteUrl과 count의 값들이 들어가는 용도로 사용할것이\n",
    "        similarity = {} \n",
    "        for i in self.wordFrequency:   # 위의 url문자열들은 for문을 이용해서 similarity사전에 key값으로 넣기위해 만들었다.\n",
    "            for j in i:      #for문으로 사전의 단어가 사용자가 입력한 단어를 포함하거나 같다면 그것의 출현빈도를 합친다\n",
    "                if j.find(searchWord) != -1:\n",
    "                    count = count + i[j]\n",
    "            similarity[self.url[index]] = count\n",
    "            count = 0\n",
    "            index = index + 1\n",
    "        similarityList = sorted(similarity.items(), key = self.element_2, reverse = True) #유사도 사전\n",
    "        print(similarityList[0][0])\n",
    "    #메인 함수\n",
    "    def main_system(self, site_url): #함수들을 총 이용해서 단어의 출현빈도를 밸류값으로 한 사전을 반환한다.\n",
    "        url = site_url\n",
    "        f = request.urlopen(url)\n",
    "        source_bytes = f.read()\n",
    "        source = source_bytes.decode('utf-8')\n",
    "        source = source.strip()\n",
    "        wordList = self.html_java_script_and_style_del(source)\n",
    "        wordList = self.html_code_del(wordList)\n",
    "        wordList = self.punctuation_del(wordList)\n",
    "        wordListForDict= dict(self.same_string_num(wordList))\n",
    "        wordListForDict = self.dict_del_stopWords(wordListForDict)\n",
    "        return wordListForDict\n"
   ]
  },
  {
   "cell_type": "code",
   "execution_count": 72,
   "metadata": {},
   "outputs": [],
   "source": [
    "w1 = WebWordsFrequency('http://www.cnn.com','http://www.nature.com', 'https://www.oxfam.org') "
   ]
  },
  {
   "cell_type": "code",
   "execution_count": 73,
   "metadata": {},
   "outputs": [
    {
     "name": "stdout",
     "output_type": "stream",
     "text": [
      "http://www.nature.com\n",
      "https://www.oxfam.org\n",
      "https://github.com\n",
      "{'Oxfam': 170, 'GitHub': 27, 'Join': 25, 'Nature': 23, '2017': 17, 'Sign': 8}\n",
      "['Oxfam']\n"
     ]
    }
   ],
   "source": [
    "w1.addUrl('https://github.com')\n",
    "w1.removeUrl('http://www.cnn.com')\n",
    "w1.listUrls()\n",
    "print(w1.getWordsFrequency())\n",
    "print(w1.getMaxFrequency())"
   ]
  },
  {
   "cell_type": "code",
   "execution_count": 69,
   "metadata": {},
   "outputs": [
    {
     "name": "stdout",
     "output_type": "stream",
     "text": [
      "https://www.oxfam.org\n"
     ]
    }
   ],
   "source": [
    "w1.searchUrlByWord(\"donation\")"
   ]
  },
  {
   "cell_type": "markdown",
   "metadata": {},
   "source": [
    "#### 설명 : 전에 함수화하였던것들을 묶어서 함수화 하였다. 전에 함수화를 해놓은게 있어서 그리 어렵진 않았다. 단지 자바나 c에서는 클래스안에 있는 애들은 그냥 함수를 호출해도 되었지만, 파이썬에서는 부르려면 self를 인수로 받고, self.함수 이렇게 해야 하는점이 조금 달랐다. element_2함수를 스태틱메소드로 한것은 이 함수는 각각객체들이 만들어서 쓸 이유를 모르겠어서이다. 같이 공유해도 상관없을 메소드였다. addUrl함수에서는 중복된것을 안넣고, 중복되지 않는것만 not in을 이용해서 넣었다. removeUrl또한 비슷하지만 얘는 클래스안에 있다면 삭제하게 코드를 짰다.\n",
    "#### listUrl함수 또한 그냥 클래스의 인스턴스 변수인 self.url를 호출하기만하면 되었다. getWordsFrequency함수도 전에 만들었었던 출현빈도가 가장 큰 3단어를 출력하는 함수를 참고하여 만들었다. getMaxFrequency는 getWordsFrequency를 호출해서 가장 큰 값을 반환하면 된다. 이때 값이 같은 단어가 있다면 그것또한 리스트로 묶어서 반환하면 되겠다. searchUrlByWord함수도 전에 헸던 searchRobot함수를 참고하여 클래스식으로 짜보았다. 그 단어를 포함하고 있는 단어가 있다면 그 출현빈도를 count에 넣어서 계속해서 저장해서 다른 url들과 count를 비교하여 가장 큰 url를 출력하는식으로 짜게 되었다! "
   ]
  },
  {
   "cell_type": "markdown",
   "metadata": {},
   "source": [
    "## 8번 문제 : 위 7번 문제에서 정의한 WebWordsFrequency 클래스를 상속하여 OrderedWebWordsFrequency 클래스를 정의하고 슈퍼클래스에 정의된 getWordsFrequency() 메소드를 오버라이드 하여 단어 출현 빈도를 내림 차순으로 정렬하여 리스트로 출력하시오"
   ]
  },
  {
   "cell_type": "code",
   "execution_count": 98,
   "metadata": {},
   "outputs": [],
   "source": [
    "class OrderedWebWordsFrequency(WebWordsFrequency):\n",
    "    def __init__(self, *url):\n",
    "        WebWordsFrequency.__init__(self, *url)\n",
    "    def getWordsFrequency(self,reverse = False):\n",
    "        other = self.wordFrequency\n",
    "        if self.url == [] :\n",
    "            return None\n",
    "        List = []\n",
    "        def two_words_list(s): #사전을 받아서 키값과 밸류값을 튜플로 받아서 sorted함수를 이용하여 밸류값을 기준으로 역순정렬한다 \n",
    "            s = s.items()\n",
    "            s = sorted(s, key = WebWordsFrequency.element_2, reverse = True)\n",
    "            List = [s[x] for x in range(2)] #가장 큰 밸류값이 큰 3개만 리스트에 저장해서 반환한다.\n",
    "            return List\n",
    "        for i in range(len(self.wordFrequency)):\n",
    "            List.extend(two_words_list(self.wordFrequency[i]))\n",
    "           \n",
    "        return sorted(List, key = WebWordsFrequency.element_2, reverse = reverse)"
   ]
  },
  {
   "cell_type": "code",
   "execution_count": 14,
   "metadata": {},
   "outputs": [],
   "source": [
    "w4 = OrderedWebWordsFrequency('http://www.times.com', 'http://www.nature.com', 'https://github.com')"
   ]
  },
  {
   "cell_type": "code",
   "execution_count": 105,
   "metadata": {},
   "outputs": [
    {
     "name": "stdout",
     "output_type": "stream",
     "text": [
      "[('Sign', 8), ('2017', 17), ('Times', 18), ('Nature', 23), ('GitHub', 27), ('raquo', 33)]\n",
      "[('raquo', 33), ('GitHub', 27), ('Nature', 23), ('Times', 18), ('2017', 17), ('Sign', 8)]\n"
     ]
    }
   ],
   "source": [
    "print(w4.getWordsFrequency())\n",
    "print(w4.getWordsFrequency(reverse = True))"
   ]
  },
  {
   "cell_type": "markdown",
   "metadata": {},
   "source": [
    "#### 설명 : 이전 문제에서 만들었던 클래스를 가지고 이번에는 상속을 받아서 오버라이드 하는 문제였다. getWordsFrequency를 오버라이드 하라는 문제였는데, 파이썬에서 상속은 다른언어와 비슷해서 크게 어렵지 않게 사용한것같다.  오버라이드를 해서 기존 부모클래스의 함수와는 다르게 출현빈도 리스트들을 내림차순으로 정렬할거인지 아니면 오름차순으로 정렬할것 인지 선택할수 있게 reverse라는 인수를 하나더 받게 오버라이드 하였다. 전에 있던 부모클래스의 getWordsFrequency와 코드가 다를게 별로 없다. 오버라이드한 함수에서 차이점은 return에서 return sorted(List, key = WebWordsFrequency.element_2, reverse = reverse) 하는점만 다른데 이유는 부모클래스에서의 함수의 코드는 def two_words_list에서 알아서 처음부터 오름차순으로 나오게끔 되어있기 때문이다. (부모클래스의 함수에서는  reverse = True이다)"
   ]
  },
  {
   "cell_type": "markdown",
   "metadata": {},
   "source": [
    "## 9번 문제 : 다음과 같은 코딩이 가능하도록 OrderedWebWordsFrequency 안에 반복자와 관련된 메소드를 추가하시오."
   ]
  },
  {
   "cell_type": "code",
   "execution_count": 18,
   "metadata": {},
   "outputs": [],
   "source": [
    "class OrderedWebWordsFrequency(WebWordsFrequency):\n",
    "    count = 0\n",
    "    def __init__(self, *url):\n",
    "        WebWordsFrequency.__init__(self, *url)\n",
    "    def getWordsFrequency(self,reverse = False):\n",
    "        other = self.wordFrequency\n",
    "        if self.url == [] :\n",
    "            return None\n",
    "        List = []\n",
    "        def two_words_list(s): #사전을 받아서 키값과 밸류값을 튜플로 받아서 sorted함수를 이용하여 밸류값을 기준으로 역순정렬한다 \n",
    "            s = s.items()\n",
    "            s = sorted(s, key = WebWordsFrequency.element_2, reverse = True)\n",
    "            List = [s[x] for x in range(2)] #가장 큰 밸류값이 큰 3개만 리스트에 저장해서 반환한다.\n",
    "            return List\n",
    "        for i in range(len(self.wordFrequency)):\n",
    "            List.extend(two_words_list(self.wordFrequency[i]))\n",
    "        return sorted(List, key = WebWordsFrequency.element_2, reverse = reverse)\n",
    "    def __iter__(self):\n",
    "        return self\n",
    "    def __next__(self):\n",
    "        word = self.getWordsFrequency(True)\n",
    "        if self.count == (len(word)-1): \n",
    "            self.count = 0\n",
    "            raise StopIteration \n",
    "        self.count = self.count + 1\n",
    "        return word[self.count]    "
   ]
  },
  {
   "cell_type": "code",
   "execution_count": 19,
   "metadata": {},
   "outputs": [
    {
     "name": "stdout",
     "output_type": "stream",
     "text": [
      "('GitHub', 27)\n",
      "('Nature', 24)\n",
      "('Times', 18)\n",
      "('2017', 16)\n",
      "('Sign', 8)\n"
     ]
    }
   ],
   "source": [
    "w4 = OrderedWebWordsFrequency('http://www.times.com', 'http://www.nature.com', 'https://github.com')\n",
    "for i in w4:\n",
    "    print(i)"
   ]
  },
  {
   "cell_type": "markdown",
   "metadata": {},
   "source": [
    "#### 설명 : 전 문제에 이어하는 문제인데 이번에는 클래스에 반복자와 next함수를 넣어서 우리가 전에 했던 for i in list이런 구문이 되었던 것처럼 클래스도 이게 가능하도록 할수 있었다. \\_\\_iter\\_\\_함수와 \\_\\_next\\_\\_함수를 정의하여 쓸수 있다. 문제에서 원한것은 단어 출현빈도가 높은 단어를 정리하여 정렬한 getWordsFrequency함수가 반환하는 리스트를 반복자로 만들어서 (단어, 출현빈도)에 접근할수 있도록 하였다. 이때 \\_\\_next\\_\\_함수로는 반복자가 클래스의 어느것이 될건지, 어디서 멈출것인지, 얼만큼 반복하며 갈건지를 정의한다. 때문에 if문으로 리스트의 마지막까지 count로 세며 마지막수까지 가면 raise구문으로 예외처리해버리면 된다!\\_\\_iter\\_\\_함수의 반환은 자기자신을 반환한다. "
   ]
  },
  {
   "cell_type": "markdown",
   "metadata": {},
   "source": [
    "#### 소감  : 매주를 거쳐갈때마다 과제를 갱신해가며 허졉하지만 사이트의 html소스를 가져와서 html소스와 style코드 , java script코드를 걸러내서 순수 단어만(아직 많이 부족한것 같다) html에서 걸러내는 작업과, 영어 불용어 제거하는등 , 검색할때 필요한 여러 작업들을 허졉하게 나마 해보았고, 끈질기게 해서 어쩔때는 하루종일 해보기도 하면서 열심히 했던것 같다. 여기까지 따라오고 해보아서, 뿌듯하고, 스스로가 대견스럽다. 마지막까지 부족하지만 결과가 나와서 기쁘다!  파이썬은 간단하면서도 c나 자바보다 훨씬 자유로운 언어인것 같다. "
   ]
  },
  {
   "cell_type": "code",
   "execution_count": null,
   "metadata": {
    "collapsed": true
   },
   "outputs": [],
   "source": []
  }
 ],
 "metadata": {
  "kernelspec": {
   "display_name": "Python 3",
   "language": "python",
   "name": "python3"
  },
  "language_info": {
   "codemirror_mode": {
    "name": "ipython",
    "version": 3
   },
   "file_extension": ".py",
   "mimetype": "text/x-python",
   "name": "python",
   "nbconvert_exporter": "python",
   "pygments_lexer": "ipython3",
   "version": "3.6.1"
  }
 },
 "nbformat": 4,
 "nbformat_minor": 2
}
