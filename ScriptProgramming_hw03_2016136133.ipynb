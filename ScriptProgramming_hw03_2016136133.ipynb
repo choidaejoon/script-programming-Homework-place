{
 "cells": [
  {
   "cell_type": "markdown",
   "metadata": {},
   "source": [
    "# 스크립트 프로그래밍 3번째 과제\n",
    "## 2016136133 최대준\n",
    "### 1번문제\n",
    "* L=[1, 2, 3, 4, 5]일 때 다음 각 문장을 수행한 후의 결과를 보고 납득할 만한 이유를 설명하시오. \n",
    " * 1)L[1:3] = [100]\n",
    "    \n",
    "    print(L)"
   ]
  },
  {
   "cell_type": "code",
   "execution_count": 2,
   "metadata": {},
   "outputs": [
    {
     "name": "stdout",
     "output_type": "stream",
     "text": [
      "[1, 100, 4, 5]\n"
     ]
    }
   ],
   "source": [
    "L = [1, 2, 3, 4, 5]\n",
    "L[1:3] = [100]\n",
    "print(L)"
   ]
  },
  {
   "cell_type": "markdown",
   "metadata": {},
   "source": [
    "설명 : 슬라이싱을 인덱스1번째부터 인덱스3번째까지인데 1이상 3초과 이므로 1과 2를 자른곳에 100을 넣는다는 소리이다. 때문에 1, 2, 3, 4, 5인 리스트에서 2와 3이 100이 된다. 따라서 1, 100, 4, 5가 된다."
   ]
  },
  {
   "cell_type": "markdown",
   "metadata": {},
   "source": [
    " * 2)L[1:3] = [(100)]\n",
    " \n",
    " print(L)"
   ]
  },
  {
   "cell_type": "code",
   "execution_count": 3,
   "metadata": {},
   "outputs": [
    {
     "name": "stdout",
     "output_type": "stream",
     "text": [
      "[1, 100, 4, 5]\n"
     ]
    }
   ],
   "source": [
    "L = [1, 2, 3, 4, 5]\n",
    "L[1:3] = [(100)]\n",
    "print(L)"
   ]
  },
  {
   "cell_type": "markdown",
   "metadata": {},
   "source": [
    "설명 : 여기서 (100)은 튜플로 취급하지 않고 숫자 100로 인식하게 된다.따라서 전것과 같이 슬라이싱을 인덱스1번째부터 인덱스3번째까지인데 1이상 3초과 이므로 1과 2를 자른곳에 100을 넣는다는 소리이므로 1, 2, 3, 4, 5인 리스트에서 2와 3이 100이 된다. 따라서 1, 100, 4, 5가 된다."
   ]
  },
  {
   "cell_type": "markdown",
   "metadata": {},
   "source": [
    "* 3)L[1:3] = 100\n",
    "\n",
    "    print(L)\n"
   ]
  },
  {
   "cell_type": "code",
   "execution_count": 4,
   "metadata": {},
   "outputs": [
    {
     "ename": "TypeError",
     "evalue": "can only assign an iterable",
     "output_type": "error",
     "traceback": [
      "\u001b[1;31m---------------------------------------------------------------------------\u001b[0m",
      "\u001b[1;31mTypeError\u001b[0m                                 Traceback (most recent call last)",
      "\u001b[1;32m<ipython-input-4-edc1b0549df9>\u001b[0m in \u001b[0;36m<module>\u001b[1;34m()\u001b[0m\n\u001b[0;32m      1\u001b[0m \u001b[0mL\u001b[0m \u001b[1;33m=\u001b[0m \u001b[1;33m[\u001b[0m\u001b[1;36m1\u001b[0m\u001b[1;33m,\u001b[0m \u001b[1;36m2\u001b[0m\u001b[1;33m,\u001b[0m \u001b[1;36m3\u001b[0m\u001b[1;33m,\u001b[0m \u001b[1;36m4\u001b[0m\u001b[1;33m,\u001b[0m \u001b[1;36m5\u001b[0m\u001b[1;33m]\u001b[0m\u001b[1;33m\u001b[0m\u001b[0m\n\u001b[1;32m----> 2\u001b[1;33m \u001b[0mL\u001b[0m\u001b[1;33m[\u001b[0m\u001b[1;36m1\u001b[0m\u001b[1;33m:\u001b[0m\u001b[1;36m3\u001b[0m\u001b[1;33m]\u001b[0m \u001b[1;33m=\u001b[0m \u001b[1;36m100\u001b[0m\u001b[1;33m\u001b[0m\u001b[0m\n\u001b[0m\u001b[0;32m      3\u001b[0m \u001b[0mprint\u001b[0m\u001b[1;33m(\u001b[0m\u001b[0mL\u001b[0m\u001b[1;33m)\u001b[0m\u001b[1;33m\u001b[0m\u001b[0m\n",
      "\u001b[1;31mTypeError\u001b[0m: can only assign an iterable"
     ]
    }
   ],
   "source": [
    "L = [1, 2, 3, 4, 5]\n",
    "L[1:3] = 100\n",
    "print(L)"
   ]
  },
  {
   "cell_type": "markdown",
   "metadata": {},
   "source": [
    "설명 : 빵꾸난곳(슬라이싱)의 타입은 list(집합적 자료형)인데 int형(수치적 자료형)인 100을 넣어서 에러가 난것이다. [100]을 대입해줘야 바람직하다."
   ]
  },
  {
   "cell_type": "markdown",
   "metadata": {},
   "source": [
    " * 4)L[1:3] = (100)\n",
    "\n",
    "    print(L)"
   ]
  },
  {
   "cell_type": "code",
   "execution_count": 7,
   "metadata": {},
   "outputs": [
    {
     "ename": "TypeError",
     "evalue": "can only assign an iterable",
     "output_type": "error",
     "traceback": [
      "\u001b[1;31m---------------------------------------------------------------------------\u001b[0m",
      "\u001b[1;31mTypeError\u001b[0m                                 Traceback (most recent call last)",
      "\u001b[1;32m<ipython-input-7-fcb29dd6421c>\u001b[0m in \u001b[0;36m<module>\u001b[1;34m()\u001b[0m\n\u001b[0;32m      1\u001b[0m \u001b[0mL\u001b[0m \u001b[1;33m=\u001b[0m \u001b[1;33m[\u001b[0m\u001b[1;36m1\u001b[0m\u001b[1;33m,\u001b[0m \u001b[1;36m2\u001b[0m\u001b[1;33m,\u001b[0m \u001b[1;36m3\u001b[0m\u001b[1;33m,\u001b[0m \u001b[1;36m4\u001b[0m\u001b[1;33m,\u001b[0m \u001b[1;36m5\u001b[0m\u001b[1;33m]\u001b[0m\u001b[1;33m\u001b[0m\u001b[0m\n\u001b[1;32m----> 2\u001b[1;33m \u001b[0mL\u001b[0m\u001b[1;33m[\u001b[0m\u001b[1;36m1\u001b[0m\u001b[1;33m:\u001b[0m\u001b[1;36m3\u001b[0m\u001b[1;33m]\u001b[0m \u001b[1;33m=\u001b[0m \u001b[1;33m(\u001b[0m\u001b[1;36m100\u001b[0m\u001b[1;33m)\u001b[0m\u001b[1;33m\u001b[0m\u001b[0m\n\u001b[0m\u001b[0;32m      3\u001b[0m \u001b[0mprint\u001b[0m\u001b[1;33m(\u001b[0m\u001b[0mL\u001b[0m\u001b[1;33m)\u001b[0m\u001b[1;33m\u001b[0m\u001b[0m\n",
      "\u001b[1;31mTypeError\u001b[0m: can only assign an iterable"
     ]
    }
   ],
   "source": [
    "L = [1, 2, 3, 4, 5]\n",
    "L[1:3] = (100)\n",
    "print(L)"
   ]
  },
  {
   "cell_type": "markdown",
   "metadata": {},
   "source": [
    "설명 : 이것도 똑같이 빵꾸난곳(슬라이스)은 타입이 리스트(집합적 자료형)인데 리터럴(수치적 자료형) 인트형인 (100)을 넣어서 에러가 나는것이다. [100]을 해서 리스트타입을 맞춰주는것이 좋다."
   ]
  },
  {
   "cell_type": "markdown",
   "metadata": {},
   "source": [
    " * 5)L[1:3] = (100, 101, 102)\n",
    "\n",
    " print(L)"
   ]
  },
  {
   "cell_type": "code",
   "execution_count": 23,
   "metadata": {},
   "outputs": [
    {
     "name": "stdout",
     "output_type": "stream",
     "text": [
      "[1, 100, 101, 102, 4, 5]\n"
     ]
    }
   ],
   "source": [
    "L = [1, 2, 3, 4, 5]\n",
    "L[1:3] = (100, 101, 102)\n",
    "#L = L[0:1] + L[1:3] + L[3:4] 이런작업을 자동으로 거쳐서 101다음이 102가 온게 아닌가 싶다. (L[1:3] = (100, 101, 102)이니까)\n",
    "print(L)"
   ]
  },
  {
   "cell_type": "markdown",
   "metadata": {},
   "source": [
    "설명 : 타입이 맞으므로 (집합적자료형) 대입이 된다. 인덱스1이상 3초과까지 슬라이싱한다. 그곳에 튜플(100, 101, 102)를 언패킹해서 넣게 된다. 따라서 L[1:3] = [100,101,102]가 되어서 L = L[0:1] + L[1:3] + L[3:4]작업을 거쳐  [1, 100, 101, 102, 4, 5]이게 나온거 같다!"
   ]
  },
  {
   "cell_type": "markdown",
   "metadata": {},
   "source": [
    " * 6)L[1:3] = [100, 101, 102]\n",
    "\n",
    " print(L)"
   ]
  },
  {
   "cell_type": "code",
   "execution_count": 11,
   "metadata": {},
   "outputs": [
    {
     "name": "stdout",
     "output_type": "stream",
     "text": [
      "[1, 100, 101, 102, 4, 5]\n"
     ]
    }
   ],
   "source": [
    "L = [1, 2, 3, 4, 5]\n",
    "L[1:3] = [100, 101, 102]\n",
    "print(L)"
   ]
  },
  {
   "cell_type": "markdown",
   "metadata": {},
   "source": [
    "설명 : 집합적 자료형인 리스트이므로 타입이 맞다. 따라서 인덱스 1, 2자리에 [100,101,102]이 언패킹해서 들어가게 된다. 위에 설명처럼!"
   ]
  },
  {
   "cell_type": "markdown",
   "metadata": {},
   "source": [
    " * 7)L[1:3] = [(100, 101, 102)]\n",
    "\n",
    " print(L)"
   ]
  },
  {
   "cell_type": "code",
   "execution_count": 22,
   "metadata": {
    "scrolled": true
   },
   "outputs": [
    {
     "name": "stdout",
     "output_type": "stream",
     "text": [
      "[1, (100, 101, 102), 4, 5]\n"
     ]
    }
   ],
   "source": [
    "L = [1, 2, 3, 4, 5]\n",
    "L[1:3] = [(100, 101, 102)]\n",
    "print(L)"
   ]
  },
  {
   "cell_type": "markdown",
   "metadata": {},
   "source": [
    "설명 : 집합적 자료형인 리스트이므로 타입이 맞다 따라서 []안의 원소들을 언패킹해서 L[1:3]에 swallow copy해서 들어간다.(A = [[100,101,102]]해서 L[1:3] = A; A[0][1]= 99이러한 실험해봤는데 A의 원소가 바뀜에 따라서 L의 원소도 바꿔었다.)"
   ]
  },
  {
   "cell_type": "markdown",
   "metadata": {},
   "source": [
    "### 2번 문제\n",
    "* 문자열 S = 'Hello World and Python'에 대해 다음 요구사항에 대한 Python 코드를 제시하시오. \n",
    " * 1) 단어의 순서가 역순으로 되어진 문자열 ('Python and World Hello')을 만들고 \n",
    " "
   ]
  },
  {
   "cell_type": "code",
   "execution_count": 46,
   "metadata": {},
   "outputs": [
    {
     "name": "stdout",
     "output_type": "stream",
     "text": [
      "Python and World Hello \n"
     ]
    }
   ],
   "source": [
    "S = 'Hello World and Python'\n",
    "L = []\n",
    "L = S.split()\n",
    "L = L[::-1]\n",
    "S1 = \"\"\n",
    "for i in L:\n",
    "    S1 = S1 + i + \" \"\n",
    "print(S1)"
   ]
  },
  {
   "cell_type": "markdown",
   "metadata": {},
   "source": [
    "설명 : 문자열 S를 스플릿함수로 리스트로 분해한것들을 L리스트에 저장한다. 그리고 나서 슬라이싱을 이용해서 리스트원소들의 순서를 뒤집는다. 그리고 나서 문자열 S1을 만들고, for문으로 i를 리스트L의 각각원소에 접근하여 그원소를 S1에 저장한다.\n",
    "* * 2) 1)의 결과 문자열에 대해 메소드 split과 join을 이용하여 공백을 모두 없엔 문자열 'PythonandWorldHello'을 만드시오.\n"
   ]
  },
  {
   "cell_type": "code",
   "execution_count": 48,
   "metadata": {
    "scrolled": true
   },
   "outputs": [
    {
     "name": "stdout",
     "output_type": "stream",
     "text": [
      "PythonandWorldHello\n"
     ]
    }
   ],
   "source": [
    "S2 = S1.split()\n",
    "S2 = \"\".join(S2)\n",
    "print(S2)"
   ]
  },
  {
   "cell_type": "markdown",
   "metadata": {},
   "source": [
    "설명 : 위에서 만든 문자열을 다시 스플릿함수로 리스트로 분해한다. 그리고 다시 join함수를 이용해서 원소들을 문자열로 붙인다. 이때 \"\"을 해서 아무것도 없이 붙인다. \"\"에 문자열이 있으면 그걸 원소사이에 넣으면서 붙이게 된다."
   ]
  },
  {
   "cell_type": "markdown",
   "metadata": {},
   "source": [
    "### 3번 문제\n",
    " * 다음 코드를 보고 물음에 답하시오.\n",
    "\n",
    "\n",
    " a = [1, 2, 3]\n",
    "\n",
    "b = a * 3\n",
    "\n",
    "c = [a] * 3\n",
    "\n",
    "print(b)\n",
    " \n",
    " print(c)"
   ]
  },
  {
   "cell_type": "markdown",
   "metadata": {},
   "source": [
    "* * 1)위 코드를 수행한 이후 다음 코드를 수행한 후 b와 c의 내용을 확인하시오.\n",
    " * 2)b와 c의 객체의 차이는 무엇인가?"
   ]
  },
  {
   "cell_type": "code",
   "execution_count": 50,
   "metadata": {},
   "outputs": [
    {
     "name": "stdout",
     "output_type": "stream",
     "text": [
      "[1, 2, 3, 1, 2, 3, 1, 2, 3]\n",
      "[[0, 2, 3], [0, 2, 3], [0, 2, 3]]\n"
     ]
    }
   ],
   "source": [
    "a = [1, 2, 3]\n",
    "b = a * 3\n",
    "c = [a] * 3\n",
    "a[0] = 0\n",
    "print(b)\n",
    "print(c)"
   ]
  },
  {
   "cell_type": "markdown",
   "metadata": {},
   "source": [
    "설명 : b의 출력결과는 a[0] = 0을 바꿧음에도 바뀌지않았다. 하지만 c의 출력결과는 이에 반대로 결과값이 바뀌었다. b에는 a들의 원소가 리스트로 [1,2,3,1,2,3,1,2,3]이렇게 들어가서 하나하나 1,2,3을 가리키고 있다. 따라서 a[0]이 가리키는게 바뀌어도 b[0],b[3],b[6]은 바뀌지 않는다. (각자 개별로 1을 가리키므로) \n",
    "\n",
    "반면에 c는 a의 리스트 전체를 복사하였다. 그래서 리스트a 그자체를 c[0],c[1],c[2]가 각각 가르킨다. 그러나 리스트안의 원소객체들을 따로따로 다 가르키고 있는것이 아니고 전체를 가르키는것이니까 a안의 원소가 바뀜에 따라 c도 변한다. 따라서 저런 결과가 나온것이다. 그림으로 표현하면 훨씬더 이해하기 편할거 같다. 강의자료에도 그림으로 표현되어 있기도 하다. swallow copy로."
   ]
  },
  {
   "cell_type": "markdown",
   "metadata": {},
   "source": [
    "### 4번문제\n",
    "* 다음 문자열을 ':'을 기준으로 분리하여 리스트로 만들고 각 문자열의 좌우 공백을 제거하시오 (즉, 문자열 S에서 l을 만들어라)\n",
    " * 1) for ~ in 문을 이용한 코드를 작성하시오. "
   ]
  },
  {
   "cell_type": "code",
   "execution_count": 72,
   "metadata": {},
   "outputs": [
    {
     "name": "stdout",
     "output_type": "stream",
     "text": [
      "['first star', 'second star', 'third star']\n"
     ]
    }
   ],
   "source": [
    "s = '  first star   :   second star   :    third star  '\n",
    "l = []\n",
    "l = s.split(\":\")\n",
    "for i in range(len(l)):\n",
    "    l[i] = l[i].strip()\n",
    "print(l)"
   ]
  },
  {
   "cell_type": "markdown",
   "metadata": {},
   "source": [
    "설명 : 우선 \":\"문자를 기준으로 리스트로 원소를 분리한다. (split함수로) for문을 이용해서 i를 마지막인덱스까지 반복시킨다. 그때 strip함수를 이용해서 원소들을 하나하나 순서대로 좌우 공백을 제거한후에 그인덱스에 다시 대입해준다. "
   ]
  },
  {
   "cell_type": "markdown",
   "metadata": {},
   "source": [
    "* * 2) 리스트 내포(list comprehension)를 이용한 코드를 작성하시오."
   ]
  },
  {
   "cell_type": "code",
   "execution_count": 75,
   "metadata": {},
   "outputs": [
    {
     "name": "stdout",
     "output_type": "stream",
     "text": [
      "['first star', 'second star', 'third star']\n"
     ]
    }
   ],
   "source": [
    "s = '  first star   :   second star   :    third star  '\n",
    "l = s.split(\":\")\n",
    "l=[l[i].strip() for i in range(len(l))]\n",
    "print(l)"
   ]
  },
  {
   "cell_type": "markdown",
   "metadata": {},
   "source": [
    "설명 : 우선 l에 스플릿함수를 이용해서 \":\"문자기준으로 잘라서 리스트를 만든다. 그리고, 리스트 내포를 이용해서 리스트l에 스트립함수를 이용해서 좌우공백을 없앤 문자열을 다시 리스트l에 하나하나 순서대로 대입하게 된다."
   ]
  },
  {
   "cell_type": "markdown",
   "metadata": {},
   "source": [
    "### 5번문제\n",
    "* 다음과 같이 0보다 큰 정수 리스트 변수 list를 인자로 받는 함수 addall(list)와 addallodd(list)를 for ~ in 리터널과 리스트 내포 방식으로 각각 제시하시오.\n",
    " * 1) addall(list) 함수 (리스트 내의 모든 정수를 더하는 함수로서 해답으로는 for ~ in 리터럴과 리스트 내포 방식으로 각각 제시하시오.)\n"
   ]
  },
  {
   "cell_type": "code",
   "execution_count": 27,
   "metadata": {},
   "outputs": [
    {
     "name": "stdout",
     "output_type": "stream",
     "text": [
      "15\n"
     ]
    }
   ],
   "source": [
    "def addall(list):\n",
    "    count = 0\n",
    "    for i in list:\n",
    "        if type(i) == int:\n",
    "            count= count + i \n",
    "        else :\n",
    "            continue\n",
    "    return count\n",
    "list = [1,2,3,4,5]\n",
    "print(addall(list))"
   ]
  },
  {
   "cell_type": "markdown",
   "metadata": {},
   "source": [
    "설명 : addall함수를 정의하고 몸체에는 count라는 리스트의 총합을 넣을 변수를 0으로 초기화하고, 만약 타입이 정수가 아니면 다음원소로 continue하고 맞다면 총합에 더하는식으로 한다."
   ]
  },
  {
   "cell_type": "code",
   "execution_count": 25,
   "metadata": {},
   "outputs": [
    {
     "name": "stdout",
     "output_type": "stream",
     "text": [
      "36\n"
     ]
    }
   ],
   "source": [
    "def addall(list):\n",
    "    return sum([ i for i in list if type(i) == int],0)\n",
    "    \n",
    "list = [1,2,3,3,7,20]\n",
    "print(addall(list))"
   ]
  },
  {
   "cell_type": "markdown",
   "metadata": {},
   "source": [
    "설명 : 리스트 내포를 이용하려고 보니 위에서 count = count + i와 같은식을 내포에서는 허용하지 않았다. 따라서 sum이라는 내장함수를 이용해서 하였다. sum내장함수는 매개변수로 리스트와 처음초기값을 받는다. 따라서 매개변수 리스트를 받는곳에 리스트내포를 사용하여 리스트를 넣는데 이문제같은경우에는 딱히 바꿀게 없었다. 리스트전체를 넣어도 무방한 문제였지만 문제에서 그렇게 하라고 하였으니 그렇게 하였다."
   ]
  },
  {
   "cell_type": "markdown",
   "metadata": {},
   "source": [
    "* * 2) addallodd(list) 함수 (리스트내의 모든 홀수를 더하는 함수로서 해답으로는 for ~ in 리터럴과 리스트 내포 방식으로 각각 제시하시오.)"
   ]
  },
  {
   "cell_type": "code",
   "execution_count": 31,
   "metadata": {},
   "outputs": [
    {
     "name": "stdout",
     "output_type": "stream",
     "text": [
      "25\n"
     ]
    }
   ],
   "source": [
    "def addallodd(list):\n",
    "    count = 0\n",
    "    for i in list :\n",
    "        if (type(i) == int) and (i % 2 > 0):\n",
    "            count= count + i \n",
    "        else :\n",
    "            continue\n",
    "    return count\n",
    "list = [1,3,4,5,7,9,8]\n",
    "print(addallodd(list))"
   ]
  },
  {
   "cell_type": "markdown",
   "metadata": {},
   "source": [
    "설명 : 알고리즘은 위에 같다. if문에 하나만 더 추가해주면 된다. and (i % 2>0)를 추가해주면 된다 . 홀수만 더해야 하므로!"
   ]
  },
  {
   "cell_type": "code",
   "execution_count": 32,
   "metadata": {},
   "outputs": [
    {
     "name": "stdout",
     "output_type": "stream",
     "text": [
      "49\n"
     ]
    }
   ],
   "source": [
    "def addallodd(list):\n",
    "    return sum([ i for i in list if (type(i) == int) and (i % 2 > 0)],0)\n",
    "    \n",
    "list = [1,2,3,3,7,20,35,26]\n",
    "print(addallodd(list))"
   ]
  },
  {
   "cell_type": "markdown",
   "metadata": {},
   "source": [
    "설명 : 이역시 위에 문제와 똑같다. 함수에 list를 받게 되면 sum함수에 매개변수 리스트자리에 넣는다. 이때 리스트내포로 리스트안의 홀수정수만 넣어서 합은 홀수만 나오게 한다."
   ]
  },
  {
   "cell_type": "markdown",
   "metadata": {},
   "source": [
    "### 6번문제 \n",
    "* 다음 코드를 보고 물음에 답하시오.\n",
    " * 1) 위 코드의 수행 결과 d와 e는 항상 같은 결과를 출력한다. 그 이유는 무엇인가?\n",
    " * 2) 위 코드의 수행 결과 마지막 f의 내용은 다음과 같다. 이 때 'high' 키의 값 내용 중 500이 출력된 이유와 'low' 키의 값 내용 중 [1, 2, 3]이 출력된 이유를 설명하시오 ([hint]: shallow copy 관점에서 설명하시오.)"
   ]
  },
  {
   "cell_type": "code",
   "execution_count": 33,
   "metadata": {},
   "outputs": [
    {
     "name": "stdout",
     "output_type": "stream",
     "text": [
      "{'low': [1, 2, 3], 'high': [4, 5, 6]}\n",
      "{'low': [1, 2, 3], 'high': [4, 5, 6]}\n",
      "{'low': [1, 2, 3], 'high': [4, 5, 6]}\n",
      "\n",
      "{'low': [10, 20, 30], 'high': [4, 500, 6]}\n",
      "{'low': [10, 20, 30], 'high': [4, 500, 6]}\n",
      "{'low': [1, 2, 3], 'high': [4, 500, 6]}\n"
     ]
    }
   ],
   "source": [
    "L1 = [1, 2, 3]\n",
    "L2 = [4, 5, 6]\n",
    "d = {'low':L1, 'high':L2}\n",
    "e = d\n",
    "f = d.copy()\n",
    "print(d)\n",
    "print(e)\n",
    "print(f)\n",
    "print()\n",
    "d['low'] = [10, 20, 30]\n",
    "d['high'][1] = 500\n",
    "print(d)\n",
    "print(e)\n",
    "print(f)"
   ]
  },
  {
   "cell_type": "markdown",
   "metadata": {},
   "source": [
    "설명 : d와 e가 항상 같은 값을 출력하는 이유는 e는 아예 d 자체가 되기 때문이다. 이말은 e가 d를 가르킨다고 하면 되겠다. 따라서 d가 바뀌면 e는 d를 가르키므로 e또한 바뀌게 된다 . 하지만 f는 다르다. f는 d.copy()로 d를 복사한것인데, 이는 d의 원소객체들 각각을 f에서 따로 가르키게 한것 이므로 그렇다. 이렇게 하면 d가 바뀌어도 f\n",
    "는 d의 값을 따라가지 않게 된다. 하지만 f는 swallow copy이므로 d의 원소중에 컨테이너 객체의 안의 원소 까지는따로 가르키지 않는다.(컨테이너 객체 자체를 가르키게 된다.)따라서 컨테이너 객체의 안의 원소객체가 가르키는게 바뀌면 f또한 바뀌게 된다. hard copy는 이러한 일이 일어나지 않게 컨테이너 객체의 원소의 객체까지도 따로 가르키게 하는것이라고 하셨다."
   ]
  },
  {
   "cell_type": "markdown",
   "metadata": {},
   "source": [
    "### 7번문제\n",
    " * 사전 d = {'one':1, 'two':2, 'three':3, 'four':4, 'five':5}가 주어졌을 때 다음 요구사항에 맞는 코드를 제시하시오 \n",
    "  * [참고]: d.keys(), d.values()를 통해 리스트를 얻어낸 후 리스트가 지니고 있는 sort(cmp=None, key=None, reverse=False)함수를 활용하시오.\n",
    "  * 1) 키의 알파벳 오름차순 순서대로 튜플 (키, 값)을 차례대로 출력하시오."
   ]
  },
  {
   "cell_type": "code",
   "execution_count": 44,
   "metadata": {},
   "outputs": [
    {
     "name": "stdout",
     "output_type": "stream",
     "text": [
      "[('five', 5), ('four', 4), ('one', 1), ('three', 3), ('two', 2)]\n"
     ]
    }
   ],
   "source": [
    "d = {'one':1, 'two':2, 'three':3, 'four':4, 'five':5}\n",
    "l = d.items()\n",
    "l = sorted(l)\n",
    "print(l)"
   ]
  },
  {
   "cell_type": "markdown",
   "metadata": {},
   "source": [
    "설명 : python3부터는 dict.items(), dict.values(), dict.keys()를 보기형태로 반환하므로 sort에 못들어가고 sorted함수를 이용해야 한다고 한다. 따라서 sorted함수를 이용해서 구현하는데 알파벳 오름차순으로 정렬이므로 key나 reverse를 건들필요는 없다."
   ]
  },
  {
   "cell_type": "markdown",
   "metadata": {},
   "source": [
    "* * 2) 키의 알파벳 내림차순 순서대로 튜플 (키, 값)을 차례대로 출력하시오."
   ]
  },
  {
   "cell_type": "code",
   "execution_count": 45,
   "metadata": {},
   "outputs": [
    {
     "name": "stdout",
     "output_type": "stream",
     "text": [
      "[('two', 2), ('three', 3), ('one', 1), ('four', 4), ('five', 5)]\n"
     ]
    }
   ],
   "source": [
    "d = {'one':1, 'two':2, 'three':3, 'four':4, 'five':5}\n",
    "l = d.items()\n",
    "l = sorted(l,reverse = True)\n",
    "print(l)"
   ]
  },
  {
   "cell_type": "markdown",
   "metadata": {},
   "source": [
    "설명 : 이번에는 내림차순 순서대로 출력하면 되므로 sorted에서 reverse = True를 해주면 오름차순의 역순, 즉 내림차순으로 정렬이 된다."
   ]
  },
  {
   "cell_type": "markdown",
   "metadata": {},
   "source": [
    "* * 3) 값의 오름차순 순서대로 튜플 (키, 값)을 차례대로 출력하시오. "
   ]
  },
  {
   "cell_type": "code",
   "execution_count": 50,
   "metadata": {},
   "outputs": [
    {
     "name": "stdout",
     "output_type": "stream",
     "text": [
      "[('one', 1), ('two', 2), ('three', 3), ('four', 4), ('five', 5)]\n"
     ]
    }
   ],
   "source": [
    "def cmp_by_each_element(a):\n",
    "    return a[1]\n",
    "\n",
    "d = {'one':1, 'two':2, 'three':3, 'four':4, 'five':5}\n",
    "l = d.items()\n",
    "l = sorted(l,key = cmp_by_each_element)\n",
    "print(l)"
   ]
  },
  {
   "cell_type": "markdown",
   "metadata": {},
   "source": [
    "설명 : 코드는 위에것과 비슷한데 조금 다르다. 이번에는 리스트안의 튜플의 두번째원소를 기준으로 정렬하는 것이기 때문에 함수를 만들어서 두번째원소를 기준으로 하게 해야한다. 함수에서는 a를 받으면 a[1]를 반환하게 한다.(두번째 원소 반환) 한다음, sorted의 두번째 매개변수로 함수를 줘버린다. 이걸로 정렬을 하라는 뜻으로!"
   ]
  },
  {
   "cell_type": "markdown",
   "metadata": {},
   "source": [
    "* * 4) 값의 내림차순 순서대로 튜플 (키, 값)을 차례대로 출력하시오."
   ]
  },
  {
   "cell_type": "code",
   "execution_count": 51,
   "metadata": {},
   "outputs": [
    {
     "name": "stdout",
     "output_type": "stream",
     "text": [
      "[('five', 5), ('four', 4), ('three', 3), ('two', 2), ('one', 1)]\n"
     ]
    }
   ],
   "source": [
    "def cmp_by_each_element(a):\n",
    "    return a[1]\n",
    "\n",
    "d = {'one':1, 'two':2, 'three':3, 'four':4, 'five':5}\n",
    "l = d.items()\n",
    "l = sorted(l,key = cmp_by_each_element,reverse = True)\n",
    "print(l)"
   ]
  },
  {
   "cell_type": "markdown",
   "metadata": {},
   "source": [
    "설명 : 이것도 코드는 거의 위와 비슷하다 근데 여기서 오름차순의 반대인 내림차순으로 정렬이므로 sorted의 세번째 매개변수인 reverse = True를 해주면 역순으로 정렬을 하게 되어서 내림차순으로 출력이 된다!"
   ]
  },
  {
   "cell_type": "markdown",
   "metadata": {},
   "source": [
    "### 8번문제\n",
    " * ACM-1CPC 문제 1152번\n",
    "  * 영어 대소문자와 띄어쓰기만으로 이루어진 문장이 주어진다. 이 문장에는 몇 개의 단어가 있을까? 이를 구하는 프로그램을 작성하시오. 단, 단어는 띄어쓰기 하나로 구분된다고 생각한다."
   ]
  },
  {
   "cell_type": "code",
   "execution_count": 55,
   "metadata": {},
   "outputs": [
    {
     "name": "stdout",
     "output_type": "stream",
     "text": [
      "My name is choi dae june\n",
      "6\n"
     ]
    }
   ],
   "source": [
    "S = input()\n",
    "l = S.split()\n",
    "print(len(l))"
   ]
  },
  {
   "cell_type": "markdown",
   "metadata": {},
   "source": [
    "설명 : 문자열S을 입력받고, 띄어쓰기를 기준으로 split함수로 단어를 짜르고 리스트l에 집어 넣는다. 그후에 len함수를 이용해서 출력한다."
   ]
  },
  {
   "cell_type": "markdown",
   "metadata": {},
   "source": [
    "채점 결과 : \n",
    "![](https://github.com/choidaejoon/script-programming-Homework-place/blob/master/2017-10-29_backjoon1152.PNG?raw=true)"
   ]
  },
  {
   "cell_type": "markdown",
   "metadata": {},
   "source": [
    "### 9번 문제\n",
    "* [Incremental Project] 이전 Assignment 2의 마지막 문제는 웹 URL로 지정된 웹페이지를 문자열로 가져와 모든 HTML 태그 및 CSS와 Javascript를 제외한 순수 텍스트를 얻어내고 그 안에 존재하는 단어를 추출하고 단어들의 총 개수를 출력하는 프로그램을 작성하는 것이었다. 이번에는 그 마지막 숙제를 그대로 확장하여 웹 URL로 지정된 웹페이지 내 순수 텍스트 안에 존재하는 각 단어들에 대해 다음 요구사항 대로 출력하는 프로그램을 작성하시오. \n",
    " \n",
    " * 요구사항 1. 순수 텍스트 안에 존재하는 단어들에 대해 string 모듈을 활용하여 모든 punctuation (구두문자)를 완벽히 제거하시오.\n",
    "   * 예: ['world!', ':', '+hello+', '~python$$$', '=', 'world'] ---> ['world', 'hello',         'python', 'world']\n",
    "   * 모든 punctuation을 확인하는 방법은 아래와 같다.import string\n",
    "print(string.punctuation)\n",
    "\n",
    " * 요구사항 2. 만약 punctuation (구두문자)를 제거한 이후 공백으로 판명되는 단어들은 해당 단어 리스트에서 제거하시오.◦예: ['컴퓨터공학부!', '---?', '%지향~', '...'] ---> ['컴퓨터공학부', '지향']\n",
    "\n",
    " * 요구사항 3. 각 단어들의 출현빈도를 사전형태로 저장하여 출력하시오.◦예: ['world', 'hello', 'python', 'world', '컴퓨터공학부', '지향'] ---> {'world': 2, 'hello': 1, 'python': 1, '컴퓨터공학부': 1, '지향': 1}\n",
    "\n",
    " * 요구사항 4. 다음 3개의 사이트에 대한 결과를 출력하시오.\n",
    "   * http://www.naver.com\n",
    "   * http://www.daum.net\n",
    "   * http://www.nytimes.com\n",
    "\n"
   ]
  },
  {
   "cell_type": "code",
   "execution_count": 38,
   "metadata": {
    "collapsed": true,
    "scrolled": true
   },
   "outputs": [],
   "source": [
    "#html에서 자바스크립트코드와, 스타일 코드를 삭제하는 함수이다.\n",
    "def html_java_script_and_style_del(html_source):\n",
    "    s1 = \"\"\n",
    "    switch = False\n",
    "    switch2 = 0\n",
    "    start = 0\n",
    "    end = 0\n",
    "    for i in range(len(html_source)):\n",
    "        if switch2 == False:\n",
    "            html_source = html_source[:start] + (end - start)*\" \" + html_source[end:]\n",
    "            switch2 = True\n",
    "        if html_source[i] == '<':\n",
    "            switch = True\n",
    "            s1 = \"\"\n",
    "        if switch == True:\n",
    "            s1 = s1 + html_source[i]    \n",
    "        if s1 == '<script' or s1 == '<style' :\n",
    "            switch2 = True\n",
    "            if s1 == '<script':\n",
    "                start = i-6\n",
    "            else :\n",
    "                start = i-5\n",
    "        if s1 == '</script' or s1 == '</style':\n",
    "            switch2 =False\n",
    "            if s1 == '</script':\n",
    "                end = i-7\n",
    "            else :\n",
    "                end = i-6\n",
    "        if html_source[i] == '>':\n",
    "            switch = False\n",
    "    return html_source\n",
    "#html소스코드에서 html태그를 삭제하는 함수이다. 저번에 짠 코드를 함수화 시켰다.\n",
    "def html_code_del(html_source):\n",
    "    count = 0\n",
    "    switch = 0\n",
    "    for i in html_source:\n",
    "        if i == '<':\n",
    "            switch = True\n",
    "        if switch == True:\n",
    "            html_source = html_source[:count] + ' ' + html_source[count+1:]\n",
    "        if i == '>':\n",
    "            switch = False\n",
    "        count = count + 1\n",
    "    wordList = html_source.split()\n",
    "    return wordList\n",
    "#단어 리스트에서 구두문자를 제거한 리스트를 반환하는 함수이다.\n",
    "import string\n",
    "def punctuation_del(List):\n",
    "    punctuationList = [string.punctuation[i] for i in range(len(string.punctuation))]\n",
    "    for i in range(len(List)):\n",
    "        for j in range(len(List[i])):\n",
    "            for k in range(len(punctuationList)):\n",
    "                if List[i][j] == punctuationList[k]:\n",
    "                    List[i] = List[i][:j] + \" \" + List[i][j+1:]\n",
    "    List = \" \".join(List)\n",
    "    List = List.split()\n",
    "    return List\n",
    "\n",
    "#리스트에서 똑같은 단어를 찾는 함수이다. (단어, 중복단어의수)의 리스트로 반환한다.\n",
    "def same_string_num(List):\n",
    "    listValue = []\n",
    "    for i in range(len(List)):\n",
    "        count = 0\n",
    "        for j in range(len(List)):\n",
    "            if List[i] == List[j]:\n",
    "                count = count + 1\n",
    "        listValue.append(count)\n",
    "    totalList = zip(List, listValue)\n",
    "    return totalList\n",
    "from urllib import request \n",
    " "
   ]
  },
  {
   "cell_type": "code",
   "execution_count": 45,
   "metadata": {
    "scrolled": true
   },
   "outputs": [
    {
     "name": "stdout",
     "output_type": "stream",
     "text": [
      "한기대 :  {'컴퓨터공학부': 8, 'Schoolfun': 1, 'Study': 1, 'and': 2, 'Fun': 1, '로그인': 4, '아이디': 1, '비밀번호': 1, '유지': 2, '브라우저를': 1, '닫더라도': 1, '로그인이': 1, '계속': 1, '유지될': 1, '수': 2, '있습니다': 1, '기능을': 1, '사용할': 1, '경우': 1, '다음': 1, '접속부터는': 1, '로그인할': 1, '필요가': 1, '없습니다': 1, '단': 1, '게임방': 1, '학교': 1, '등': 1, '공공장소에서': 1, '이용': 1, '시': 1, '개인정보가': 1, '유출될': 1, '있으니': 1, '꼭': 1, '로그아웃을': 1, '해주세요': 1, '회원가입': 1, 'ID': 1, 'PW': 1, '찾기': 1, 'IT': 5, '교육의': 2, '글로벌': 3, '메카': 2, '한국기술교육대학교': 7, 'Close': 1, '소개': 1, '구성원소개': 1, '학사안내': 1, '입학': 1, '학부': 1, '대학원': 2, '학부광장': 1, '자료실': 2, '공학교육인증': 1, '학부서비스': 1, 'Registration': 1, 'School': 1, 'of': 1, 'Computer': 1, 'Science': 1, 'Engineering': 1, '융합소프트웨어': 3, '인력양성사업': 3, 'CK': 1, 'Creative': 1, 'Korea': 1, 'I': 1, '교육역량강화사업': 3, '온라인': 3, '컨텐츠': 2, 'Online': 1, 'Contents': 1, 'for': 3, 'Education': 1, 'Capability': 1, 'Empowerment': 1, '홈페이지에': 1, '오신': 1, '것을': 1, '환영합니다': 1, '수준의': 1, 'IT전문인력': 1, '양성': 1, 'IT융합분야에': 1, '대한': 1, '국제적인': 1, '경쟁력': 1, '고취': 1, '바로가기': 2, '컨텐츠를': 1, '소개합니다': 1, '공지사항': 1, '특성화': 4, '2017': 34, 'IT융합': 1, '아이디어': 1, '경진대회': 2, '학생': 3, '모집': 3, '공': 1, '10': 34, '27': 7, '15': 4, '36': 2, 'G': 2, 'STAR': 2, '전시회': 2, '선발': 1, '공고': 2, '25': 2, '19': 5, '24': 4, '신청마감': 1, '14': 2, '46': 4, '프레젠테이션': 1, '실무': 1, '자격증': 1, '반': 1, '특강': 1, '17': 13, '41': 2, '2017년': 1, '졸업작품': 1, '영어발표': 1, '및': 2, '공학설계': 1, '아이': 1, '11': 7, '09': 4, '자유게시판': 1, '홈커밍데이': 1, '26': 3, '00': 16, '43': 4, '졸업사진촬영자': 1, '필독': 1, '졸업앨범': 1, '증명사진': 1, '원본파일': 1, '안내': 1, '23': 5, '01': 4, '29': 16, '간식이벤트': 1, '공지입니다': 1, '22': 3, '20': 4, '04': 6, 'PaaS': 1, 'amp': 2, 'IaaS': 1, '오라클데이': 1, '개최': 2, '천안': 2, '아젠다': 1, '08': 6, '58': 2, '제6회': 1, '레몬': 1, '정보보호': 1, '세미나': 1, '06': 3, '40': 2, '취업게시판': 1, '화성': 1, '주': 4, '유진테크': 1, 'SW': 1, '개발': 2, '정규직': 1, '채용': 3, '3': 2, '엑시콘': 1, '산학공동연구소': 1, '연구원': 1, '금': 1, '13': 2, '평택': 1, '애디언트오토모티브인테리어코리아': 1, 'IT팀': 1, '신입사': 1, '45': 2, 'ABB코리아': 1, '공고문': 1, '로봇사업부': 1, '영풍전자': 1, '안산': 1, '직무별': 1, '제조기술': 1, '품질': 1, '마': 1, 'Platum': 1, '배달의민족': 1, '네이버로부터': 1, '350억원': 1, '투자': 1, '유치': 1, '…': 2, 'AI': 1, '스': 1, '18': 2, '김봉진': 1, '우아한형제들': 1, '대표': 1, '개인': 1, '지분': 1, '정리해': 1, '100억': 1, '사': 1, '외식': 1, '전문': 1, '스타트업': 1, '‘스테이크아웃’': 1, '10월': 1, '디데이': 1, '우승': 1, '28': 4, '‘리멤버’': 1, '운영사': 1, '드라마앤컴퍼니': 1, '네이버로': 1, '부터': 1, '50억': 1, '16': 4, '선후배': 1, '스타트업간의': 1, '정보교류': 1, '소통창구': 1, '마련': 1, '‘벤': 1, '전자신문': 1, '이슈분석': 3, '아이폰': 1, '결함…': 1, '애플': 1, '만': 1, '있고': 1, '사과': 1, '는': 1, '人사이트': 1, '국봉환': 1, '슈피겐코리아': 1, '본부장': 1, '“내년': 1, '강': 1, '애플이': 1, '삐걱거리는': 1, '3가지': 1, '이유': 1, '취약계층': 1, '요금감면': 1, '3일': 1, '규제심사···': 1, '0원': 1, '요금': 1, '아이폰8': 1, '예판': 1, '유통점': 1, '“파리만': 1, '날렸다”': 1, 'TechCrunch': 1, 'Ether': 1, 'fever': 1, 'dreams': 1, 'Here’s': 1, 'our': 1, 'first': 1, 'look': 1, 'at': 1, 'Elon': 1, 'Musk’s': 1, 'Boring': 1, 'Co': 1, 'Why': 1, 'Snapchat': 1, 'Spectacles': 1, 'failed': 1, '05': 4, 'Is': 1, 'AR': 1, 'eyewear': 1, 'ready': 1, 'consumers': 1, 'Are': 1, 'consume': 1, 'Nintendo’s': 1, 'Reggie': 1, 'Fils': 1, 'Aimé': 1, 'on': 1, 'the': 1, 'evolution': 1, 'o': 1, 'Back': 1, 'to': 1, 'Top': 1, 'Leading': 1, 'Together': 1, 'Brighter': 1, 'Future': 1, 'Quick': 1, 'Navigation': 1, '홈페이지': 1, 'WEBMAIL': 1, '평생교육원': 1, '교직원': 1, '업무': 1, '포트폴리오': 1, 'Campus': 1, 'Location': 1, 'Contact': 1, 'CSE': 1, '충청남도': 2, '천안시': 2, '동남구': 2, '병천면': 2, '충절로': 2, '1600': 2, '학과사무실': 1, 'TEL': 1, '041': 2, '560': 2, '1460': 1, '1461': 1, 'FAX': 1, '1462': 1, 'Facebook': 1, 'Twitter': 1, 'Google': 1, 'Plus': 1, 'Linkedin': 1, '31253': 1, '가전리': 1, 'Copyright': 1, '©': 1, '2015': 1, 'All': 1, 'rights': 1, 'reserved': 1}\n"
     ]
    }
   ],
   "source": [
    "url = 'http://cse.koreatech.ac.kr'\n",
    "f = request.urlopen(url)\n",
    "source_bytes = f.read()\n",
    "source = source_bytes.decode('utf-8')\n",
    "source = source.strip()\n",
    "wordList = html_java_script_and_style_del(source)\n",
    "wordList = html_code_del(wordList)\n",
    "wordList = punctuation_del(wordList)\n",
    "wordListForDict= dict(same_string_num(wordList))\n",
    "print(\"한기대 : \" , wordListForDict)"
   ]
  },
  {
   "cell_type": "code",
   "execution_count": 46,
   "metadata": {
    "scrolled": true
   },
   "outputs": [
    {
     "name": "stdout",
     "output_type": "stream",
     "text": [
      "네이버 :  {'NAVER': 3, '뉴스스탠드': 2, '바로가기': 6, '주제별캐스트': 1, '타임스퀘어': 2, '쇼핑캐스트': 2, '로그인': 4, '네이버': 8, '네이버를': 1, '시작페이지로': 1, '쥬니어네이버': 1, '해피빈': 1, '검색': 2, '통합검색': 1, '블로그': 2, '카페': 2, '카페명': 1, '카페글': 1, '지식iN': 1, '뉴스': 6, '사이트': 2, '카테고리': 1, '영화': 4, '웹문서': 1, '사전': 2, '백과사전': 1, '영어사전': 1, '영영사전': 1, '국어사전': 1, '일본어사전': 1, '한자사전': 1, '용어사전': 1, '책': 2, '음악': 1, '전문자료': 1, '쇼핑': 2, '지역': 2, '동영상': 1, '이미지': 1, '내PC': 1, '자동차': 2, '게임': 2, '건강': 2, '인물': 1, '긍정부정검색': 1, '자동완성': 18, '펼치기': 5, '한글': 1, '입력기': 1, '생각한대로': 1, '검색해': 1, '보세요': 2, 'Beta': 1, 'txt': 5, '시간대와': 1, '관심사에': 2, '맞춘': 1, '컨텍스트': 3, '도움말': 6, '보기': 21, 'ON': 2, '선택됨': 1, 'OFF': 1, '동일한': 1, '시간대': 1, '연령': 1, '남녀별': 1, '사용자': 1, '그룹의': 1, '맞춰': 1, '자동완성을': 1, '제공합니다': 1, '자세히': 2, 'OFF설정은': 1, '해당': 1, '기기': 1, '브라우저': 2, '에': 2, '저장됩니다': 1, '레이어': 1, '닫기': 3, '신고': 4, '검색어저장': 6, '켜기': 5, '끄기': 7, '기능을': 5, '다시': 4, '켤': 4, '때는': 4, '을': 4, '클릭하세요': 4, '현재': 1, '사용하고': 1, '계십니다': 1, '기능이': 5, '활성화되었습니다': 1, '꺼져': 3, '있습니다': 5, '최근검색어': 2, '내': 8, '검색어': 7, '등록': 3, 'date': 1, '삭제': 4, 'in': 3, '내역이': 1, '없습니다': 3, '저장': 2, '해제': 1, '설정된': 1, '검색어가': 1, '최근검색어에서': 1, '를': 1, '선택하여': 1, '자주': 1, '찾는': 1, '검색어를': 2, '검색어로': 1, '저장해': 1, '알림': 1, '공용': 1, 'PC에서는': 1, '개인정보': 1, '보호를': 1, '위하여': 1, '반드시': 1, '로그아웃을': 1, '해': 1, '주세요': 1, '기록': 4, '전체': 5, '완료': 1, '검색어는': 1, '최대': 1, '10': 9, '개': 1, '까지': 1, '저장할': 1, '수': 2, '추가하시려면': 1, '기존': 1, '지워주세요': 1, '제19대': 1, '대통령선거': 1, '후보에': 1, '대해': 1, '5월': 1, '9일': 1, '선거일까지': 1, '제공되지': 1, '않습니다': 1, '자세히보기': 1, '메일': 1, '지식인': 1, '네이버페이': 1, '네이버TV': 1, '증권': 1, '금융': 1, '부동산': 2, '지도': 1, '뮤직': 2, '만화': 1, '웹툰': 2, '더보기': 1, '실시간': 2, '급상승': 3, '1': 3, '믹스나인': 2, '2': 2, '킬러들의': 2, '수다': 2, '3': 2, '이해진': 2, '4': 2, '레알마드리드': 4, '5': 2, '홍종학': 2, '6': 2, '지로나': 4, '7': 2, '내일날씨': 2, '8': 2, '서울날씨': 2, '9': 2, '황금빛내인생': 2, '11': 3, '이영학': 2, '12': 2, '1박2일': 2, '13': 2, '낙태죄': 3, '14': 2, '롤드컵': 2, '결승': 2, '15': 2, '통계청': 2, '16': 2, '윤송이': 3, '17': 2, '맞춤법검사기': 2, '18': 2, '부산날씨': 2, '19': 2, '신의탑': 2, '20': 2, '글자수세기': 2, 'DataLab': 1, '트래킹': 1, '10위': 1, '20위': 1, '데이터랩': 20, '그래프': 20, '2017': 6, '30': 2, '00': 4, '50': 1, '기준': 1, '연합뉴스': 1, '與': 1, '보이콧에': 1, '국민': 1, '분노': 1, '…한국당': 1, '사회주의': 1, '독재행태': 1, '맞설': 1, '것': 2, '댓글수사': 1, '방해': 1, '문모': 1, '국정원': 1, '前국장': 1, '구속영장': 1, '사이버사': 1, '靑보고문서': 1, '발견…기무사': 1, '댓글공작도': 1, '日': 1, '정부': 1, '홈피에': 1, '독도': 1, '일본땅': 1, '학교': 1, '부교재': 1, '게재': 1, '美전략무기': 1, '순환배치': 1, '확대': 1, '공감…': 1, '정교히': 1, '움직일듯': 1, '韓中': 1, '정상회담': 1, '앞두고': 1, '사드': 1, '부담': 1, '털기': 1, '사장': 1, '父살해': 1, '피의자': 1, '리니지': 1, '아이템': 1, '거래': 1, '30일': 1, '최저기온': 1, '영하': 1, '3도…올가을': 1, '들어': 1, '가장쌀쌀': 1, '임기영': 1, '호투': 1, 'KIA': 1, '1패뒤': 1, '3연승…1승만': 1, '더하면': 1, 'V11': 1, '폐지': 1, '靑청원': 1, '20만명': 1, '넘어…소년법': 1, '개정': 1, '이어': 1, '두번째': 1, '네이버뉴스': 1, '연예': 2, '스포츠': 3, '경제': 2, '랭킹': 1, '언론사': 5, 'MY': 1, '이미지형': 1, '리스트형': 1, '설정': 3, '이전': 2, '페이지': 2, '다음': 2, '목록': 3, '구독': 19, '해지': 18, '기사보기': 18, '종합': 1, '방송': 1, '통신': 1, 'IT': 1, '영자지': 1, '매거진': 1, '전문지': 1, '설정한': 2, '언론사가': 1, '설정에서': 1, 'MY언론사를': 1, '추가하면': 1, '언론사의': 1, '기사들을': 1, '홈에서': 1, '바로': 1, '보실': 1, '추가': 1, 'Sign': 3, 'Connect': 1, 'with': 1, 'people': 1, 'up': 1, 'Forgot': 1, 'Username': 1, 'or': 1, 'Password': 1, '월': 1, '앞의': 1, '목록으로': 2, '이동': 2, '뒤의': 1, 'TV뉴스': 1, '저녁': 1, '메인': 1, '다시보기': 1, '학습': 1, '최신': 1, '시사상식': 1, '영어로': 1, '듣는': 1, '영어톡톡': 1, '서울시': 1, 'lsquo': 2, '뉴타운': 1, '출구전략': 1, '마무리': 1, '재개발사업': 1, '대안은': 1, '여전히': 1, '과제': 1, '주제형': 1, '캐스트': 1, '관심': 4, '주제': 8, '선택': 1, '리빙': 1, '푸드': 1, '패션뷰티': 1, '맘·키즈': 1, 'TV연예': 1, '책문화': 1, '함께N': 1, '여행': 1, '디자인': 10, '경제M': 1, 'JOB': 1, '과학': 1, '중국': 1, '비즈니스': 3, 'FARM': 1, '스쿨잼': 1, '공연전시': 1, '법률': 1, '동물공감': 1, '연애·결혼': 1, '테크': 1, '열기': 1, '관심주제': 1, '모바일': 3, '가져오기': 2, '후': 2, '사용': 2, '가능합니다': 2, '취소': 1, '확인': 1, '초기화': 1, '전체선택': 1, '세상을': 1, '바꾸는': 1, '트렌드의': 1, '중심': 1, '디자인프레스': 1, '주': 2, '피플': 1, '인터뷰': 1, '걱정': 1, '불안': 1, '그리고': 1, '사랑에': 1, '대해서': 1, '이야기하는': 1, '작가': 1, '민경희': 1, '2300명': 1, '시민의': 1, '인생': 1, '문장을': 1, '담다': 1, '강익중': 1, '내가': 1, '아는': 1, '전시': 1, '행사': 1, '지속': 1, '가능한': 1, '캐시미어를': 1, '추구하는': 1, '르': 1, '캐시미어': 1, '브랜드': 1, '스토리': 1, '파리의': 1, '작은': 1, '박물관': 1, '앙리': 1, '카르티에': 1, '브레송': 1, '대한': 2, '토크': 1, '데미안': 1, '허스트': 1, '‘나전공예': 1, '작품’': 1, '또': 1, '사갔다': 1, '아트': 1, '전용': 2, '문부터': 2, '조형물까지': 2, 'data': 10, 'expsStartYmdt': 2, '29': 2, '06': 2, 'expsEndYmdt': 2, '31': 2, '05': 2, '59': 2, 'fixedSeq': 2, '0': 2, 'fixedExpsStartYmdt': 2, 'fixedExpsEndYmdt': 2, '고양이': 1, '집사가': 1, '사는': 1, '집': 1, '건축': 1, '인테리어': 1, '조영미': 1, '배냇저고리': 1, '아트윈도': 1, '디자이너': 1, '성정기': 1, '“모든': 1, '행위의': 1, '시작은': 1, '사람이': 1, '되어야한다”': 1, '디자인피플': 1, '골든스니치가': 2, '현실로': 2, '해리포터가': 1, '쫓아다니는': 1, '생활': 1, '패션에도': 1, '채식주의가': 1, '있다': 1, '주목': 1, '비건': 1, '패션': 2, '인기': 1, '콘텐츠': 1, '패션위크에': 1, '등장한': 1, '신개념': 1, '찢청': 1, 'by': 4, '아이테리어': 1, '표절': 1, '논란으로': 1, '판매': 1, '중단된': 1, '‘카카오톡': 1, '이모티콘’': 1, '보니': 1, '중앙일보': 1, '우리가': 1, '진정': 1, '원했던': 1, '멀티탭': 1, '완최': 1, '최시원': 1, '반려견': 1, '캐릭터': 1, '사업': 1, '급제동': 1, '이데일리': 1, 'https': 1, 'castbox': 1, 'shopping': 1, 'naver': 1, 'com': 1, 'shopbox': 1, 'main': 1, 'nhn': 1, 'svgless': 1, 'true': 1, '제2회': 1, '소상공인의날': 1, '우리동네': 1, '소상공인': 1, '축제': 1, '전국의': 1, '작은가게를': 1, '응원하고': 1, '다양한': 1, '혜택도': 1, '누리세요': 1, '도전': 1, '코딩미션': 1, '온라인코딩파티': 1, '10월': 1, '23일부터': 1, '2주간': 1, '누구나': 1, '쉽게': 1, '배우는': 1, 'SW': 1, '공지사항': 1, '이스트소프트': 1, '계정': 1, '침해': 1, '대상자에': 1, '안내': 2, '서비스': 1, '전체보기': 1, '프로젝트': 2, '꽃': 2, '웨일': 1, '다운받기': 1, '네이버웨일': 1, 'Creators': 1, '크리에이터': 1, '스몰비즈니스': 1, 'Partners': 1, '파트너': 1, '·': 1, '광고': 1, '스토어': 1, '개설': 1, '지역업체': 1, 'Developers': 1, '개발자센터': 1, '오픈': 1, 'API': 1, '오픈소스': 1, 'D2': 1, '랩스': 1, '정책': 2, '및': 1, '약관': 1, '회사소개': 1, '인재채용': 1, '제휴제안': 1, '이용약관': 1, '개인정보처리방침': 1, '청소년보호정책': 1, '고객센터': 1, 'ⓒ': 1, 'Corp': 1}\n"
     ]
    }
   ],
   "source": [
    "url_naver = 'http://www.naver.com'\n",
    "f_naver = request.urlopen(url_naver)\n",
    "source_bytes = f_naver.read()\n",
    "source_naver = source_bytes.decode('utf-8')\n",
    "source_naver = source_naver.strip()\n",
    "wordList_naver = html_java_script_and_style_del(source_naver)\n",
    "wordList_naver = html_code_del(wordList_naver)\n",
    "wordList_naver = punctuation_del(wordList_naver)\n",
    "wordListForDict_naver= dict(same_string_num(wordList_naver))\n",
    "print(\"네이버 : \" , wordListForDict_naver)"
   ]
  },
  {
   "cell_type": "code",
   "execution_count": 47,
   "metadata": {},
   "outputs": [
    {
     "name": "stdout",
     "output_type": "stream",
     "text": [
      "다음 :  {'Daum': 1, '주요': 2, '서비스': 5, '바로가기': 11, '오늘의': 6, '정보': 8, '미디어': 3, '실시간': 4, '이슈': 4, '멀티미디어': 2, '블로그': 6, '유익한': 2, '쇼핑': 4, '포토': 5, 'amp': 2, '영상': 20, '웹': 1, '접근성': 1, '안내': 2, '자동실행': 1, '광고': 1, '설정': 1, '검색': 7, '통합': 2, '인기': 2, '검색어': 3, '수지': 1, '시구': 1, '공무원': 1, '기대소득': 1, '강다니엘': 1, '런닝맨': 1, '차준환': 1, '9위': 6, '황반변성': 1, '환자': 1, '증가': 1, '믹스나인': 6, '첫방': 1, '양현종': 1, '스마트기기': 1, '미우새': 1, '손태영': 7, '황인춘': 2, '우승': 2, '한국인': 1, '대마도': 1, 'lt': 5, '이전': 7, 'gt': 5, '다음': 9, '다음을': 1, '시작페이지로': 1, '카페': 3, '메일': 2, '뉴스': 4, '지도': 2, '증권': 1, '카카오TV': 3, '웹툰': 3, '브런치': 3, '사전': 2, '게임': 3, '별플레이': 2, '같이가치': 3, '주요서비스': 1, '더보기': 2, '⋁': 1, '전체': 5, '커뮤니케이션': 1, '티스토리': 2, '아지트': 1, '카카오스토리': 2, '스포츠': 4, '연예': 2, '아고라': 1, '생활': 1, '쇼핑하우': 1, '금융': 1, '부동산': 2, '자동차': 2, '미즈넷': 2, '요리': 1, '문화': 1, '엔터': 1, '영화': 2, '책': 1, '지식': 1, '어학사전': 1, '단어장': 1, '백과사전': 1, '팁': 1, '나눔': 1, '펀딩': 1, '스토리펀딩': 2, '길찾기': 1, '로드뷰': 1, '버스정보': 1, '지하철노선도': 1, '카카오': 3, '소식': 1, '전체보기': 2, '메뉴': 1, '닫기': 2, '10': 6, '30': 2, '월': 1, '날씨': 21, '서울시': 1, '맑음': 14, '6도': 3, '6': 3, '°C': 20, '경기도': 1, '7도': 5, '7': 6, '인천시': 2, '대구시': 1, '대전시': 1, '광주시': 1, '구름많음': 1, '12도': 1, '12': 1, '부산시': 1, '11도': 2, '11': 3, '울산시': 1, '경상북도': 2, '흐림': 3, '10도': 3, '강원도': 2, '비': 1, '8도': 2, '8': 3, '충청북도': 1, '5도': 1, '5': 3, '전라북도': 1, '전라남도': 2, '9도': 1, '9': 1, '제주자치도': 1, '14도': 1, '14': 1, '경상남도': 1, '날찌정보': 1, '8897': 1, '펼치기': 1, '현재': 7, '지역': 1, '어제보다': 1, '상세보기': 1, '미세먼지': 1, '통합대기': 1, 'X': 1, '날씨정보': 1, '선택됨': 1, '1탭': 1, '촛불': 1, '그': 1, '후': 2, '1년': 1, '적폐청산·더': 1, '강한': 1, '개혁': 1, '이수근': 1, '3부자': 1, '보고싶은': 1, '엄마와': 1, '통화': 1, '일반뉴스': 1, '이건희': 1, '차명재산': 1, '과세땐': 1, '찾아간': 1, '이자': 1, 'middot': 1, '배당소득': 1, '52': 1, '더': 2, '내야': 1, '아이슬란드': 1, '조기총선': 1, '결과': 1, '연정': 2, '불가피': 1, '구성은': 1, '불투명': 1, 'quot': 10, '외국선': 1, '나도': 1, '소수자': 1, '약자들이': 1, '보이더라': 1, '수술': 2, '받았는데': 1, '다른': 1, '곳이': 1, '쑤신다': 1, '39': 16, '통증': 1, '증후군': 1, '의심': 1, '혈중': 1, '나쁜': 1, '콜레스테롤': 2, 'darr': 1, '찌꺼기': 1, '청소하는': 1, '좋은': 1, 'uarr': 17, '트럼프': 1, '오바마케어': 1, '폐기': 1, '불씨살리기': 1, '감세안': 1, '처리': 1, '직후': 1, '추진': 1, '월세': 1, '2백만': 1, '원': 1, 'OK': 1, '美': 1, '집값': 1, '상승에': 1, '소형주택': 1, '터널': 1, '지나는': 1, '열린': 1, '2층': 1, '시티투어': 1, '버스': 1, '11월': 1, '초': 1, '뜨거운': 1, '정상외교': 1, '이벤트': 1, '살얼음판': 1, '한반도': 1, '녹일까': 1, '독립투표': 1, '강행': 1, '역풍': 1, '이라크': 1, '쿠르드수반': 1, '12년': 1, '통치': 1, '마감': 1, '권상우': 1, '나': 1, '아픈데': 1, '골프약속': 1, '두': 1, '베테랑이': 1, '알려준': 1, '격투기의': 1, '품격': 1, '3루까지': 1, '단': 1, '76초': 1, '만점활약': 1, '버나디나': 1, '뉴스홈': 1, '연재': 1, '랭킹': 1, 'TV': 2, '미디어랩': 1, 'live': 1, '브레멘': 1, 'vs': 2, '아우크스': 1, '탭': 16, '1': 5, '1위': 5, '2위': 5, '알토란': 5, '백김치': 5, '3위': 5, '킬러들의': 5, '수다': 5, '4위': 5, '권역외상센터': 5, '5위': 5, '6위': 5, '봉만대': 5, '7위': 5, '배윤정': 5, '8위': 5, '에일리': 5, '채리나': 5, '10위': 5, '신아영': 5, '증시': 2, '휘발유': 1, '507': 1, '46': 1, '9652': 2, '전일대비': 2, '상승': 18, '0': 1, '03': 1, '달러환율': 1, '131': 1, '00': 2, '50': 1, '관련': 1, '링크모음': 1, '환율': 1, '운세': 1, '313': 2, '신규진입': 4, '233': 2, '163': 2, '107': 2, '99': 2, '85': 2, '57': 2, '54': 2, '2017': 1, '51기준': 1, 'X닫기': 1, 'TV하이라이트': 2, '이하늬': 3, '매력': 2, '아직': 2, '아이': 2, '봤니': 2, '명장면': 2, '만드는': 2, '재미가': 2, '쏠쏠해': 2, '문제적': 2, '남자': 2, '동영상': 16, '하석진': 1, '하파고': 1, '의': 1, '귀환': 1, '역대급': 1, '문제': 1, '풀어냈다': 1, '전체관람가': 1, '봉만대의': 1, '깜짝': 2, '디렉션에': 1, '터져버린': 1, '임하룡의': 1, '눈물': 1, '사온': 1, '주방': 1, '자문': 1, '장진모': 1, '셰프': 1, '이소소': 1, '김지석': 1, '만남': 1, '개그': 1, '콘서트': 1, '’고발부부’': 1, '유민상': 1, '알고보니': 1, '아버지': 1, '5분': 1, '드레스': 1, '여신': 1, '이하늬의': 1, '피팅': 1, '모습': 1, '대공개': 1, '어머니와': 1, '있을': 1, '땐': 1, '영락없는': 1, '현실': 1, '모녀': 1, '혼혈': 1, '메이크업이': 1, '잘': 1, '어울리는': 1, '그녀': 1, '피나는': 1, '노력으로': 1, '70kg에서': 1, '51kg로': 1, '무실점': 1, 'MVP': 1, '임기영': 1, 'KS도': 1, '즐긴': 1, '배짱투구': 1, 'V5': 1, '200호골': 1, '이동국': 1, '모두에게': 1, '감사': 1, '43세': 1, '9년': 1, '만에': 1, '감격적인': 1, '신나는': 1, '풍차': 1, '세레모니': 1, '기가': 1, '막힌': 1, '버저비터': 1, '놀랄': 1, '정도로': 2, '정교한': 1, '디테일': 1, '먹을': 1, '수': 1, '있는': 1, 'BB크림': 1, '알고': 1, '봤더니': 1, '페트병으로': 1, '만들었다는데': 1, '대박': 1, '프로펠러': 1, '비행기': 1, '장난감': 1, '만들기': 1, '4': 2, '남자친구를': 1, '위해': 1, '만든': 1, '정성': 1, '가득': 1, '집밥': 1, '한상': 1, '셀프DIY': 1, '도로': 1, '한복판에서': 1, '이런': 1, '일이': 1, '헉': 1, '세상의모든움짤': 1, '세모짤': 1, '보조개': 1, '구멍': 1, '날': 1, '세상': 1, '행복한': 1, '결혼식': 1, '최요셉': 1, '스토리텔러': 2, '온갖': 1, '고초를': 1, '다': 1, '겪은': 1, '아내': 1, '덕에': 1, '만난': 1, '우리': 1, '아들': 1, '살림남분당댁': 1, '1boon': 1, '3': 3, '홈': 1, '쿠킹': 1, '머니': 1, '동물': 10, '귀여운': 2, '아기': 2, '돼지들과': 1, '힐링': 1, '타임': 1, '이색': 4, '친구들': 4, '놀고': 1, '싶은데': 1, '엄마가': 1, '집에': 1, '오라고': 1, '할': 1, '때': 1, '내모습': 1, '오구오구': 2, '귀요미': 2, '난': 1, '뼈대있는': 1, '냥이다옹': 1, 'AD': 1, '기미': 1, '잡티': 1, '올킬': 1, '확실한': 1, '제거': 1, '효과': 1, '미구하라': 1, '비둘기': 1, '싫어요': 1, '평화의': 1, '상징에서': 1, '닭둘기': 1, '된': 2, '사연은': 1, '이슈잇슈': 2, '고양이': 2, '닮은': 1, '새끼': 1, '눈표범의': 1, '심심풀이': 1, '놀이법': 1, '학대': 1, '당했던': 1, '개와': 1, '친구가': 1, '아기와': 2, '내가': 1, '세상의': 1, '최고': 1, '기네스': 1, '탐구': 1, '추천채널': 1, '쇼핑하개냥': 1, '공감': 1, '동물툰': 1, '멍멍이': 1, '가이드북': 1, '베스트': 1, '스핑크스': 1, '가슴에': 1, '문신': 1, '새긴': 1, '모델': 1, '2': 1, '보고도': 1, '믿기': 1, '힘든': 1, '지구상의': 1, '희귀동물들': 1, '27kg': 1, '나가던': 1, '초고도비만': 1, '원숭이': 1, '근황': 1, '아기가': 1, '봐도': 1, '강아지': 1, '한': 1, '살배기': 1, '소녀와': 1, '대형': 1, '반려견의': 1, '교감': 1, 'SNS': 1, '뜨겁게': 1, '달궈': 1, '스타일': 1, 'Men': 1, '여행맛집': 1, '직장IN': 1, '뮤직': 1, '보기': 4, '추천갤러리': 2, '이미지': 2, '목록': 2, '공지사항': 1, '위치기반서비스': 1, '이용약관': 1, '변경': 1, '소개': 1, '및': 1, '약관': 1, '회사소개': 1, '·': 9, '광고안내': 1, '검색등록': 1, '제휴문의': 1, '인재채용': 1, '서비스약관': 1, '청소년보호정책': 1, '개인정보처리방침': 1, '웹접근성안내': 1, '고객센터': 1, 'Copyright': 1, '©': 1, 'Kakao': 1, 'Corp': 1, 'All': 1, 'rights': 1, 'reserved': 1}\n"
     ]
    }
   ],
   "source": [
    "url_daum = 'http://www.daum.net'\n",
    "f_daum = request.urlopen(url_daum)\n",
    "source_bytes = f_daum.read()\n",
    "source_daum = source_bytes.decode('utf-8')\n",
    "source_daum = source_daum.strip()\n",
    "wordList_daum = html_java_script_and_style_del(source_daum)\n",
    "wordList_daum = html_code_del(wordList_daum)\n",
    "wordList_daum = punctuation_del(wordList_daum)\n",
    "wordListForDict_daum= dict(same_string_num(wordList_daum))\n",
    "print(\"다음 : \" , wordListForDict_daum)"
   ]
  },
  {
   "cell_type": "code",
   "execution_count": 48,
   "metadata": {
    "scrolled": true
   },
   "outputs": [
    {
     "name": "stdout",
     "output_type": "stream",
     "text": [
      "뉴욕타임즈 :  {'The': 46, 'New': 18, 'York': 9, 'Times': 11, 'Breaking': 1, 'News': 6, 'World': 7, 'Multimedia': 3, 'NYTimes': 2, 'com': 3, 'no': 1, 'longer': 1, 'supports': 1, 'Internet': 3, 'Explorer': 1, '9': 2, 'or': 2, 'earlier': 1, 'Please': 1, 'upgrade': 1, 'your': 2, 'browser': 1, 'LEARN': 1, 'MORE': 1, '»': 4, 'Sections': 4, 'Search': 5, 'Skip': 2, 'to': 58, 'content': 1, 'navigation': 1, 'Subscribe': 5, 'Now': 6, 'Log': 1, 'In': 4, '0': 1, 'Settings': 1, 'English': 1, '中文': 1, 'Chinese': 1, 'Español': 1, 'Sunday': 5, 'October': 1, '29': 1, '2017': 3, 'Today’s': 1, 'Paper': 2, 'Video': 5, 'Quick': 3, 'Site': 10, 'Navigation': 7, 'U': 3, 'S': 3, 'Politics': 4, 'N': 7, 'Y': 5, 'Business': 4, 'Opinion': 10, 'Tech': 3, 'Science': 3, 'Health': 4, 'Sports': 4, 'Arts': 7, 'Style': 6, 'Food': 7, 'Travel': 4, 'Magazine': 7, 'T': 4, 'Real': 5, 'Estate': 4, 'all': 4, 'Close': 1, 'search': 1, 'Clear': 1, 'this': 2, 'text': 1, 'input': 1, 'Go': 4, 'Mobile': 3, 'Top': 1, 'Limit': 3, 'on': 12, '401': 2, 'k': 2, 'Savings': 2, 'It’s': 4, 'About': 4, 'Paying': 2, 'for': 28, 'Tax': 3, 'Cuts': 3, 'By': 21, 'PATRICIA': 1, 'COHEN': 1, 'A': 18, 'proposal': 1, 'slash': 1, 'the': 68, 'amount': 1, 'of': 50, 'money': 1, 'workers': 1, 'can': 2, 'put': 1, 'in': 44, 'retirement': 2, 'accounts': 1, 'is': 6, 'at': 12, 'center': 2, 'a': 56, 'battle': 1, 'around': 1, 'tax': 2, 'overhaul': 1, 'promised': 1, 'by': 11, 'President': 1, 'Trump': 8, 'and': 53, 'Republicans': 1, '“This': 1, 'not': 3, 'security': 1, 'story': 3, '”': 3, 'expert': 1, 'said': 2, 'about': 5, 'finding': 1, 'revenue': 1, 'pay': 2, 'reductions': 1, 'business': 2, 'taxes': 1, 'sooner': 1, 'rather': 1, 'than': 3, 'later': 1, 'nbsp': 10, 'Comments': 10, 'Little': 1, 'Known': 1, 'Aide': 1, 'Who': 6, 'Is': 16, 'Shaping': 1, 'Allies': 1, 'Weigh': 1, 'Nuclear': 2, 'Options': 1, 'as': 6, 'North': 3, 'Korea': 3, 'Threat': 1, 'Looms': 1, 'DAVID': 1, 'E': 2, 'SANGER': 1, 'CHOE': 1, 'SANG': 1, 'HUN': 1, 'MOTOKO': 1, 'RICH': 1, 'As': 1, 'races': 1, 'build': 1, 'weapon': 1, 'that': 12, 'could': 1, 'threaten': 1, 'American': 4, 'cities': 1, 'Japan': 1, 'South': 3, 'are': 6, 'debating': 1, 'whether': 2, 'they': 3, 'need': 2, 'their': 3, 'own': 2, 'nuclear': 1, 'arsenals': 1, 'Will': 5, 'Congress': 1, 'Ever': 2, 'Forever': 1, 'Expanding': 1, '11': 2, 'War': 7, 'McGowan': 3, 'Refusing': 2, 'Weinstein’s': 4, 'Hush': 2, 'Money': 5, 'Speaks': 1, 'Out': 3, 'SUSAN': 1, 'DOMINUS': 1, 'Rose': 2, 'who': 1, 'has': 5, 'Harvey': 2, 'Weinstein': 2, 'sexually': 1, 'assaulted': 1, 'her': 3, 'talks': 1, 'becoming': 1, 'an': 5, 'advocate': 1, 'mistreated': 1, 'women': 2, 'After': 7, 'Reports': 1, 'Women': 1, 'Share': 1, 'Stories': 2, 'Take': 1, 'Action': 1, '‘Bedlam’': 1, 'Arizona': 1, 'Jeff': 2, 'Flake': 2, 'Departs': 2, 'Senate': 2, 'Race': 5, 'SHERYL': 1, 'GAY': 1, 'STOLBERG': 1, '10': 3, '16': 1, 'AM': 2, 'ET': 2, 'Republican': 1, 'senator’s': 1, 'surprise': 1, 'announcement': 1, 'run': 2, 're': 1, 'election': 1, 'thrown': 1, 'open': 1, 'race': 1, 'succeed': 1, 'him': 1, 'igniting': 1, 'divisions': 1, 'both': 1, 'major': 2, 'parties': 1, 'Virginia': 1, 'Governor’s': 1, 'May': 2, 'Hinge': 1, 'Immigrant': 1, 'Turnout': 1, 'MICHAEL': 1, 'TACKETT': 1, 'Growing': 1, 'numbers': 2, 'Asians': 1, 'Latinos': 1, 'Arabs': 1, 'reason': 1, 'Virginia’s': 1, 'steady': 1, 'march': 1, 'toward': 1, 'Democratic': 1, 'Party': 5, 'question': 1, 'will': 1, 'vote': 1, '40': 2, 'Foot': 2, 'Cross': 2, 'Maryland': 1, 'Has': 2, 'Honored': 2, 'Dead': 3, '90': 3, 'Years': 2, 'It': 4, 'Unlawful': 2, 'Roadshow': 2, 'Hate': 4, 'Travelers': 2, 'Fuel': 1, 'Supremacist': 2, 'Rallies': 2, 'ALAN': 1, 'BLINDER': 1, 'At': 2, 'two': 4, 'demonstrations': 1, 'Tennessee': 1, 'Saturday': 1, 'many': 1, 'white': 1, 'nationalist': 1, 'events': 1, 'local': 1, 'police': 1, 'facing': 1, 'unfamiliar': 1, 'crowds': 1, 'coming': 1, 'mostly': 1, 'from': 4, 'out': 1, 'town': 2, 'Daily': 2, '360': 3, '1': 3, '05': 1, 'Rebuilding': 1, 'Dam': 1, 'Puerto': 1, 'Rico': 1, 'Alvin': 1, 'Baez': 1, 'Reuters': 1, 'Technology': 2, 'Samsung': 1, 'More': 6, 'Iceland’s': 1, 'Governing': 1, 'Retains': 1, 'Most': 3, 'Seats': 2, 'Truck': 1, 'Bomb': 1, 'Gunmen': 1, 'Kill': 2, 'Least': 1, '23': 1, 'Mogadishu': 1, 'Tensions': 1, 'Rise': 1, 'Kenya': 1, 'Presidential': 1, 'Vote': 1, 'Women’s': 1, 'Convention': 1, 'Test': 1, 'Momentum': 1, 'Focus': 1, 'Catalonia’s': 2, 'Ousted': 2, 'Leader': 3, 'Calls': 3, 'Peaceful': 2, 'Defiance': 2, 'Got': 1, 'confidential': 1, 'news': 7, 'tip': 1, 'offers': 1, 'several': 1, 'ways': 1, 'get': 4, 'touch': 1, 'with': 4, 'provide': 1, 'materials': 1, 'our': 1, 'journalists': 1, 'Learn': 1, 'more': 4, 'Lost': 6, 'Children': 7, 'Tuam': 5, 'Ireland': 1, 'wanted': 1, 'forget': 1, 'For': 3, 'decades': 1, 'bones': 1, 'lay': 1, 'near': 1, 'home': 3, 'unmarried': 1, 'mothers': 1, 'babies': 1, 'until': 1, 'one': 7, 'woman': 1, 'made': 2, 'it': 5, 'mission': 1, 'find': 2, 'truth': 1, 'DAN': 1, 'BARRY': 1, 'Watch': 1, '796': 1, 'Irish': 1, 'Vanished': 1, 'Where': 2, 'Are': 6, 'They': 2, 'Your': 6, 'Weekend': 1, 'Briefing': 5, 'MAYA': 1, 'SALAM': 1, 'LOUIS': 1, 'LUCERO': 1, 'II': 1, 'LANCE': 1, 'BOOTH': 1, '03': 1, 'Here’s': 4, 'what': 1, 'you': 3, 'know': 1, 'week’s': 1, 'top': 1, 'stories': 6, 'Listen': 1, '‘The': 3, 'Washington’': 1, 'Ty': 1, 'Cobb': 1, 'White': 2, 'House': 2, 'lawyer': 1, 'speaks': 1, 'us': 2, 'special': 2, 'counsel’s': 1, 'investigation': 1, 'legal': 1, 'strategy': 1, 'trademark': 1, 'handlebar': 1, 'mustache': 1, 'Audio': 1, 'Follow': 1, 'Washington': 1, 'Apple': 1, 'Podcasts': 1, 'Radio': 1, 'Public': 2, 'Stitcher': 1, 'Smarter': 1, 'Living': 3, 'Fix': 1, 'Scared': 1, 'Dark': 1, 'Paint': 2, 'Don’t': 1, 'Be': 5, 'MICHELLE': 1, 'HIGGINS': 1, 'companies': 1, 'predicting': 1, 'very': 1, 'dark': 1, '2018': 1, 'But': 1, 'designers': 1, 'say': 1, 'that’s': 1, 'good': 1, 'thing': 1, '—': 2, 'here’s': 1, 'why': 2, 'Because': 1, 'Dishwasher': 1, 'You': 7, '24': 1, 'Delicious': 2, 'One': 3, 'Pot': 1, 'Dinners': 1, 'Get': 3, 'weekly': 1, 'roundup': 1, 'best': 1, 'advice': 2, 'living': 1, 'better': 2, 'smarter': 1, 'fulfilling': 1, 'life': 3, 'Journalism': 1, 'matters': 1, 'essential': 1, 'ever': 1, 'training': 1, 'course': 1, 'Charlotte': 1, 'C': 5, 'headquarters': 1, 'Hissho': 1, 'Sushi': 2, 'which': 1, 'franchises': 1, '100': 1, 'sushi': 1, 'counter': 1, 'grocery': 2, 'stores': 2, 'nationwide': 1, '95': 2, 'percent': 1, 'its': 3, 'franchisees': 1, 'Burmese': 2, 'Credit': 1, 'Travis': 1, 'Dove': 1, 'Japanese': 4, 'Immigrants': 2, 'Dream': 1, 'Myanmar': 1, 'have': 1, 'found': 1, 'niche': 1, 'rolling': 1, 'selling': 1, 'delicacy': 1, 'across': 1, 'United': 1, 'States': 1, 'MIRIAM': 1, 'JORDAN': 1, '‘You’re': 2, 'Quadriplegic’': 2, 'Reality': 3, 'Las': 2, 'Vegas': 2, 'Victim': 2, 'JULIE': 1, 'TURKEWITZ': 1, 'Kim': 1, 'Gervais': 1, 'friends': 2, 'went': 1, 'hear': 2, 'country': 1, 'music': 1, 'Then': 1, 'gunfire': 1, 'began': 1, 'She': 1, 'was': 4, 'gravely': 1, 'injured': 1, 'died': 1, 'survived': 1, 'Series': 4, 'Rookie': 1, 'Breaks': 2, 'Through': 3, 'Leading': 2, 'Dodgers': 5, 'Past': 2, 'Astros': 5, 'BILLY': 1, 'WITZ': 1, 'Cody': 2, 'Bellinger': 2, 'had': 3, 'struggled': 1, 'through': 5, 'first': 1, 'three': 1, 'games': 2, 'but': 5, 'his': 2, 'doubles': 1, 'difference': 1, 'Los': 1, 'Angeles': 1, 'beat': 1, 'Houston': 1, '6': 2, '2': 7, 'tie': 1, 'series': 1, 'apiece': 1, 'Next': 3, 'Pull': 2, 'Pitchers': 2, 'On': 4, 'Baseball': 2, 'Gurriel': 1, 'Punished': 1, 'Left': 1, 'Alone': 1, 'Student': 1, 'Loan': 1, 'Nightmare': 1, '70': 1, '000': 2, 'Counting': 1, 'RON': 1, 'LIEBER': 1, 'years': 2, 'time': 1, 'payments': 1, 'teacher': 1, 'learned': 1, 'he': 3, 'wasn’t': 1, 'public': 1, 'service': 1, 'loan': 1, 'forgiveness': 1, 'program': 1, 'after': 1, 'start': 2, 'over': 3, 'he’s': 1, 'unlikely': 1, 'be': 4, 'only': 2, 'West': 1, 'Wing': 1, 'Veteran': 1, 'Scripts': 1, 'F': 1, 'L': 1, '’s': 1, 'Anthem': 1, 'Message': 2, 'KEN': 1, 'BELSON': 1, 'Joe': 1, 'Lockhart': 1, 'Clinton': 1, 'impeachment': 1, 'storm': 1, 'thick': 1, 'debate': 1, 'players’': 1, 'kneeling': 1, 'Mali’s': 1, 'Elephants': 1, 'Edge': 1, 'Annihilation': 1, 'Chance': 1, 'MARK': 1, 'RIVETT': 1, 'CARNAC': 1, 'With': 5, 'elephants': 1, 'being': 1, 'killed': 1, 'staggering': 1, 'Mali': 1, 'created': 1, 'armed': 1, 'brigade': 1, 'defend': 1, 'them': 1, 'force': 1, 'faces': 1, 'threats': 1, 'poachers': 1, 'also': 1, 'terrorists': 1, 'bandits': 1, 'Big': 3, 'City': 5, 'Lord': 2, 'Taylor': 2, 'WeWork': 2, 'Death': 2, 'Leisure': 2, 'GINIA': 1, 'BELLAFANTE': 1, 'sale': 1, 'department': 1, 'store’s': 1, 'flagship': 1, 'Fifth': 1, 'Avenue': 1, 'building': 1, 'marks': 1, 'end': 2, 'shopping': 1, 'fun': 1, 'rise': 1, 'work': 2, 'way': 1, 'Things': 2, 'Do': 1, 'ANDY': 1, 'WEBSTER': 1, 'big': 1, 'city': 1, 'plenty': 1, 'do': 1, 'see': 2, 'sampling': 1, 'cultural': 1, 'highlights': 1, 'weekend': 1, 'week': 1, 'ahead': 1, 'Morning': 4, 'Australia': 3, 'Edition': 4, 'matter': 5, 'readers': 3, 'Sign': 4, 'up': 4, 'email': 3, 'Monday': 4, 'Friday': 4, 'Asia': 2, 'Europe': 2, 'California': 2, 'Today': 6, 'Californians': 1, 'delivered': 1, 'weekday': 1, 'mornings': 1, 'Delivered': 1, 'inbox': 1, 'Deputy': 1, 'Among': 1, '5': 2, 'Lose': 1, 'Over': 3, 'Citizenship': 1, 'high': 1, 'court': 1, 'ruled': 1, 'Barnaby': 1, 'Joyce': 1, 'other': 1, 'lawmakers': 1, 'been': 1, 'ineligible': 1, 'Parliament': 1, 'because': 1, 'held': 1, 'dual': 1, 'citizenship': 1, 'Australian': 1, 'Foodways': 1, 'Mix': 1, 'Off': 1, 'Winding': 1, 'Road': 1, 'small': 1, 'Wales': 1, 'rewards': 1, 'visitors': 1, 'locals': 1, 'charming': 1, 'cafe': 1, 'Eminem’s': 1, 'Publisher': 1, 'Triumphs': 1, 'Zealand': 2, 'Copyright': 1, 'Battle': 1, 'National': 1, 'ordered': 1, '413': 1, 'damages': 1, 'political': 1, 'ad': 1, 'evoked': 1, 'rapper’s': 1, 'hit': 1, '“Lose': 1, 'Yourself': 1, 'Vows': 1, 'March': 1, 'This': 1, 'Down': 2, 'Aisle': 1, 'Rev': 1, 'Al': 1, 'Sharpton': 1, 'bride’s': 1, 'father': 1, '“You': 1, 'place': 2, 'if': 2, 'hard': 2, 'enough': 1, 'believe': 1, 'yourself': 1, 'How': 8, 'Yahdon': 1, 'Israel': 2, 'Spends': 1, 'His': 2, 'Sundays': 1, 'Recently': 1, 'named': 1, 'editor': 1, 'chief': 1, 'Brooklyn': 1, 'Mr': 1, 'shops': 1, 'reads': 1, 'books': 1, 'mixes': 1, 'himself': 1, 'cocktail': 1, 'Experience': 1, 'Fats': 1, 'Domino’s': 1, 'Orleans': 1, 'Stop': 2, 'musician’s': 1, 'former': 1, 'Lower': 1, 'Ninth': 1, 'Ward': 1, 'show': 1, 'Tipitina’s': 1, 'spend': 1, 'few': 1, 'minutes': 1, 'corner': 1, 'Rampart': 1, 'Canal': 1, 'Review': 8, 'Fall': 5, 'Finally': 2, 'Reform': 2, 'Men': 2, 'THE': 1, 'EDITORIAL': 1, 'BOARD': 1, 'feels': 1, 'workplace': 1, 'may': 1, 'changing': 1, 'last': 1, 'how': 1, 'make': 1, 'sure': 1, 'does': 1, 'Bruni': 1, 'Too': 1, 'Many': 1, 'Colleges': 1, 'Flunk': 1, '101': 1, 'Douthat': 1, 'Misery': 1, 'Filter': 1, 'Kristof': 1, 'Trump’s': 5, 'Legacy': 2, 'Damaged': 2, 'Brains': 2, 'When': 2, 'Replaceable': 1, 'He': 1, 'Never': 2, 'Breast': 1, 'Cancer': 1, 'Serious': 1, 'Pink': 1, 'Not': 1, 'Cruel': 2, 'Choice': 2, 'Gets': 3, 'Stay': 2, 'SONIA': 1, 'NAZARIO': 1, 'order': 1, 'keep': 1, 'protections': 1, 'group': 1, 'immigrants': 1, 'kids': 1, 'fleeing': 1, 'violence': 1, 'might': 1, 'turned': 1, 'away': 1, 'Happiness': 2, 'Other': 2, 'People': 2, 'Bad': 2, 'Behavior': 1, 'Great': 1, 'Art': 4, 'Join': 1, 'Facebook': 1, 'User': 1, 'Subscriptions': 5, 'To': 3, 'Find': 3, 'Story': 3, 'I': 3, 'Needed': 3, 'Guide': 8, 'Fans': 2, 'Love': 2, 'Extra': 3, 'Innings': 2, 'Late': 2, 'Game': 3, 'Twists': 2, 'Reporters': 2, 'Less': 3, 'So': 2, 'Insider': 2, 'raquo': 33, 'Crossword': 4, 'Play': 3, 'rsquo': 2, 's': 5, 'Puzzle': 2, 'Wordplay': 1, 'Watching': 3, 'Neediest': 2, 'Cases': 2, 'Faith': 1, 'Moors': 1, 'Victims': 1, 'Hurricane': 1, 'Sandy': 1, 'Life’s': 2, 'Storms': 1, 'disarray': 1, 'wake': 1, '2012': 1, 'hurricane': 1, 'retired': 1, 'Orthodox': 1, 'Jewish': 1, 'couple': 1, 'calm': 1, 'new': 1, 'aided': 1, 'unflinching': 1, 'faith': 1, 'God': 1, '106th': 1, 'year': 1, 'Fund': 1, 'provided': 1, 'direct': 1, 'assistance': 1, 'those': 1, 'struggling': 1, 'beyond': 1, 'Donate': 1, 'now': 1, 'From': 9, 'Our': 3, 'Advertisers': 1, 'Loading': 2, 'times': 1, 'video': 1, 'explore': 1, 'videos': 1, 'Player': 1, 'Inside': 1, 'Nytimes': 1, 'previous': 1, 'next': 1, 'Television': 3, '‘Stranger': 3, 'Things’': 3, 'Star': 1, 'Wants': 1, 'Dad': 1, 'Twitter': 3, 'Killed': 1, 'First': 1, 'Amendment': 1, 'amendment': 1, 'withered': 1, 'face': 1, 'troll': 1, 'armies': 1, 'government': 1, 'censorship': 1, 'fake': 1, 'Can': 3, 'anything': 1, 'done': 1, 'Mind': 1, 'Mindfulness': 1, 'Should': 1, 'Spouse': 1, 'Best': 3, 'Friend': 1, 'G': 1, 'O': 2, 'P': 1, 'Move': 1, 'Thinking': 1, 'Feet': 1, 'Photos': 1, 'Beauty': 1, 'Rapidly': 1, 'Changing': 1, 'Leaks': 1, 'Marigold': 1, 'Affair': 1, 'full': 1, 'Cold': 2, 'intrigue': 1, 'lesson': 1, 'peace': 1, 'so': 1, 'achieve': 1, 'Vietnam': 1, 'Stream': 1, 'Every': 1, 'Major': 1, '’90s': 1, 'Comedy': 1, 'Claes': 1, 'Oldenburg': 1, 'Departure': 1, 'Tradition': 1, 'Sade’s': 1, 'Quiet': 1, 'Storm': 1, 'Cool': 1, 'Rouses': 1, 'Neighbors': 1, 'Reconsider': 1, 'Weapons': 1, 'Day': 1, 'Corner': 1, 'Office': 1, 'Decade’s': 1, 'Worth': 1, 'Them': 1, 'Floyd': 1, 'Mayweather': 1, 'Helped': 1, 'Two': 2, 'Young': 1, 'Guys': 1, 'Miami': 1, 'Rich': 1, 'Editorial': 1, 'Op': 3, 'Ed': 3, 'Columnist': 1, 'Faces': 2, 'Hard': 2, 'Hollywood': 1, 'Fueled': 1, 'Afar': 1, 'What': 3, 'Worries': 1, 'Companies': 1, 'Post': 2, 'Glowing': 1, 'Quarterly': 1, 'Profits': 1, 'Russia': 1, 'Fanned': 1, 'Flames': 1, 'Which': 2, 'Blowback': 1, 'Bans': 1, 'Kremlin': 1, 'Backed': 1, 'Outlets': 1, 'Advertising': 1, 'Onstage': 1, 'Jay': 1, 'Z': 1, 'Forgoes': 1, 'Distractions': 1, 'Drilling': 1, 'All': 2, 'Swirling': 1, 'Proscenium': 1, 'Red': 1, 'Shoes’': 1, 'Donald': 2, 'Michael': 2, 'Moore': 2, 'Quarrel': 2, 'Broadway': 3, 'Show': 2, '‘Bedlam': 1, 'Here': 1, 'Arizona’': 1, 'Unworried': 1, 'Former': 1, 'Aides': 1, 'Tell': 1, 'Mueller': 1, 'Lawyer': 1, 'Says': 2, 'Fashion': 2, 'Virtual': 1, 'Naughty': 1, 'Look': 1, 'Future': 2, 'Tense': 1, 'Amazon': 1, 'Key': 1, 'Lot': 1, 'Scary': 1, 'Than': 4, 'My': 3, 'Click': 1, 'Remorse': 1, 'Movies': 2, 'Biggest': 1, 'Year': 1, 'Horror': 2, 'History': 1, 'Glib': 1, 'Laughs': 1, '‘Suburbicon’': 1, 'Square’': 1, 'Takes': 1, 'Aim': 1, 'Sex': 1, '‘Everyone': 1, 'Something’': 1, 'De': 1, 'Blasio': 1, 'Donor': 1, 'Claimed': 1, 'Bought': 1, 'Access': 1, '‘Liar’': 1, 'tied': 1, 'Texans': 1, 'Owner': 1, 'Bob': 1, 'McNair': 1, 'Apologizes': 1, 'Again': 1, 'Meets': 1, 'Team': 1, 'Theater': 2, '‘M': 1, 'Butterfly’': 1, 'Returns': 1, 'Heavier': 1, 'Wings': 1, 'Spooked': 1, 'Life': 1, 'Bring': 1, 'Halloween': 1, 'Frights': 1, 'Trilobites': 3, 'Astronomers': 1, 'Study': 1, 'Mystery': 1, 'Object': 1, 'Outside': 1, 'Solar': 1, 'System': 1, 'Turkey': 1, 'Size': 1, 'Dinosaur': 1, 'Raccoon': 1, 'Like': 2, 'Bandit': 1, 'Mask': 1, 'Yes': 1, 'Oysters': 1, '‘Hear': 1, '’': 2, 'Probably': 1, 'Wish': 1, 'We’d': 1, 'Clam': 1, 'Up': 2, 'Obituaries': 2, 'Robert': 1, 'Blakeley': 1, 'Whose': 1, 'Fallout': 1, 'Shelter': 1, 'Symbolized': 1, 'Dies': 3, 'Fay': 1, 'Chiang': 1, '65': 1, 'Poet': 1, 'Championed': 1, 'Asian': 1, 'Culture': 1, 'Walter': 1, 'Lassally': 1, 'Cinematographer': 1, 'Won': 1, 'Oscar': 1, '‘Zorba': 1, 'Season': 2, 'Premiere': 1, 'Recap': 1, 'Lingering': 1, 'Effects': 1, 'Critic’s': 1, 'Notebook': 2, '‘TRL’': 1, 'Back': 3, 'MTV': 1, 'Undone': 1, 'Chatter': 1, 'Remember': 1, 'Before': 2, 'Governor': 1, 'Blocked': 1, 'Medicaid': 1, 'Expansion': 1, 'Maine': 1, 'Voters': 1, 'Could': 2, 'Overrule': 1, 'Him': 1, 'Old': 2, 'Age': 2, 'Last': 1, 'Question': 1, 'Operation': 1, 'Just': 2, 'Frail': 1, 'Declares': 1, 'Opioid': 1, 'Crisis': 1, '‘Health': 1, 'Emergency’': 1, 'Requests': 1, 'No': 1, 'Funds': 1, 'Spice': 1, 'Laden': 1, 'Kerala': 1, 'Break': 1, 'Urban': 1, 'India': 1, 'Footsteps': 1, 'Chasing': 1, 'Spirit': 1, 'Fractured': 1, 'Spain': 1, 'García': 1, 'Lorca': 1, 'Bargain': 1, 'Destinations': 1, 'Books': 2, 'Nonfiction': 1, 'Stranger': 1, 'Fiction': 3, 'True': 1, 'Crime': 1, 'Roundup': 2, 'Indebted': 1, 'Early': 1, 'Master': 1, 'Villains': 1, 'Ourselves': 1, 'Thriller': 1, 'Education': 4, 'Campus': 2, 'Lives': 1, 'Administrators': 1, 'Need': 1, 'Catch': 1, 'Classroom': 1, 'Setting': 1, 'Suits': 1, 'Help': 2, 'Students': 1, 'Pay': 1, 'Right': 2, 'Price': 1, 'College': 1, 'Wine': 1, 'School': 2, 'Crozes': 1, 'Hermitage': 1, 'Dimension': 1, 'Kitchen': 1, 'Warming': 1, 'Curry': 1, 'Matt': 1, 'Orlando': 1, 'Brings': 1, 'Sun': 1, 'Copenhagen': 1, 'Issue': 3, 'Dinner': 2, 'Expandable': 1, 'Feast': 1, 'Bedroom': 2, 'Rover': 2, 'Maybe': 2, 'Even': 2, 'Condo': 2, 'View': 2, 'Illegal': 1, 'Apartment': 1, 'Shopping': 2, 'Wingback': 1, 'Chairs': 1, 'Upshot': 1, 'Silver': 1, 'Costs': 1, 'Gold': 1, 'Actions': 1, 'Have': 1, 'Scrambled': 1, 'Insurance': 1, 'Prices': 1, 'Draw': 1, 'Drug': 2, 'Overdose': 1, 'Epidemic': 1, 'Deaths': 1, 'America': 1, 'Rising': 1, 'Faster': 1, 'Reporter’s': 1, '‘I’m': 1, 'Icing': 1, 'Knee': 1, 'I’m': 1, 'Boiling': 1, 'Some': 2, 'Eggs’': 1, 'Automobiles': 2, 'Automakers': 1, 'Build': 1, 'Chests': 1, 'Finance': 1, 'Self': 1, 'Driving': 1, 'Subaru': 1, 'Admits': 1, 'Inspection': 1, 'Failings': 1, 'Another': 1, 'Blow': 1, 'Japan’s': 1, 'Carmakers': 1, 'Wheels': 1, 'Forgetting': 1, 'Child': 1, 'Seat': 1, 'Cars': 1, 'Soon': 1, 'Warn': 1, 'Design': 2, 'Man': 1, 'Designing': 1, 'Spaces': 1, 'Instagram': 1, 'Editors': 1, 'Helsinki’s': 1, 'Saunas': 1, 'CAROLINE': 1, 'BIGGS': 1, 'serious': 1, 'animal': 1, 'lovers': 1, 'pets': 1, 'like': 1, 'family': 2, 'And': 1, 'doesn’t': 1, 'every': 1, 'member': 1, 'deserve': 1, 'space': 1, 'Homes': 1, 'Sale': 2, 'Rent': 1, 'Mortgage': 1, 'Calculator': 1, 'Emailed': 1, 'Viewed': 1, 'Trending': 1, 'Recommended': 1, 'Home': 2, 'Page': 1, 'Index': 2, 'Corrections': 1, 'Columnists': 1, 'Editorials': 1, 'Contributors': 1, 'Letters': 1, 'Dance': 1, 'Music': 1, 'Events': 3, 'Jobs': 1, 'Weddings': 1, 'Celebrations': 1, 'Listings': 1, 'Reader': 1, 'Center': 1, 'Classifieds': 1, 'Tools': 1, 'Services': 1, 'Photography': 1, 'NYT': 1, 'Store': 1, 'Journeys': 1, 'Manage': 1, 'Account': 1, 'NYTCo': 1, 'Delivery': 1, 'Digital': 1, 'Email': 1, 'Newsletters': 1, 'Alerts': 1, 'Gift': 1, 'Corporate': 1, 'Rate': 1, 'Applications': 1, 'Replica': 1, 'Information': 2, 'copy': 1, 'Company': 1, 'Contact': 1, 'Us': 2, 'Work': 1, 'Advertise': 1, 'Ad': 1, 'Choices': 1, 'Privacy': 1, 'Terms': 2, 'Service': 1, 'Map': 1, 'Feedback': 1, 'Version': 1}\n"
     ]
    }
   ],
   "source": [
    "url_nytimes = 'http://www.nytimes.com'\n",
    "f_nytimes = request.urlopen(url_nytimes)\n",
    "source_bytes = f_nytimes.read()\n",
    "source_nytimes = source_bytes.decode('utf-8')\n",
    "source_nytimes = source_nytimes.strip()\n",
    "wordList_nytimes = html_java_script_and_style_del(source_nytimes)\n",
    "wordList_nytimes = html_code_del(wordList_nytimes)\n",
    "wordList_nytimes = punctuation_del(wordList_nytimes)\n",
    "wordListForDict_nytimes= dict(same_string_num(wordList_nytimes))\n",
    "print(\"뉴욕타임즈 : \" , wordListForDict_nytimes)"
   ]
  },
  {
   "cell_type": "markdown",
   "metadata": {
    "collapsed": true
   },
   "source": [
    "설명 : 일단 나중에도 사용하기 쉽게 함수화 시켰다.(네이버와 다음, 뉴욕타임즈에 쓸것이므로..)함수html_code_del은 저번과제때 했떤 html소스코드를 지우는 알고리즘을 함수로 획일화시킨것이다. 그리고 함수 punctuation_del은 소스코드의 단어들 사이사이에 있는 구두문자를 제거하는 함수이다. List를 받고, 일단 구두문자들을 다 리스트화 시킨다. 그리고 List를 for문을 이용해서 하나씩 접근한다. 이때 원소들이 단어이므로 이차원리스트(? 문자열들의 리스트이므로)이다. 따라서 List[][]단위로 검사해야하므로 for문을 하나더 이용한다. 또 for문안에서 for문을 또 사용해야한다. 단어 하나 하나를 구두문자들과 비교시켜야 하므로, 따라서 삼중for문이 된다. 다 지우면 List에 공백문자만 남거나 중간중간에 공백문자가 또 생긴다.\n",
    "이때 join을 이용해서 다시 문자열로 바꾸고, split을 쓰면 공백문자가 빠지고 단어들만 남게 된다.\n",
    "다음으로 함수 same_string_num이라는 함수를 만들었다. List를 받으면 안에 단어들의 출현빈도를 세어서 단어와 출현빈도를 zip함수로 묶어서 리스트로 주는 함수이다. 코드의 알고리즘상 예를들어, 첫번째 충남의 출현빈도를 List[a]에 넣으면 (a는 변수이다) 다시 두번째 충남이 나왔을때는 출현빈도는 List[b]에 저장되게 된다. 어차피 총 출현빈도와 단어는 같으므로 zip함수로 묶어서 사전에 들어갈때는 key가 같으니까 맨마지막에 들어간 key의 value값이 저장되겠다..\n",
    "따라서 이 함수들을 차례대로 써서 단어의 사전을 만들게 되었다! \n",
    "그런데 다른사이트에 적용시켜보니 따로 제거를 해줘야 할것이 생겼다.\n",
    " $<script>$안과 $<style>$안에는 코딩이 들어가서 단어라고 볼수 없는것들이 출력되서 나오는것이었다.$\n",
    "그래서 나는 for문으로 하나하나 검사하며 '<'이면 s1에 문자열을 저장시켜가다가 s1이 '<script가 되면 '<'의 인덱스 위치를 start라고 주고,"
   ]
  },
  {
   "cell_type": "markdown",
   "metadata": {},
   "source": [
    " s1에 문자를 계속 저장하다가 >를 만나면 멈추고, 쭉 가다가  다시 '<'를 만나서 </stript가 나오면 얘 또한 '<'의 인덱스의 위치를 end에 저장하였다. 그렇게 하여 html_source = html_source[:start] + (end - start)*\" \" + html_source[end:]연산을 수행시키면 사이에 있는것들은 다 제거되고(공백문자로 바뀌고) </script만 남는 문자열이 된다. 스타일또한 마찬가지이다. 이렇게하여 단어만 순수하게 뽑아내고, 출현빈도를 구하는 함수를 이용해서(전에 만들어놓은것) 사전으로 묶으면 끝이다."
   ]
  },
  {
   "cell_type": "markdown",
   "metadata": {},
   "source": [
    "#### 소감 : 마지막 문제에서 다 코딩을 하고나서 다른사이트에도 적용시켜 보았다. 그런데 다른 사이트에 적용해보니 교수님이 말했던 스크립트 코드와 스타일 코드를 제거하라는 말이 무엇인지 알았다. 컴공사이트는 괜찮았지만. 다른사이트에 함수들을 차례대로 적용해보니 html코드들이 여지없이 나왔다. 그래서 어떻게 할지 엄청 고민했다. 네이버는 덜했고, 다음과 뉴욕타임즈의 소스코드가 난리였다. 그래서 소스코드를 한줄한줄 읽으며 패턴을 찾았고 ,<script와 <style안에는 코드들이 들어가는것을 파악했고 이것들 안에 있는 코드들을 어떻게 제거할지를 고민해보았다. 수없이 틀려가며 코딩을 하였다. 사이트 소스코드를 봐가며 내가 짠 코드, 함수들이 제각각 제대로 작동하는지를 수십번 보았다. 연산이 20분동안 해도 안되기도 하였다. 그렇게 점점 함수화를 시키고나니 깔끔한 코드가 되었고, 수없이 어떻게 할지 고민하면서 코딩하다가 딱 원하는대로 내가 생각한대로 코드가 돌아가서(순수하게 단어만)지금 너무 기쁘고, 성취감이 엄청나다. 프로그래머에 한걸음 다가선 느낌이다! \n"
   ]
  },
  {
   "cell_type": "code",
   "execution_count": null,
   "metadata": {
    "collapsed": true
   },
   "outputs": [],
   "source": []
  },
  {
   "cell_type": "code",
   "execution_count": null,
   "metadata": {
    "collapsed": true
   },
   "outputs": [],
   "source": []
  }
 ],
 "metadata": {
  "kernelspec": {
   "display_name": "Python 3",
   "language": "python",
   "name": "python3"
  },
  "language_info": {
   "codemirror_mode": {
    "name": "ipython",
    "version": 3
   },
   "file_extension": ".py",
   "mimetype": "text/x-python",
   "name": "python",
   "nbconvert_exporter": "python",
   "pygments_lexer": "ipython3",
   "version": "3.6.1"
  }
 },
 "nbformat": 4,
 "nbformat_minor": 2
}
