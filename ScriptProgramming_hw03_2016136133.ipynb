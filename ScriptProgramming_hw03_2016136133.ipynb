{
 "cells": [
  {
   "cell_type": "markdown",
   "metadata": {},
   "source": [
    "# 스크립트 프로그래밍 3번째 과제\n",
    "## 2016136133 최대준\n",
    "### 1번문제\n",
    "* L=[1, 2, 3, 4, 5]일 때 다음 각 문장을 수행한 후의 결과를 보고 납득할 만한 이유를 설명하시오. \n",
    " * 1)L[1:3] = [100]\n",
    "    \n",
    "    print(L)"
   ]
  },
  {
   "cell_type": "code",
   "execution_count": 2,
   "metadata": {},
   "outputs": [
    {
     "name": "stdout",
     "output_type": "stream",
     "text": [
      "[1, 100, 4, 5]\n"
     ]
    }
   ],
   "source": [
    "L = [1, 2, 3, 4, 5]\n",
    "L[1:3] = [100]\n",
    "print(L)"
   ]
  },
  {
   "cell_type": "markdown",
   "metadata": {},
   "source": [
    "설명 : 슬라이싱을 인덱스1번째부터 인덱스3번째까지인데 1이상 3초과 이므로 1과 2를 자른곳에 100을 넣는다는 소리이다. 때문에 1, 2, 3, 4, 5인 리스트에서 2와 3이 100이 된다. 따라서 1, 100, 4, 5가 된다."
   ]
  },
  {
   "cell_type": "markdown",
   "metadata": {},
   "source": [
    " * 2)L[1:3] = [(100)]\n",
    " \n",
    " print(L)"
   ]
  },
  {
   "cell_type": "code",
   "execution_count": 3,
   "metadata": {},
   "outputs": [
    {
     "name": "stdout",
     "output_type": "stream",
     "text": [
      "[1, 100, 4, 5]\n"
     ]
    }
   ],
   "source": [
    "L = [1, 2, 3, 4, 5]\n",
    "L[1:3] = [(100)]\n",
    "print(L)"
   ]
  },
  {
   "cell_type": "markdown",
   "metadata": {},
   "source": [
    "설명 : 여기서 (100)은 튜플로 취급하지 않고 숫자 100로 인식하게 된다.따라서 전것과 같이 슬라이싱을 인덱스1번째부터 인덱스3번째까지인데 1이상 3초과 이므로 1과 2를 자른곳에 100을 넣는다는 소리이므로 1, 2, 3, 4, 5인 리스트에서 2와 3이 100이 된다. 따라서 1, 100, 4, 5가 된다."
   ]
  },
  {
   "cell_type": "markdown",
   "metadata": {},
   "source": [
    "* 3)L[1:3] = 100\n",
    "\n",
    "    print(L)\n"
   ]
  },
  {
   "cell_type": "code",
   "execution_count": 4,
   "metadata": {},
   "outputs": [
    {
     "ename": "TypeError",
     "evalue": "can only assign an iterable",
     "output_type": "error",
     "traceback": [
      "\u001b[1;31m---------------------------------------------------------------------------\u001b[0m",
      "\u001b[1;31mTypeError\u001b[0m                                 Traceback (most recent call last)",
      "\u001b[1;32m<ipython-input-4-edc1b0549df9>\u001b[0m in \u001b[0;36m<module>\u001b[1;34m()\u001b[0m\n\u001b[0;32m      1\u001b[0m \u001b[0mL\u001b[0m \u001b[1;33m=\u001b[0m \u001b[1;33m[\u001b[0m\u001b[1;36m1\u001b[0m\u001b[1;33m,\u001b[0m \u001b[1;36m2\u001b[0m\u001b[1;33m,\u001b[0m \u001b[1;36m3\u001b[0m\u001b[1;33m,\u001b[0m \u001b[1;36m4\u001b[0m\u001b[1;33m,\u001b[0m \u001b[1;36m5\u001b[0m\u001b[1;33m]\u001b[0m\u001b[1;33m\u001b[0m\u001b[0m\n\u001b[1;32m----> 2\u001b[1;33m \u001b[0mL\u001b[0m\u001b[1;33m[\u001b[0m\u001b[1;36m1\u001b[0m\u001b[1;33m:\u001b[0m\u001b[1;36m3\u001b[0m\u001b[1;33m]\u001b[0m \u001b[1;33m=\u001b[0m \u001b[1;36m100\u001b[0m\u001b[1;33m\u001b[0m\u001b[0m\n\u001b[0m\u001b[0;32m      3\u001b[0m \u001b[0mprint\u001b[0m\u001b[1;33m(\u001b[0m\u001b[0mL\u001b[0m\u001b[1;33m)\u001b[0m\u001b[1;33m\u001b[0m\u001b[0m\n",
      "\u001b[1;31mTypeError\u001b[0m: can only assign an iterable"
     ]
    }
   ],
   "source": [
    "L = [1, 2, 3, 4, 5]\n",
    "L[1:3] = 100\n",
    "print(L)"
   ]
  },
  {
   "cell_type": "markdown",
   "metadata": {},
   "source": [
    "설명 : 빵꾸난곳(슬라이싱)의 타입은 list(집합적 자료형)인데 int형(수치적 자료형)인 100을 넣어서 에러가 난것이다. [100]을 대입해줘야 바람직하다."
   ]
  },
  {
   "cell_type": "markdown",
   "metadata": {},
   "source": [
    " * 4)L[1:3] = (100)\n",
    "\n",
    "    print(L)"
   ]
  },
  {
   "cell_type": "code",
   "execution_count": 7,
   "metadata": {},
   "outputs": [
    {
     "ename": "TypeError",
     "evalue": "can only assign an iterable",
     "output_type": "error",
     "traceback": [
      "\u001b[1;31m---------------------------------------------------------------------------\u001b[0m",
      "\u001b[1;31mTypeError\u001b[0m                                 Traceback (most recent call last)",
      "\u001b[1;32m<ipython-input-7-fcb29dd6421c>\u001b[0m in \u001b[0;36m<module>\u001b[1;34m()\u001b[0m\n\u001b[0;32m      1\u001b[0m \u001b[0mL\u001b[0m \u001b[1;33m=\u001b[0m \u001b[1;33m[\u001b[0m\u001b[1;36m1\u001b[0m\u001b[1;33m,\u001b[0m \u001b[1;36m2\u001b[0m\u001b[1;33m,\u001b[0m \u001b[1;36m3\u001b[0m\u001b[1;33m,\u001b[0m \u001b[1;36m4\u001b[0m\u001b[1;33m,\u001b[0m \u001b[1;36m5\u001b[0m\u001b[1;33m]\u001b[0m\u001b[1;33m\u001b[0m\u001b[0m\n\u001b[1;32m----> 2\u001b[1;33m \u001b[0mL\u001b[0m\u001b[1;33m[\u001b[0m\u001b[1;36m1\u001b[0m\u001b[1;33m:\u001b[0m\u001b[1;36m3\u001b[0m\u001b[1;33m]\u001b[0m \u001b[1;33m=\u001b[0m \u001b[1;33m(\u001b[0m\u001b[1;36m100\u001b[0m\u001b[1;33m)\u001b[0m\u001b[1;33m\u001b[0m\u001b[0m\n\u001b[0m\u001b[0;32m      3\u001b[0m \u001b[0mprint\u001b[0m\u001b[1;33m(\u001b[0m\u001b[0mL\u001b[0m\u001b[1;33m)\u001b[0m\u001b[1;33m\u001b[0m\u001b[0m\n",
      "\u001b[1;31mTypeError\u001b[0m: can only assign an iterable"
     ]
    }
   ],
   "source": [
    "L = [1, 2, 3, 4, 5]\n",
    "L[1:3] = (100)\n",
    "print(L)"
   ]
  },
  {
   "cell_type": "markdown",
   "metadata": {},
   "source": [
    "설명 : 이것도 똑같이 빵꾸난곳(슬라이스)은 타입이 리스트(집합적 자료형)인데 리터럴(수치적 자료형) 인트형인 (100)을 넣어서 에러가 나는것이다. [100]을 해서 리스트타입을 맞춰주는것이 좋다."
   ]
  },
  {
   "cell_type": "markdown",
   "metadata": {},
   "source": [
    " * 5)L[1:3] = (100, 101, 102)\n",
    "\n",
    " print(L)"
   ]
  },
  {
   "cell_type": "code",
   "execution_count": 23,
   "metadata": {},
   "outputs": [
    {
     "name": "stdout",
     "output_type": "stream",
     "text": [
      "[1, 100, 101, 102, 4, 5]\n"
     ]
    }
   ],
   "source": [
    "L = [1, 2, 3, 4, 5]\n",
    "L[1:3] = (100, 101, 102)\n",
    "#L = L[0:1] + L[1:3] + L[3:4] 이런작업을 자동으로 거쳐서 101다음이 102가 온게 아닌가 싶다. (L[1:3] = (100, 101, 102)이니까)\n",
    "print(L)"
   ]
  },
  {
   "cell_type": "markdown",
   "metadata": {},
   "source": [
    "설명 : 타입이 맞으므로 (집합적자료형) 대입이 된다. 인덱스1이상 3초과까지 슬라이싱한다. 그곳에 튜플(100, 101, 102)를 언패킹해서 넣게 된다. 따라서 L[1:3] = [100,101,102]가 되어서 L = L[0:1] + L[1:3] + L[3:4]작업을 거쳐  [1, 100, 101, 102, 4, 5]이게 나온거 같다!"
   ]
  },
  {
   "cell_type": "markdown",
   "metadata": {},
   "source": [
    " * 6)L[1:3] = [100, 101, 102]\n",
    "\n",
    " print(L)"
   ]
  },
  {
   "cell_type": "code",
   "execution_count": 11,
   "metadata": {},
   "outputs": [
    {
     "name": "stdout",
     "output_type": "stream",
     "text": [
      "[1, 100, 101, 102, 4, 5]\n"
     ]
    }
   ],
   "source": [
    "L = [1, 2, 3, 4, 5]\n",
    "L[1:3] = [100, 101, 102]\n",
    "print(L)"
   ]
  },
  {
   "cell_type": "markdown",
   "metadata": {},
   "source": [
    "설명 : 집합적 자료형인 리스트이므로 타입이 맞다. 따라서 인덱스 1, 2자리에 [100,101,102]이 언패킹해서 들어가게 된다. 위에 설명처럼!"
   ]
  },
  {
   "cell_type": "markdown",
   "metadata": {},
   "source": [
    " * 7)L[1:3] = [(100, 101, 102)]\n",
    "\n",
    " print(L)"
   ]
  },
  {
   "cell_type": "code",
   "execution_count": 22,
   "metadata": {
    "scrolled": true
   },
   "outputs": [
    {
     "name": "stdout",
     "output_type": "stream",
     "text": [
      "[1, (100, 101, 102), 4, 5]\n"
     ]
    }
   ],
   "source": [
    "L = [1, 2, 3, 4, 5]\n",
    "L[1:3] = [(100, 101, 102)]\n",
    "print(L)"
   ]
  },
  {
   "cell_type": "markdown",
   "metadata": {},
   "source": [
    "설명 : 집합적 자료형인 리스트이므로 타입이 맞다 따라서 []안의 원소들을 언패킹해서 L[1:3]에 swallow copy해서 들어간다.(A = [[100,101,102]]해서 L[1:3] = A; A[0][1]= 99이러한 실험해봤는데 A의 원소가 바뀜에 따라서 L의 원소도 바꿔었다.)"
   ]
  },
  {
   "cell_type": "markdown",
   "metadata": {},
   "source": [
    "### 2번 문제\n",
    "* 문자열 S = 'Hello World and Python'에 대해 다음 요구사항에 대한 Python 코드를 제시하시오. \n",
    " * 1) 단어의 순서가 역순으로 되어진 문자열 ('Python and World Hello')을 만들고 \n",
    " "
   ]
  },
  {
   "cell_type": "code",
   "execution_count": 46,
   "metadata": {},
   "outputs": [
    {
     "name": "stdout",
     "output_type": "stream",
     "text": [
      "Python and World Hello \n"
     ]
    }
   ],
   "source": [
    "S = 'Hello World and Python'\n",
    "L = []\n",
    "L = S.split()\n",
    "L = L[::-1]\n",
    "S1 = \"\"\n",
    "for i in L:\n",
    "    S1 = S1 + i + \" \"\n",
    "print(S1)"
   ]
  },
  {
   "cell_type": "markdown",
   "metadata": {},
   "source": [
    "설명 : 문자열 S를 스플릿함수로 리스트로 분해한것들을 L리스트에 저장한다. 그리고 나서 슬라이싱을 이용해서 리스트원소들의 순서를 뒤집는다. 그리고 나서 문자열 S1을 만들고, for문으로 i를 리스트L의 각각원소에 접근하여 그원소를 S1에 저장한다.\n",
    "* * 2) 1)의 결과 문자열에 대해 메소드 split과 join을 이용하여 공백을 모두 없엔 문자열 'PythonandWorldHello'을 만드시오.\n"
   ]
  },
  {
   "cell_type": "code",
   "execution_count": 48,
   "metadata": {
    "scrolled": true
   },
   "outputs": [
    {
     "name": "stdout",
     "output_type": "stream",
     "text": [
      "PythonandWorldHello\n"
     ]
    }
   ],
   "source": [
    "S2 = S1.split()\n",
    "S2 = \"\".join(S2)\n",
    "print(S2)"
   ]
  },
  {
   "cell_type": "markdown",
   "metadata": {},
   "source": [
    "설명 : 위에서 만든 문자열을 다시 스플릿함수로 리스트로 분해한다. 그리고 다시 join함수를 이용해서 원소들을 문자열로 붙인다. 이때 \"\"을 해서 아무것도 없이 붙인다. \"\"에 문자열이 있으면 그걸 원소사이에 넣으면서 붙이게 된다."
   ]
  },
  {
   "cell_type": "markdown",
   "metadata": {},
   "source": [
    "### 3번 문제\n",
    " * 다음 코드를 보고 물음에 답하시오.\n",
    "\n",
    "\n",
    " a = [1, 2, 3]\n",
    "\n",
    "b = a * 3\n",
    "\n",
    "c = [a] * 3\n",
    "\n",
    "print(b)\n",
    " \n",
    " print(c)"
   ]
  },
  {
   "cell_type": "markdown",
   "metadata": {},
   "source": [
    "* * 1)위 코드를 수행한 이후 다음 코드를 수행한 후 b와 c의 내용을 확인하시오.\n",
    " * 2)b와 c의 객체의 차이는 무엇인가?"
   ]
  },
  {
   "cell_type": "code",
   "execution_count": 50,
   "metadata": {},
   "outputs": [
    {
     "name": "stdout",
     "output_type": "stream",
     "text": [
      "[1, 2, 3, 1, 2, 3, 1, 2, 3]\n",
      "[[0, 2, 3], [0, 2, 3], [0, 2, 3]]\n"
     ]
    }
   ],
   "source": [
    "a = [1, 2, 3]\n",
    "b = a * 3\n",
    "c = [a] * 3\n",
    "a[0] = 0\n",
    "print(b)\n",
    "print(c)"
   ]
  },
  {
   "cell_type": "markdown",
   "metadata": {},
   "source": [
    "설명 : b의 출력결과는 a[0] = 0을 바꿧음에도 바뀌지않았다. 하지만 c의 출력결과는 이에 반대로 결과값이 바뀌었다. b에는 a들의 원소가 리스트로 [1,2,3,1,2,3,1,2,3]이렇게 들어가서 하나하나 1,2,3을 가리키고 있다. 따라서 a[0]이 가리키는게 바뀌어도 b[0],b[3],b[6]은 바뀌지 않는다. (각자 개별로 1을 가리키므로) \n",
    "\n",
    "반면에 c는 a의 리스트 전체를 복사하였다. 그래서 리스트a 그자체를 c[0],c[1],c[2]가 각각 가르킨다. 그러나 리스트안의 원소객체들을 따로따로 다 가르키고 있는것이 아니고 전체를 가르키는것이니까 a안의 원소가 바뀜에 따라 c도 변한다. 따라서 저런 결과가 나온것이다. 그림으로 표현하면 훨씬더 이해하기 편할거 같다. 강의자료에도 그림으로 표현되어 있기도 하다. swallow copy로."
   ]
  },
  {
   "cell_type": "markdown",
   "metadata": {},
   "source": [
    "### 4번문제\n",
    "* 다음 문자열을 ':'을 기준으로 분리하여 리스트로 만들고 각 문자열의 좌우 공백을 제거하시오 (즉, 문자열 S에서 l을 만들어라)\n",
    " * 1) for ~ in 문을 이용한 코드를 작성하시오. "
   ]
  },
  {
   "cell_type": "code",
   "execution_count": 72,
   "metadata": {},
   "outputs": [
    {
     "name": "stdout",
     "output_type": "stream",
     "text": [
      "['first star', 'second star', 'third star']\n"
     ]
    }
   ],
   "source": [
    "s = '  first star   :   second star   :    third star  '\n",
    "l = []\n",
    "l = s.split(\":\")\n",
    "for i in range(len(l)):\n",
    "    l[i] = l[i].strip()\n",
    "print(l)"
   ]
  },
  {
   "cell_type": "markdown",
   "metadata": {},
   "source": [
    "설명 : 우선 \":\"문자를 기준으로 리스트로 원소를 분리한다. (split함수로) for문을 이용해서 i를 마지막인덱스까지 반복시킨다. 그때 strip함수를 이용해서 원소들을 하나하나 순서대로 좌우 공백을 제거한후에 그인덱스에 다시 대입해준다. "
   ]
  },
  {
   "cell_type": "markdown",
   "metadata": {},
   "source": [
    "* * 2) 리스트 내포(list comprehension)를 이용한 코드를 작성하시오."
   ]
  },
  {
   "cell_type": "code",
   "execution_count": 75,
   "metadata": {},
   "outputs": [
    {
     "name": "stdout",
     "output_type": "stream",
     "text": [
      "['first star', 'second star', 'third star']\n"
     ]
    }
   ],
   "source": [
    "s = '  first star   :   second star   :    third star  '\n",
    "l = s.split(\":\")\n",
    "l=[l[i].strip() for i in range(len(l))]\n",
    "print(l)"
   ]
  },
  {
   "cell_type": "markdown",
   "metadata": {},
   "source": [
    "설명 : 우선 l에 스플릿함수를 이용해서 \":\"문자기준으로 잘라서 리스트를 만든다. 그리고, 리스트 내포를 이용해서 리스트l에 스트립함수를 이용해서 좌우공백을 없앤 문자열을 다시 리스트l에 하나하나 순서대로 대입하게 된다."
   ]
  },
  {
   "cell_type": "markdown",
   "metadata": {},
   "source": [
    "### 5번문제\n",
    "* 다음과 같이 0보다 큰 정수 리스트 변수 list를 인자로 받는 함수 addall(list)와 addallodd(list)를 for ~ in 리터널과 리스트 내포 방식으로 각각 제시하시오.\n",
    " * 1) addall(list) 함수 (리스트 내의 모든 정수를 더하는 함수로서 해답으로는 for ~ in 리터럴과 리스트 내포 방식으로 각각 제시하시오.)\n"
   ]
  },
  {
   "cell_type": "code",
   "execution_count": 27,
   "metadata": {},
   "outputs": [
    {
     "name": "stdout",
     "output_type": "stream",
     "text": [
      "15\n"
     ]
    }
   ],
   "source": [
    "def addall(list):\n",
    "    count = 0\n",
    "    for i in list:\n",
    "        if type(i) == int:\n",
    "            count= count + i \n",
    "        else :\n",
    "            continue\n",
    "    return count\n",
    "list = [1,2,3,4,5]\n",
    "print(addall(list))"
   ]
  },
  {
   "cell_type": "markdown",
   "metadata": {},
   "source": [
    "설명 : addall함수를 정의하고 몸체에는 count라는 리스트의 총합을 넣을 변수를 0으로 초기화하고, 만약 타입이 정수가 아니면 다음원소로 continue하고 맞다면 총합에 더하는식으로 한다."
   ]
  },
  {
   "cell_type": "code",
   "execution_count": 25,
   "metadata": {},
   "outputs": [
    {
     "name": "stdout",
     "output_type": "stream",
     "text": [
      "36\n"
     ]
    }
   ],
   "source": [
    "def addall(list):\n",
    "    return sum([ i for i in list if type(i) == int],0)\n",
    "    \n",
    "list = [1,2,3,3,7,20]\n",
    "print(addall(list))"
   ]
  },
  {
   "cell_type": "markdown",
   "metadata": {},
   "source": [
    "설명 : 리스트 내포를 이용하려고 보니 위에서 count = count + i와 같은식을 내포에서는 허용하지 않았다. 따라서 sum이라는 내장함수를 이용해서 하였다. sum내장함수는 매개변수로 리스트와 처음초기값을 받는다. 따라서 매개변수 리스트를 받는곳에 리스트내포를 사용하여 리스트를 넣는데 이문제같은경우에는 딱히 바꿀게 없었다. 리스트전체를 넣어도 무방한 문제였지만 문제에서 그렇게 하라고 하였으니 그렇게 하였다."
   ]
  },
  {
   "cell_type": "markdown",
   "metadata": {},
   "source": [
    "* * 2) addallodd(list) 함수 (리스트내의 모든 홀수를 더하는 함수로서 해답으로는 for ~ in 리터럴과 리스트 내포 방식으로 각각 제시하시오.)"
   ]
  },
  {
   "cell_type": "code",
   "execution_count": 31,
   "metadata": {},
   "outputs": [
    {
     "name": "stdout",
     "output_type": "stream",
     "text": [
      "25\n"
     ]
    }
   ],
   "source": [
    "def addallodd(list):\n",
    "    count = 0\n",
    "    for i in list :\n",
    "        if (type(i) == int) and (i % 2 > 0):\n",
    "            count= count + i \n",
    "        else :\n",
    "            continue\n",
    "    return count\n",
    "list = [1,3,4,5,7,9,8]\n",
    "print(addallodd(list))"
   ]
  },
  {
   "cell_type": "markdown",
   "metadata": {},
   "source": [
    "설명 : 알고리즘은 위에 같다. if문에 하나만 더 추가해주면 된다. and (i % 2>0)를 추가해주면 된다 . 홀수만 더해야 하므로!"
   ]
  },
  {
   "cell_type": "code",
   "execution_count": 32,
   "metadata": {},
   "outputs": [
    {
     "name": "stdout",
     "output_type": "stream",
     "text": [
      "49\n"
     ]
    }
   ],
   "source": [
    "def addallodd(list):\n",
    "    return sum([ i for i in list if (type(i) == int) and (i % 2 > 0)],0)\n",
    "    \n",
    "list = [1,2,3,3,7,20,35,26]\n",
    "print(addallodd(list))"
   ]
  },
  {
   "cell_type": "markdown",
   "metadata": {},
   "source": [
    "설명 : 이역시 위에 문제와 똑같다. 함수에 list를 받게 되면 sum함수에 매개변수 리스트자리에 넣는다. 이때 리스트내포로 리스트안의 홀수정수만 넣어서 합은 홀수만 나오게 한다."
   ]
  },
  {
   "cell_type": "markdown",
   "metadata": {},
   "source": [
    "### 6번문제 \n",
    "* 다음 코드를 보고 물음에 답하시오.\n",
    " * 1) 위 코드의 수행 결과 d와 e는 항상 같은 결과를 출력한다. 그 이유는 무엇인가?\n",
    " * 2) 위 코드의 수행 결과 마지막 f의 내용은 다음과 같다. 이 때 'high' 키의 값 내용 중 500이 출력된 이유와 'low' 키의 값 내용 중 [1, 2, 3]이 출력된 이유를 설명하시오 ([hint]: shallow copy 관점에서 설명하시오.)"
   ]
  },
  {
   "cell_type": "code",
   "execution_count": 33,
   "metadata": {},
   "outputs": [
    {
     "name": "stdout",
     "output_type": "stream",
     "text": [
      "{'low': [1, 2, 3], 'high': [4, 5, 6]}\n",
      "{'low': [1, 2, 3], 'high': [4, 5, 6]}\n",
      "{'low': [1, 2, 3], 'high': [4, 5, 6]}\n",
      "\n",
      "{'low': [10, 20, 30], 'high': [4, 500, 6]}\n",
      "{'low': [10, 20, 30], 'high': [4, 500, 6]}\n",
      "{'low': [1, 2, 3], 'high': [4, 500, 6]}\n"
     ]
    }
   ],
   "source": [
    "L1 = [1, 2, 3]\n",
    "L2 = [4, 5, 6]\n",
    "d = {'low':L1, 'high':L2}\n",
    "e = d\n",
    "f = d.copy()\n",
    "print(d)\n",
    "print(e)\n",
    "print(f)\n",
    "print()\n",
    "d['low'] = [10, 20, 30]\n",
    "d['high'][1] = 500\n",
    "print(d)\n",
    "print(e)\n",
    "print(f)"
   ]
  },
  {
   "cell_type": "markdown",
   "metadata": {},
   "source": [
    "설명 : d와 e가 항상 같은 값을 출력하는 이유는 e는 아예 d 자체가 되기 때문이다. 이말은 e가 d를 가르킨다고 하면 되겠다. 따라서 d가 바뀌면 e는 d를 가르키므로 e또한 바뀌게 된다 . 하지만 f는 다르다. f는 d.copy()로 d를 복사한것인데, 이는 d의 원소객체들 각각을 f에서 따로 가르키게 한것 이므로 그렇다. 이렇게 하면 d가 바뀌어도 f\n",
    "는 d의 값을 따라가지 않게 된다. 하지만 f는 swallow copy이므로 d의 원소중에 컨테이너 객체의 안의 원소 까지는따로 가르키지 않는다.(컨테이너 객체 자체를 가르키게 된다.)따라서 컨테이너 객체의 안의 원소객체가 가르키는게 바뀌면 f또한 바뀌게 된다. hard copy는 이러한 일이 일어나지 않게 컨테이너 객체의 원소의 객체까지도 따로 가르키게 하는것이라고 하셨다."
   ]
  },
  {
   "cell_type": "markdown",
   "metadata": {},
   "source": [
    "### 7번문제\n",
    " * 사전 d = {'one':1, 'two':2, 'three':3, 'four':4, 'five':5}가 주어졌을 때 다음 요구사항에 맞는 코드를 제시하시오 \n",
    "  * [참고]: d.keys(), d.values()를 통해 리스트를 얻어낸 후 리스트가 지니고 있는 sort(cmp=None, key=None, reverse=False)함수를 활용하시오.\n",
    "  * 1) 키의 알파벳 오름차순 순서대로 튜플 (키, 값)을 차례대로 출력하시오."
   ]
  },
  {
   "cell_type": "code",
   "execution_count": 44,
   "metadata": {},
   "outputs": [
    {
     "name": "stdout",
     "output_type": "stream",
     "text": [
      "[('five', 5), ('four', 4), ('one', 1), ('three', 3), ('two', 2)]\n"
     ]
    }
   ],
   "source": [
    "d = {'one':1, 'two':2, 'three':3, 'four':4, 'five':5}\n",
    "l = d.items()\n",
    "l = sorted(l)\n",
    "print(l)"
   ]
  },
  {
   "cell_type": "markdown",
   "metadata": {},
   "source": [
    "설명 : python3부터는 dict.items(), dict.values(), dict.keys()를 보기형태로 반환하므로 sort에 못들어가고 sorted함수를 이용해야 한다고 한다. 따라서 sorted함수를 이용해서 구현하는데 알파벳 오름차순으로 정렬이므로 key나 reverse를 건들필요는 없다."
   ]
  },
  {
   "cell_type": "markdown",
   "metadata": {},
   "source": [
    "* * 2) 키의 알파벳 내림차순 순서대로 튜플 (키, 값)을 차례대로 출력하시오."
   ]
  },
  {
   "cell_type": "code",
   "execution_count": 45,
   "metadata": {},
   "outputs": [
    {
     "name": "stdout",
     "output_type": "stream",
     "text": [
      "[('two', 2), ('three', 3), ('one', 1), ('four', 4), ('five', 5)]\n"
     ]
    }
   ],
   "source": [
    "d = {'one':1, 'two':2, 'three':3, 'four':4, 'five':5}\n",
    "l = d.items()\n",
    "l = sorted(l,reverse = True)\n",
    "print(l)"
   ]
  },
  {
   "cell_type": "markdown",
   "metadata": {},
   "source": [
    "설명 : 이번에는 내림차순 순서대로 출력하면 되므로 sorted에서 reverse = True를 해주면 오름차순의 역순, 즉 내림차순으로 정렬이 된다."
   ]
  },
  {
   "cell_type": "markdown",
   "metadata": {},
   "source": [
    "* * 3) 값의 오름차순 순서대로 튜플 (키, 값)을 차례대로 출력하시오. "
   ]
  },
  {
   "cell_type": "code",
   "execution_count": 50,
   "metadata": {},
   "outputs": [
    {
     "name": "stdout",
     "output_type": "stream",
     "text": [
      "[('one', 1), ('two', 2), ('three', 3), ('four', 4), ('five', 5)]\n"
     ]
    }
   ],
   "source": [
    "def cmp_by_each_element(a):\n",
    "    return a[1]\n",
    "\n",
    "d = {'one':1, 'two':2, 'three':3, 'four':4, 'five':5}\n",
    "l = d.items()\n",
    "l = sorted(l,key = cmp_by_each_element)\n",
    "print(l)"
   ]
  },
  {
   "cell_type": "markdown",
   "metadata": {},
   "source": [
    "설명 : 코드는 위에것과 비슷한데 조금 다르다. 이번에는 리스트안의 튜플의 두번째원소를 기준으로 정렬하는 것이기 때문에 함수를 만들어서 두번째원소를 기준으로 하게 해야한다. 함수에서는 a를 받으면 a[1]를 반환하게 한다.(두번째 원소 반환) 한다음, sorted의 두번째 매개변수로 함수를 줘버린다. 이걸로 정렬을 하라는 뜻으로!"
   ]
  },
  {
   "cell_type": "markdown",
   "metadata": {},
   "source": [
    "* * 4) 값의 내림차순 순서대로 튜플 (키, 값)을 차례대로 출력하시오."
   ]
  },
  {
   "cell_type": "code",
   "execution_count": 51,
   "metadata": {},
   "outputs": [
    {
     "name": "stdout",
     "output_type": "stream",
     "text": [
      "[('five', 5), ('four', 4), ('three', 3), ('two', 2), ('one', 1)]\n"
     ]
    }
   ],
   "source": [
    "def cmp_by_each_element(a):\n",
    "    return a[1]\n",
    "\n",
    "d = {'one':1, 'two':2, 'three':3, 'four':4, 'five':5}\n",
    "l = d.items()\n",
    "l = sorted(l,key = cmp_by_each_element,reverse = True)\n",
    "print(l)"
   ]
  },
  {
   "cell_type": "markdown",
   "metadata": {},
   "source": [
    "설명 : 이것도 코드는 거의 위와 비슷하다 근데 여기서 오름차순의 반대인 내림차순으로 정렬이므로 sorted의 세번째 매개변수인 reverse = True를 해주면 역순으로 정렬을 하게 되어서 내림차순으로 출력이 된다!"
   ]
  },
  {
   "cell_type": "markdown",
   "metadata": {},
   "source": [
    "### 8번문제\n",
    " * ACM-1CPC 문제 1152번\n",
    "  * 영어 대소문자와 띄어쓰기만으로 이루어진 문장이 주어진다. 이 문장에는 몇 개의 단어가 있을까? 이를 구하는 프로그램을 작성하시오. 단, 단어는 띄어쓰기 하나로 구분된다고 생각한다."
   ]
  },
  {
   "cell_type": "code",
   "execution_count": 55,
   "metadata": {},
   "outputs": [
    {
     "name": "stdout",
     "output_type": "stream",
     "text": [
      "My name is choi dae june\n",
      "6\n"
     ]
    }
   ],
   "source": [
    "S = input()\n",
    "l = S.split()\n",
    "print(len(l))"
   ]
  },
  {
   "cell_type": "markdown",
   "metadata": {},
   "source": [
    "설명 : 문자열S을 입력받고, 띄어쓰기를 기준으로 split함수로 단어를 짜르고 리스트l에 집어 넣는다. 그후에 len함수를 이용해서 출력한다."
   ]
  },
  {
   "attachments": {},
   "cell_type": "markdown",
   "metadata": {},
   "source": [
    "채점 결과 : \n",
    "![](https://github.com/choidaejoon/script-programming-Homework-place/blob/master/2017-10-29_backjoon1152.PNG?raw=true)"
   ]
  },
  {
   "cell_type": "code",
   "execution_count": null,
   "metadata": {
    "collapsed": true
   },
   "outputs": [],
   "source": []
  }
 ],
 "metadata": {
  "kernelspec": {
   "display_name": "Python 3",
   "language": "python",
   "name": "python3"
  },
  "language_info": {
   "codemirror_mode": {
    "name": "ipython",
    "version": 3
   },
   "file_extension": ".py",
   "mimetype": "text/x-python",
   "name": "python",
   "nbconvert_exporter": "python",
   "pygments_lexer": "ipython3",
   "version": "3.6.1"
  }
 },
 "nbformat": 4,
 "nbformat_minor": 2
}
