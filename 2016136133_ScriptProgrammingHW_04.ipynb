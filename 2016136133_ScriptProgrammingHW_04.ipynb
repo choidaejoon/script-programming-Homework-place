{
 "cells": [
  {
   "cell_type": "markdown",
   "metadata": {},
   "source": [
    "# 스크립트 4번째 과제\n",
    "# 2016136133 최대준\n",
    "### 1번 문제:\n",
    "### 파일 s.txt 내의 다음 내용과 함께 아래 문제의 코드를 제시하시오."
   ]
  },
  {
   "cell_type": "markdown",
   "metadata": {},
   "source": [
    "\n",
    "1) 파일 s.txt을 읽어서 각 라인에 있는 첫 번째 단어(문자열) 자체들을 기준으로 라인별 정렬후 파일 s1.txt에 그 결과를 기록하는 코드를 작성하시오. 즉, 프로그램 수행 후 s1.txt에 있는 파일 내용은 다음과 같다."
   ]
  },
  {
   "cell_type": "code",
   "execution_count": 13,
   "metadata": {
    "collapsed": true
   },
   "outputs": [],
   "source": [
    "lines = []\n",
    "with open('s.txt', 'r') as f:\n",
    "    lines = f.readlines()\n",
    "lines = \"\".join(lines)\n",
    "lines = lines.split(\"\\n\")\n",
    "lines.sort()\n",
    "with open('s1.txt', 'w') as f:\n",
    "    f.write(\"\\n\".join(lines))"
   ]
  },
  {
   "cell_type": "markdown",
   "metadata": {},
   "source": [
    "설명 : readlines로 각줄마다 문자열을 리스트로 저장한다. 그리고 다시 \"\"로 이어붙여 문자열로 만든다. 또 split함수를 이용해서 \\n을 삭제한 리스트를 만들고 sort함수를 이용해서 정렬한다. 그리고 f.write(\"\\n\".join(lines))로 문자열로 만들어 s1파일에 저장한다."
   ]
  },
  {
   "cell_type": "markdown",
   "metadata": {},
   "source": [
    "2) 파일 s.txt을 읽어서 각 라인에 있는 두 번째 단어(문자열) 자체들을 기준으로 라인별 정렬후 파일 s2.txt에 그 결과를 기록하는 코드를 작성하시오. 즉, 프로그램 수행 후 s2.txt에 있는 파일 내용은 다음과 같다."
   ]
  },
  {
   "cell_type": "code",
   "execution_count": 39,
   "metadata": {
    "collapsed": true
   },
   "outputs": [],
   "source": [
    "lines = []\n",
    "def element_cmp(a):\n",
    "    return a[4]\n",
    "with open('s.txt', 'r') as f:\n",
    "    lines = f.readlines()\n",
    "lines = \"\".join(lines)\n",
    "lines = lines.split(\"\\n\")\n",
    "lines.sort(key = element_cmp)\n",
    "with open('s2.txt', 'w') as f:\n",
    "    f.write(\"\\n\".join(lines))"
   ]
  },
  {
   "cell_type": "markdown",
   "metadata": {},
   "source": [
    "설명 : 이번껏도 위에것과 비슷한데 sort에서 정렬하는 기준이 다르다. 원래는 문자열의 0번째 원소를 기준으로 정렬하였다면 4번째 원소를 기준으로 정렬하게끔 함수def_element_cmp를 정의하고 정렬할때 key값으로 주면 된다."
   ]
  },
  {
   "cell_type": "markdown",
   "metadata": {},
   "source": [
    "3) 파일 s.txt을 읽어서 각 라인들에 있는 모든 단어들을 순차적으로 다시 나열하되 각 라인에 세 개의 단어들이 오도록 하여 s3.txt에 기록하는 코드를 작성하시오. 즉, 프로그램 수행 후 s3.txt에 있는 파일 내용은 다음과 같다."
   ]
  },
  {
   "cell_type": "code",
   "execution_count": 48,
   "metadata": {
    "collapsed": true
   },
   "outputs": [],
   "source": [
    "lines = []\n",
    "count = 0\n",
    "with open('s.txt', 'r') as f:\n",
    "    lines = f.readlines()\n",
    "lines = \"\".join(lines)\n",
    "lines = lines.split()\n",
    "with open('s3.txt', 'w') as f:\n",
    "    for i in lines:\n",
    "        f.write(i + \" \")\n",
    "        count = count + 1\n",
    "        if count == 3:\n",
    "            count = 0\n",
    "            f.write(\"\\n\")\n",
    "        "
   ]
  },
  {
   "cell_type": "markdown",
   "metadata": {},
   "source": [
    "설명 : 단어별로 리스트에 저장한다음에 다시 그걸 f.write()함수로 단어별로 저장한다. 이때 단어갯수를 count로 세어서 3이 되는순간에 count를 다시 0으로 초기화시킨다음, 줄바꿈문자인 \\n를 write한다."
   ]
  },
  {
   "cell_type": "markdown",
   "metadata": {},
   "source": [
    "### 2번 문제 : \n",
    "### 다음과 같은 조건들을 참고하여 회원 가입 및 로그인 프로그램을 작성하시오.\n",
    "* 1) 프로그램 시작 후 다음과 같은 메시지가 출력되어 1, 2, 3 중 하나의 값을 입력 받도록 한다.\n",
    "* 2) 1을 선택하면 ID, Password, Name, School의 4가지 정보를 입력받아 파일에 저장하는 프로그램을 작성한다.\n",
    "* 3) 2를 선택하면 ID, Password의 2가지 정보를 입력받는 프로그램을 작성한다."
   ]
  },
  {
   "cell_type": "code",
   "execution_count": 11,
   "metadata": {
    "collapsed": true
   },
   "outputs": [],
   "source": [
    "import hashlib\n",
    "def encrypted_password(s):\n",
    "    hasher = hashlib.sha1()\n",
    "    password_plain = s.encode('utf-8')\n",
    "    password_encrypted = hashlib.new(\"ripemd160\")\n",
    "    password_encrypted.update(password_plain)\n",
    "    return password_encrypted.hexdigest()\n",
    "\n",
    "def _print():\n",
    "    print(\"Welcome to Our Service\")\n",
    "    print()\n",
    "    print(\"1. Sign Up\")\n",
    "    print(\"2. Sign In\")\n",
    "    print(\"3. Quit\")\n",
    "\n",
    "def select_menu(key):\n",
    "    if key == 1:\n",
    "        _save_user_id()\n",
    "        _save_user_password()\n",
    "        _save_user_name()\n",
    "        _save_user_school()\n",
    "    elif key == 2:\n",
    "        _sign_in()\n",
    "    elif key == 3:\n",
    "        print(\"Program Exit\")\n",
    "    else:\n",
    "        print(\"ERORR\")\n",
    "def _save_user_id():\n",
    "    with open('access.txt', 'r') as f1:\n",
    "        s = f1.read()\n",
    "        while True :\n",
    "            information = input(\"id : \")\n",
    "            with open('access.txt', 'a') as f:\n",
    "                if information in s:\n",
    "                    print(\"Sorry, the entered ID is already used.\")\n",
    "                    continue \n",
    "                else :\n",
    "                    ID = \"[\" + information + \"]: \"\n",
    "                    f.write(ID)\n",
    "                    return\n",
    "def _save_user_password():\n",
    "    with open('access.txt', 'r') as f1:\n",
    "        s = f1.read()\n",
    "        while True :\n",
    "            information = input(\"password : \")\n",
    "            information = encrypted_password(information)\n",
    "            with open('access.txt', 'a') as f:\n",
    "                if str(information) in s:\n",
    "                    print(\"Sorry, the entered password is already used.\")\n",
    "                    continue \n",
    "                else :\n",
    "                    password = \"[\" + str(information) + \"], \"\n",
    "                    f.write(password)\n",
    "                    return\n",
    "def _save_user_name():\n",
    "    with open('access.txt', 'r') as f1:\n",
    "        s = f1.read()\n",
    "        while True :\n",
    "            information = input(\"name : \")\n",
    "            with open('access.txt', 'a') as f:\n",
    "                name = \"[\" + information + \"], \"\n",
    "                f.write(name)\n",
    "                return\n",
    "def _save_user_school():\n",
    "    with open('access.txt', 'r') as f1:\n",
    "        s = f1.read()\n",
    "        while True :\n",
    "            information = input(\"school : \")\n",
    "            with open('access.txt', 'a') as f:\n",
    "                school = \"[\" + information + \"]\\n\"\n",
    "                f.write(school)\n",
    "                return\n",
    "def _sign_in():\n",
    "    ID = input(\"id : \")\n",
    "    password = input(\"password : \")\n",
    "    password = encrypted_password(password)\n",
    "    with open('access.txt', 'r') as f:\n",
    "        s = f.read()\n",
    "        s = s.split(\"\\n\")\n",
    "        for i in s:\n",
    "            if ID in i:\n",
    "                if password in i:\n",
    "                    i = i.split()\n",
    "                    i[2] = i[2].strip(\",\")\n",
    "                    print(\"Hello \" + i[2] + \"!\")\n",
    "                    return\n",
    "                else :\n",
    "                    print(\"Sorry, the entered password is not correct.\")\n",
    "                    return\n",
    "        else :\n",
    "            print(\"Sorry, you are not a registered member\")\n",
    "            return\n",
    "def main_system():\n",
    "    key = 0\n",
    "    while key < 3:\n",
    "        _print()\n",
    "        key = int(input())\n",
    "        select_menu(key)"
   ]
  },
  {
   "cell_type": "code",
   "execution_count": 13,
   "metadata": {
    "scrolled": true
   },
   "outputs": [
    {
     "name": "stdout",
     "output_type": "stream",
     "text": [
      "Welcome to Our Service\n",
      "\n",
      "1. Sign Up\n",
      "2. Sign In\n",
      "3. Quit\n",
      "2\n",
      "id : chleowns13\n",
      "password : dmdrk12\n",
      "Hello [choidaejuun]!\n",
      "Welcome to Our Service\n",
      "\n",
      "1. Sign Up\n",
      "2. Sign In\n",
      "3. Quit\n",
      "2\n",
      "id : chleowns13\n",
      "password : dmdrk123\n",
      "Sorry, the entered password is not correct.\n",
      "Welcome to Our Service\n",
      "\n",
      "1. Sign Up\n",
      "2. Sign In\n",
      "3. Quit\n",
      "1\n",
      "id : chleowns13\n",
      "Sorry, the entered ID is already used.\n",
      "id : chleowns15\n",
      "password : dmdrk12\n",
      "Sorry, the entered password is already used.\n",
      "password : dmdrk123\n",
      "name : choidaejune\n",
      "school : godOfHighschool\n",
      "Welcome to Our Service\n",
      "\n",
      "1. Sign Up\n",
      "2. Sign In\n",
      "3. Quit\n",
      "2\n",
      "id : chleowns15\n",
      "password : dmdrk123\n",
      "Hello [choidaejune]!\n",
      "Welcome to Our Service\n",
      "\n",
      "1. Sign Up\n",
      "2. Sign In\n",
      "3. Quit\n",
      "3\n",
      "Program Exit\n"
     ]
    }
   ],
   "source": [
    "main_system()"
   ]
  },
  {
   "cell_type": "markdown",
   "metadata": {},
   "source": [
    "설명 : 일단 회원가입함수를 만들기로 하였고, _save_user_id,_save_user_password,_save_user_name,_save_user_school의 함수를 만들었다. 이때 password는 암호화를 시켜서 이전에 파일에 있는 암호와 비교하여 없으면 집어넣게 하였다.(있으면 다시 입력받게끔 하였다.) \n",
    "암호화를 위해서 encrypted_password라는 함수를 만들었고, 문자열 인수를 받아서 hashlib.new에 넣었는데 안되어서 구글링해서 찾아보니 encode함수를 이용해 인코딩을 하면 된다고 하여 그렇게 하였다. return password_encrypted.hexdigest()으로 이거 자체를 반환하지 않고 return password_encrypted를 반환하면 해쉬코드의 주소값이 나오게 되어 암호를 비교할수가 없다는것을 깨닫게 되었다. 암호화함수를 만들고, 이제 로그인하는 함수를 만들었다. access파일을 열어서 안에 있는것을 가지고와서 id와 password를 안에 있는지 in연산자로 확인하고 있으면 로그인되어서 안에 저장했던 name을 출력하도록 하였다. (없으면 다시 메뉴로 가게끔 하였다.) 위의 예시는 전에 sign up함수로 파일에 아이디와 패스워드를 저장해놓고 다시한번 켜서 파일에 저장되었던것들이 다시 프로그램이 켜져서도 잘되는지 확인한 실행결과이다. 보면 잘된다!"
   ]
  },
  {
   "cell_type": "markdown",
   "metadata": {},
   "source": [
    "### 3번 문제 :\n",
    "### range() 함수와 유사한 frange() 함수를 다음 조건을 참고하여 만드시오\n",
    "* 1)frange()의 인자 구성은 다음과 같이 range와 동일하지만 각 인수들은 음수를 받지 않는다고 가정한다.\n",
    "* 2) frange() 함수의 인자에 대한 기본 시작(start) 값은 0.0이고, 기본 단계(step) 값은 0.1이다"
   ]
  },
  {
   "cell_type": "code",
   "execution_count": 7,
   "metadata": {
    "collapsed": true
   },
   "outputs": [],
   "source": [
    "\n",
    "def frange(*args):\n",
    "    l=[]\n",
    "    count = 0.0\n",
    "    if len(args) == 1:\n",
    "        start = 0.0\n",
    "        step = 0.1\n",
    "        stop = args[0]\n",
    "    elif len(args) == 2:\n",
    "        (start, stop) = args\n",
    "        step = 0.1\n",
    "    elif len(args) == 3:\n",
    "        (start, stop, step) = args\n",
    "    count = start\n",
    "    while stop > count:\n",
    "        l.append(count)\n",
    "        count = count + step\n",
    "    return l"
   ]
  },
  {
   "cell_type": "code",
   "execution_count": 8,
   "metadata": {},
   "outputs": [
    {
     "name": "stdout",
     "output_type": "stream",
     "text": [
      "[0.0, 0.1, 0.2, 0.30000000000000004, 0.4]\n",
      "[0.6, 0.7, 0.7999999999999999, 0.8999999999999999]\n",
      "[0.3, 0.6, 0.8999999999999999, 1.2]\n"
     ]
    }
   ],
   "source": [
    "print(frange(0.5))\n",
    "print(frange(0.6, 0.9))\n",
    "print(frange(0.3, 1.5, 0.3))"
   ]
  },
  {
   "cell_type": "markdown",
   "metadata": {
    "collapsed": true
   },
   "source": [
    "설명 : 처음에는 인수로 start, stop, step을 줘서 하려고 하였으나 default값을 start,step에 줘야 하는데 그럼 오류가 나는 문제가 있어서 한참 고민했다. 클래스로도 해보구, 그러다가 가변인수로 하는걸 생각해봤다. 가변인수 한개만 주어졌을대는 가변인수를 stop으로 주고, 함수에서 start와 step을 0과 0.1로 따로 줘도 되지 않나 생각했고, 가변인수가 2개이면 차례대로 언패킹하여 start, stop에 주면 되었다 물론 step = 0.1, 가변인수가 3개일때는 start,stop,step을 차례대로 언패킹하여 주고 while문으로 반복을 하면 되었다.\n",
    "출력결과에서 0.3000000000000000004는 왜저렇게 나오는지 모르겠다. 분명 0.1을 더해줬는데 ,, 데이터상 문제인것같다.."
   ]
  },
  {
   "cell_type": "markdown",
   "metadata": {},
   "source": [
    "### 4번 문제 : \n",
    "### 가변인수를 받는 함수 sum()을 다음과 같은 조건을 참고하여 구현하시오.\n"
   ]
  },
  {
   "cell_type": "code",
   "execution_count": 25,
   "metadata": {},
   "outputs": [
    {
     "name": "stdout",
     "output_type": "stream",
     "text": [
      "28\n"
     ]
    }
   ],
   "source": [
    "def sum(a = 0, *args):\n",
    "    total = a\n",
    "    for i in args:\n",
    "        total = total + i\n",
    "    return total\n",
    "result = sum(1,2,3,4,5,6,7)\n",
    "print(result)"
   ]
  },
  {
   "cell_type": "markdown",
   "metadata": {},
   "source": [
    "설명 : sum이란 함수를 정의한다 인수로는 a와 가변인수args를 둔다. 함수안에서는 total이라는 변수를 두어 a와 가변인수들을 총 더한 값을 밖으로 반환한다. 가변인수는 튜플형태로 함수로 들어오므로 for문을 통해 튜플안의 원소들을 다 더하게 된다."
   ]
  },
  {
   "cell_type": "markdown",
   "metadata": {},
   "source": [
    "### 5번 문제 : \n",
    "### 여러 단어로 이루어진 문자열을 입력받아 각 단어의 첫글자로 이루어진 단어를 대문자로 출력하는 myinitial() 함수를 다음 조건을 참고하여 작성하시오.\n",
    "* 1) 다음에 제시되는 함수들을 모두 이용해야 한다.\n",
    " * split\n",
    " * map\n",
    " * join\n",
    "* 2) myinitial()함수 사용 예\n",
    " * myinitial(\"as soon as possible\")\n",
    "   * ASAP"
   ]
  },
  {
   "cell_type": "code",
   "execution_count": 72,
   "metadata": {},
   "outputs": [
    {
     "name": "stdout",
     "output_type": "stream",
     "text": [
      "CDJ\n"
     ]
    }
   ],
   "source": [
    "def Upper(s):\n",
    "    return s.upper()\n",
    "\n",
    "def myinitial(s):\n",
    "    s = s.split()\n",
    "    for i in range(len(s)):\n",
    "        s[i] = s[i][0]\n",
    "    s = list(map(Upper, s))\n",
    "    s = \"\".join(s)\n",
    "    return s\n",
    "print(myinitial(\"choi dae june\"))"
   ]
  },
  {
   "cell_type": "markdown",
   "metadata": {},
   "source": [
    "설명 : split, map, join함수들을 모두 이용해야 하므로 일단 map함수를 이용하기 위해 문자열을 받으면 대문자열로 반환하는 함수를 만들었다(왜 인지는 모르겠지만 문자열 메소드 upper를 직접적으로 map의 함수인자로 줄수가 없었다.). 그리고나서 myinitial함수에 문자열 s를 입력받으면, split함수로 문자열들을 단어로써 리스트에 저장하고, for문으로 문자열들을 앞에 한글자만 남게 만든다. 그리고 나서 map함수를 이용해서 아까 만들었던 함수를 인자로 주고, s 또한 준다. s가 리스트이므로 앞에 list()를 씌워준다. 그러면 s에 대문자로 글자들이 리스트형태로 저장되게 된다. 이걸 join함수로 붙여주면 끝이다."
   ]
  },
  {
   "cell_type": "markdown",
   "metadata": {},
   "source": [
    "### 6번 문제 : \n",
    "### 음이 아닌 정수 n를 입력받으면 n!(factorial)을 계산하는 myfact()함수를 재귀적 함수로 구현하시고.\n",
    "* [옵션] 참을 수 있는 정도 만큼의 수행시간을 직접 기다려보면서 n을 늘려보도록 합시다."
   ]
  },
  {
   "cell_type": "code",
   "execution_count": 47,
   "metadata": {},
   "outputs": [
    {
     "name": "stdout",
     "output_type": "stream",
     "text": [
      "67526802209645841583879061361800814224269427869589384312198268703685091643180416969132446952698303794226010370578672908593198347699886928591906501031587651846976759681112609524787093848004428636186893395272784450630354080243217646658024696659065951793757223520229235577548653833681102170973893746054649126415909143150172860721156685810655759230011450132992176454983227538696340112610447029002337004887877266387704586077293585433151612518800147764461182680822867092786694982831838641800997499819339206579415325649748486265233918911087114592440896594062675914294925816719862178374679272092637524786939036290035924271782253738059886933923447877769583003016705363339031413069155837518524761078342052635475632113169618774549275701480106933362990003732589370593557325299434734459295866728988740794174654391479926000848846686708729736713207285203712732201272410830836913052635365082888725171636081587151603468291106754640398232146673627370895934090777828827549554232436190464827998683927179246029919443251026464452337939599198528297828591122689960620361238248313158071643395848405047261412680039877733761849874447323867911712630023171745968278465780558568067035013885275080292137360491875164947724464221693533755035300065350065137490832039523382963747026185653050331832380991844842560750923543775188582096487476950254418365198999674684417286265442786651594404781622946901879166382930714196908227460133027605817864877377712193142137625430353718448269390732615776645283198828602917680224041088993892610506802195917247838900106910698057030379190571057605849323113308634452008179881165616449767648354161225066967961297609698742737923389391615207441152319392845687673311899247085327703421862972871644495409572259985563215471482083325653231777113271326579970310755604973969708949477374254974480294652427022436705380184064008853457214518515270985563195412993145274057688634448812449445800617631162768243125606424844709372022149908463572254912654907763445758543980999149122998104378965626781898655221443263601405152073199706585080288735040205417371277253096243200000000000000000000000000000000000000000000000000000000000000000000000000000000000000000000000000000000000000000000000000000000000000000000000000000000000000000000000000000000000000000000000000000000000000000000000000000000\n"
     ]
    }
   ],
   "source": [
    "def myfact(a):\n",
    "    if a < 0:\n",
    "        return\n",
    "    if a == 1:\n",
    "        return 1\n",
    "    return a * myfact(a-1)\n",
    "print(myfact(900))"
   ]
  },
  {
   "cell_type": "markdown",
   "metadata": {},
   "source": [
    "설명 : 재귀적으로 짜야 하므로, 반환할때 자기자신의 함수를 또 호출하게 된다. 이때 if a == 1 이면 자기자신의 함수를 a에 곱하던것을 그만두고 1를 반환하게 되면 재귀가 끝나게 되고, 1* 2* 3* 4* 5순으로 연산되면서 최종 처음 myfact에서 총 값을 리턴하게 된다. 900!까지 되는것 같다. 숫자가 어마어마하게 크다. 수행시간은 그리 길지 않았다."
   ]
  },
  {
   "cell_type": "markdown",
   "metadata": {},
   "source": [
    "### 7번 문제 : \n",
    "### import string 과 from string import *의 차이점을 성명하시오."
   ]
  },
  {
   "cell_type": "markdown",
   "metadata": {},
   "source": [
    "설명 : import string 하면 string모듈의 모든 함수들을 불러 오게 되고, from string import punctuation을 하면 punctuation만 가지고 와서 사용할수 있게 된다. 이때 *을 사용하면 모든 함수들을 불러들이게 된다. ('__'로 시작되는 이름들을 제외하고)  \n",
    "또한 import는 이름공간이 유지되므로 모듈을 이용할때 string.을 붙여야 하고, (예 import string; string.punctuation)"
   ]
  },
  {
   "cell_type": "markdown",
   "metadata": {},
   "source": [
    "from string import 를 하게 되면 이름공간없이 모듈을 사용할수 있다.(예 from string import punctuation; punctuation)"
   ]
  },
  {
   "cell_type": "markdown",
   "metadata": {},
   "source": [
    "### 8번 문제 : \n",
    "### 이전 Assignment 3의 마지막 문제는 웹 URL로 지정된 웹페이지를 문자열로 가져와 모든 HTML 태그 및 CSS와 Javascript를 제외한 순수 텍스트를 얻어내고 그 안에 존재하는 단어를 추출하여 각 단어들에 대해 출현빈도를 사전형태({'world': 2, 'hello': 1, 'python': 1})로 저장하여 출력하는 것이었다. 이번에는 Assignment 3를 확장하여 다음과 같은 조건을 만족하도록 구현하시오.\n",
    "* 1)다음 사이트에서 제시되는 영어 불용어 (Stop words)를 참고하여 이전 숙제에서 구성했던 단어 사전에서 영어 불용어들을 모두 제거하는 코드를 추가하시오.\n",
    "* 2) 각 URL로 지정된 웹페이지의 HTML 소스를 파일로 저장하시오\n",
    "* 3) 단어의 출현빈도가 담긴 사전 객체를 위 HTML 소스 파일과 동일한 폴더에 파일로 저장하시오.\n",
    "* 4) 최소 5개 이상의 영어 웹 사이트 각각에 대한 HTML 소스 파일과 단어 출현빈도 파일을 저장하시오. \n",
    "* 5) 위 문제에서 저장한 모든 words.frequency 파일들을 객체로 다시 로드하여 본인이 저장하여 분석한 사이트들 각각에 대해서 가장 많이 출현한 단어 3개씩를 뽑아 제시하시오.\n",
    "* 6) 간단한 검색엔진 코딩 (Like Google!!!)\n",
    "* 7) 필수사항 ◾본인이 생각하기에 상업적인 완성도 높은 검색 로봇/엔진이 되려면 어떤 기능들이 추가적으로 구현되어야 할지 최소 3가지 이상 제시하시오\n",
    "* ◾위에서 만든 검색엔진 코딩은 매우 간단한 것이라 부족한 점이 많이 존재한다."
   ]
  },
  {
   "cell_type": "code",
   "execution_count": 143,
   "metadata": {
    "collapsed": true
   },
   "outputs": [],
   "source": [
    "# -*- coding:utf-8 -*-\n",
    "from urllib import request \n",
    "import pickle\n",
    "#html에서 자바스크립트코드와, 스타일 코드를 삭제하는 함수이다.\n",
    "def html_java_script_and_style_del(html_source):\n",
    "    s1 = \"\"\n",
    "    switch = False\n",
    "    switch2 = 0\n",
    "    start = 0\n",
    "    end = 0\n",
    "    for i in range(len(html_source)):\n",
    "        if switch2 == False:\n",
    "            html_source = html_source[:start] + (end - start)*\" \" + html_source[end:]\n",
    "            switch2 = True\n",
    "        if html_source[i] == '<':\n",
    "            switch = True\n",
    "            s1 = \"\"\n",
    "        if switch == True:\n",
    "            s1 = s1 + html_source[i]    \n",
    "        if s1 == '<script' or s1 == '<style' :\n",
    "            switch2 = True\n",
    "            if s1 == '<script':\n",
    "                start = i-6\n",
    "            else :\n",
    "                start = i-5\n",
    "        if s1 == '</script' or s1 == '</style':\n",
    "            switch2 =False\n",
    "            if s1 == '</script':\n",
    "                end = i-7\n",
    "            else :\n",
    "                end = i-6\n",
    "        if html_source[i] == '>':\n",
    "            switch = False\n",
    "    return html_source\n",
    "#html소스코드에서 html태그를 삭제하는 함수이다. 저번에 짠 코드를 함수화 시켰다.\n",
    "def html_code_del(html_source):\n",
    "    count = 0\n",
    "    switch = 0\n",
    "    for i in html_source:\n",
    "        if i == '<':\n",
    "            switch = True\n",
    "        if switch == True:\n",
    "            html_source = html_source[:count] + ' ' + html_source[count+1:]\n",
    "        if i == '>':\n",
    "            switch = False\n",
    "        count = count + 1\n",
    "    wordList = html_source.split()\n",
    "    return wordList\n",
    "#단어 리스트에서 구두문자를 제거한 리스트를 반환하는 함수이다.\n",
    "import string\n",
    "def punctuation_del(List):\n",
    "    punctuationList = [string.punctuation[i] for i in range(len(string.punctuation))]\n",
    "    for i in range(len(List)):\n",
    "        for j in range(len(List[i])):\n",
    "            for k in range(len(punctuationList)):\n",
    "                if List[i][j] == punctuationList[k]:\n",
    "                    List[i] = List[i][:j] + \" \" + List[i][j+1:]\n",
    "    List = \" \".join(List)\n",
    "    List = List.split()\n",
    "    return List\n",
    "\n",
    "#리스트에서 똑같은 단어를 찾는 함수이다. (단어, 중복단어의수)의 리스트로 반환한다.\n",
    "def same_string_num(List):\n",
    "    listValue = []\n",
    "    for i in range(len(List)):\n",
    "        count = 0\n",
    "        for j in range(len(List)):\n",
    "            if List[i] == List[j]:\n",
    "                count = count + 1\n",
    "        listValue.append(count)\n",
    "    totalList = zip(List, listValue)\n",
    "    return totalList\n",
    "# 여기서부터가 4번 과제 함수이다!!\n",
    "\n",
    "#영어 불용어를 제거하는 함수이다.\n",
    "def dict_del_stopWords(wordListForDict): #사전을 받는다.\n",
    "    with open('stopWords.txt', 'r') as f: #with as문으로 내가 저장했던 영어불용어 텍스트파일을 열어 read()한다.\n",
    "        stopWordList = f.read()\n",
    "    stopLowWordList = stopWordList.split() #split함수로 단어만 리스트로 저장한다.\n",
    "    stopUpperWordList = list(map(Capitalize, stopLowWordList)) #여기서 맨앞한글자가 대문자인 불용어가 있을수 있으므로 map함수를 이용해 앞글자만 대문자로 만든다.\n",
    "    for i in stopLowWordList:   #for문을 이용해서 불용어에 하나씩 접근하여 if문으로 in연산자를 이용해 불용어가 있는지 확인후 제거한다.\n",
    "        if i in wordListForDict:\n",
    "            del wordListForDict[i]\n",
    "    for j in stopUpperWordList: # 대문자인 불용어도 제거한다.\n",
    "        if j in wordListForDict:\n",
    "            del wordListForDict[j]\n",
    "    return wordListForDict\n",
    "#map함수를 이용하기 위해 만든 함수.\n",
    "def Capitalize(s): #map의 함수인수로 주기 위해서 만들었다 문자열을 맨앞 한문자만 대문자로 바꾸기 위해서 스트링 내장함수인 capitalize를 이용하였따.\n",
    "    return s.capitalize()\n",
    "#html소스를 파일로 저장하는 함수.\n",
    "def html_source_save(site_url, source):  #url과 source문자열을 받는 함수이다.\n",
    "    url = site_url.split(\"//\") #url은 http://부분은 필요없으므로 걸러주고 저장할 파일의 이름으로 써서 \n",
    "    with open(url[1] + '.html', 'w', encoding='utf8') as file: #파일에 소스코드들을 출력한다.\n",
    "        file.write(source)\n",
    "#피클 모듈을 이용해 사전객체를 파일로 저장한다.\n",
    "def pickling_dict_word(wordListForDict, site_url):\n",
    "    url = site_url.split(\"//\") #이름이 url 주소가 되야 하므로..\n",
    "    with open(url[1] + '.words.frequency', 'wb') as file:  #with as문으로 file에 이진쓰기버젼으로 열어서 \n",
    "        pickle.dump(wordListForDict, file)   #pickle.dump함수를 이용해 사전객체를 저장한다.\n",
    "#피클모듈을 이용해 사전객체를 파일로 저장한것을 불러온다.\n",
    "def unpickling_dict_word(site_url):\n",
    "    url = site_url.split(\"//\") #url을 받아서 http://부분을 뺀 이름의 파일을 열어서 pickle.load함수를 이용하여 객체를 받아온다.\n",
    "    with open(url[1] + '.words.frequency','rb') as file:\n",
    "        return pickle.load(file)\n",
    "#사전의 값을 정렬하여 가장 값이 큰 3개의 단어를 보여주는 함수이다.\n",
    "def three_words_list(s): #사전을 받아서 키값과 밸류값을 튜플로 받아서 sorted함수를 이용하여 밸류값을 기준으로 역순정렬한다 \n",
    "    s = s.items()\n",
    "    s = sorted(s, key = element_2, reverse = True)\n",
    "    List = [s[x][0] for x in range(3)] #가장 큰 밸류값이 큰 3개만 리스트에 저장해서 반환한다.\n",
    "    return List\n",
    "#sorted함수의 정렬기준을 바꿀 함수이다.\n",
    "def element_2(a):\n",
    "    return a[1]\n",
    "#메인 함수\n",
    "def main_system(site_url): #함수들을 총 이용해서 단어의 출현빈도를 밸류값으로 한 사전을 반환한다.\n",
    "    url = site_url\n",
    "    f = request.urlopen(url)\n",
    "    source_bytes = f.read()\n",
    "    source = source_bytes.decode('utf-8')\n",
    "    html_source_save(site_url, source)\n",
    "    source = source.strip()\n",
    "    wordList = html_java_script_and_style_del(source)\n",
    "    wordList = html_code_del(wordList)\n",
    "    wordList = punctuation_del(wordList)\n",
    "    wordListForDict= dict(same_string_num(wordList))\n",
    "    wordListForDict = dict_del_stopWords(wordListForDict)\n",
    "    pickling_dict_word(wordListForDict, url)\n",
    "    return wordListForDict\n",
    "\n",
    "#단어를 검색하는 함수이다. \n",
    "def searchRobot():\n",
    "    word = input()\n",
    "    count = 0 #이걸로 비슷한 단어들의 출현빈도를 다 세어서 사전에 저장할것이다.\n",
    "    index = 0 #이걸로는 siteUrl의 인덱스로써 사용해서 similarity사전에 siteUrl과 count의 값들이 들어가는 용도로 사용할것이다.\n",
    "    similarity = {}\n",
    "    nytimes = unpickling_dict_word('http://www.nytimes.com')  #main_system함수를 불러서 해야하는것이 맞지만 unpickling_dict_word로 main_System함수로 처리해서 나온 사전객체를 불러와봤다. main_system함수를 불러도 된다.\n",
    "    stackOverFlow = unpickling_dict_word('https://www.stackoverflow.com')\n",
    "    nature = unpickling_dict_word('http://www.nature.com')\n",
    "    steam  = unpickling_dict_word('http://store.steampowered.com')\n",
    "    oxfam  = unpickling_dict_word('https://www.oxfam.org')\n",
    "    \n",
    "    siteList = [nytimes, stackOverFlow, nature, steam, oxfam]  #내가 저장해놓은 사이트들의 사전객체를 리스트에 묶어 놓았다.\n",
    "    siteUrl = ['http://www.nytimes.com', 'https://www.stackoverflow.com', 'http://www.nature.com', 'http://store.steampowered.com', 'https://www.oxfam.org']\n",
    "    for i in siteList:   # 위의 url문자열들은 for문을 이용해서 similarity사전에 key값으로 넣기위해 만들었다.\n",
    "        for j in i:      #for문으로 사전의 단어가 사용자가 입력한 단어를 포함하거나 같다면 그것의 출현빈도를 합친다\n",
    "            if j.find(word) != -1:\n",
    "                count = count + i[j]\n",
    "        similarity[siteUrl[index]] = count\n",
    "        count = 0\n",
    "        index = index + 1\n",
    "    similarityList = sorted(similarity.items(), key = element_2, reverse = True) #유사도 사전의 키값과 밸류값을 튜플로 꺼내는 .items()를 이용하여 꺼내서 sorted함수를 이용하여 밸류값을 기준으로 역순정렬한다.\n",
    "    for i in range(len(similarityList)): #리스트에 저장된 튜플에서 키값을 순차적으로 출력한다.\n",
    "        print(similarityList[i][0])"
   ]
  },
  {
   "cell_type": "code",
   "execution_count": 70,
   "metadata": {
    "collapsed": true
   },
   "outputs": [],
   "source": [
    "nytimes = main_system('http://www.nytimes.com')\n",
    "stackOverFlow = main_system('https://www.stackoverflow.com')\n",
    "nature = main_system('http://www.nature.com')\n",
    "steam = main_system('http://store.steampowered.com')\n",
    "oxfam = main_system('https://www.oxfam.org')"
   ]
  },
  {
   "cell_type": "code",
   "execution_count": 78,
   "metadata": {
    "scrolled": true
   },
   "outputs": [
    {
     "name": "stdout",
     "output_type": "stream",
     "text": [
      "['raquo', 'Thanksgiving', 'Times']\n",
      "['0', 'ago', 'views']\n",
      "['Nature', '2017', 'November']\n",
      "['₩', '000', 'nbsp']\n",
      "['Oxfam', 'Join', 'Twitter']\n"
     ]
    }
   ],
   "source": [
    "nytimes = unpickling_dict_word('http://www.nytimes.com')\n",
    "stackOverFlow = unpickling_dict_word('https://www.stackoverflow.com')\n",
    "nature = unpickling_dict_word('http://www.nature.com')\n",
    "steam  = unpickling_dict_word('http://store.steampowered.com')\n",
    "oxfam  = unpickling_dict_word('https://www.oxfam.org')\n",
    "print(three_words_list(nytimes))\n",
    "print(three_words_list(stackOverFlow))\n",
    "print(three_words_list(nature))\n",
    "print(three_words_list(steam))\n",
    "print(three_words_list(oxfam))   "
   ]
  },
  {
   "cell_type": "markdown",
   "metadata": {},
   "source": [
    "설명 : 상당히 많은 함수들을 추가하였다. 또한 밑에 있는 searchRobot이 최종 단어를 검색하는 함수가 되었다. 일단 영어 불용어를 제거하기 위해 dict_del_stopWords이란 함수를 추가하여 제거하였다. 이때 영어 불용어를 텍스트파일에 복붙해서 폴더에 저장한후 read()하여 사용했다. 이때 불용어가 문장의 맨앞에 올수도 있다는 생각이 들어서 (앞에 한문자가 대문자로 바뀌는경우) map이란 함수를 이용해서 영어 불용어 단어들을 맨앞 한문자만 대문자로 바꿔 한번더 for문을 돌렸다. map이란 함수에서 capitalize라는 스트링 내장함수를 이용하려고 햇는데 안되서 따로 Capitalize 라는 함수를 내가 만들어서 map의 인수로 주었다. 이렇게 영어 불용어를 삭제한후, pickling_dict_word함수를 이용해서 pickle 모듈을 사용하여 파일로 사전객체를 저장햇다. 그리고 unpickling_dict_word함수를 이용해서 사전객체들을 다시 불러오기도 하였다. 이때 인수로 갖는것은 url주소 문자열이다. 사전객체를 다시 불러와서 이번에는 단어의 출현빈도가 가장 많은 단어 3개를 선별하는 함수 three_words_list를 만들었다. (함수 어떻게 돌아가는지는 위의 함수코드들을 모아놓은 곳에서 설명하겠습니다!!) \n",
    "그래서 내가 선별한 5개의 사이트를 돌려보았다. 내가 선별한 사이트는 nytimes(뉴욕타임즈), stackOverFlow(스택오버플로우. 우리가 많이 본 사이트), nature(네이쳐 사이언스), steam(스팀. 게임 구매 사이트), oxfam(기부 후원 사이트)이다. 돌렸더니 뉴욕타임즈는 raquo, Thanksgiving, Times가 나왔는데, raquo는 검색해봤더니 <<이런뜻이었다 ,, 왜나온건지 모르겠다 내가 소스코드를 잘못고른건가 싶기도 했다,,\n",
    "두번째는 Thanksgiving인데 미국은 요근래에 추수감사절이여서 단어가 많이 나왔나 보다, 세번째로는 Times인데 New York Times에서 Times같다.,,\n",
    "이런식으로 사이트마다 특징이 고로 나온것같아서 잘한것 같았다!"
   ]
  },
  {
   "cell_type": "code",
   "execution_count": 144,
   "metadata": {},
   "outputs": [
    {
     "name": "stdout",
     "output_type": "stream",
     "text": [
      "list\n",
      "https://www.stackoverflow.com\n",
      "http://store.steampowered.com\n",
      "http://www.nytimes.com\n",
      "http://www.nature.com\n",
      "https://www.oxfam.org\n"
     ]
    }
   ],
   "source": [
    "searchRobot()"
   ]
  },
  {
   "cell_type": "markdown",
   "metadata": {},
   "source": [
    "설명 : searchRobot함수를 호출하면 사용자로부터 단어를 입력받는다. 그러면 미리 준비해놓은 5개의 사이트의 단어 사전을 비교해서 유사도가 높은 순으로 사이트를 출력하게 된다. 함수의 자세한 설명은 위의 함수코드를 적어놓은 셀에 써놓았다. list라는 단어를 치자 가장 연관성 높은 stackoverflow사이트가 먼저 나왔다. stackoverflow사이트는 프로그래밍 사이트로써 python의 list때문에 유사도가 가장 높게 나온것같다."
   ]
  },
  {
   "cell_type": "markdown",
   "metadata": {},
   "source": [
    "* 7)필수사항 : 본인이 생각하기에 상업적인 완성도 높은 검색 로봇/엔진이 되려면 어떤 기능들이 추가적으로 구현되어야 할지 최소 3가지 이상 제시하시오. "
   ]
  },
  {
   "cell_type": "markdown",
   "metadata": {},
   "source": [
    "##### 필수사항 : 일단 띄어쓰기를 기준으로 단어를 선정하다보니 New Yorks이런것이 잘려서 나왔다. 이런 단어들을 엔진에서 걸려서 하나의 단어 취급한다면 더 좋을것 같다라는 생각이 들었다. 또한 추가적으로 매우 간단한 검색엔진이라 걸려야 할 단어를 좀더 추가해야 할것 같고, similarity를 더 높히기 위해서 단어마다 글자하나하나 검색한 단어와 맞는지를 보아서 사용자에게 제시해주면 좋을것 같았고, 만약 사과를 tkrhk라고 쳤을때 사과의 경우도 검색되는 기능도 추가하면 좋을거 같다. 또한 친 단어와 비슷한 검색단어또한 알려주면 좋을것이다. 그리구 내가 저장해놓은 url5개뿐만이 아니라 다른 사이트들의 url을 연결해서 소스를 가져와 단어를 찾는식으로 더욱더 많은 사이트들의 단어를 검사하여 유사도를 비교해서 가장 적합한 단어를 제시해주는것을 추가적으로 구현되어야 완성도가 높은 로봇이 될것같다."
   ]
  },
  {
   "cell_type": "markdown",
   "metadata": {
    "collapsed": true
   },
   "source": [
    "### 소감 :  요번에는 파일입출력을 다루는 문제가 많았다. 내가 제일 취약한 부분이 파일을 다루는것인데 이 부분을 여러 문제들이 찔러댔던것 같다. 여러 문제들 덕분에 취약했던 부분을 많이 메꾼느낌이다. 마지막 문제는 첫번째 과제서 부터 쭉 이어져서 여기까지 왔는데 잘했다고  느끼것이 함수화를 한것이다. 함수화를 안했더라면 코드가 엄청 지저분해지고 내가 내 코드를 알아보기 힘들었을것이다. 소스코드를 가져와서 html태그, java script코드를 삭제하여 단어만 추출하고, 추출한 단어들을 사전에 출현빈도와 함께 저장, 그것을 다시 영어 불용어를 삭제하고, 사전의 출현빈도가 가장 높은순으로 3개의 단어를 출력하고, 사전객체를 피클모듈을 이용해서 파일로 저장했다가 불러왔다가도 하고, html파일로도 소스코드를 저장해보기도 하고, 마지막으로 그 정리한 사전단어들중에 사용자로부터 입력받은 단어를 비교하여서 유사도가 높은순으로 url를 출력하기도 하였다. 함수를 엄청나게 많이 만든것 같다. 이런 과제들로 인하여 내가 좀더 성장하고 프로그래머로써 어떻게 문제에 다가가야 하는지를 배우는 문제였다."
   ]
  }
 ],
 "metadata": {
  "kernelspec": {
   "display_name": "Python 3",
   "language": "python",
   "name": "python3"
  },
  "language_info": {
   "codemirror_mode": {
    "name": "ipython",
    "version": 3
   },
   "file_extension": ".py",
   "mimetype": "text/x-python",
   "name": "python",
   "nbconvert_exporter": "python",
   "pygments_lexer": "ipython3",
   "version": "3.6.1"
  }
 },
 "nbformat": 4,
 "nbformat_minor": 2
}
